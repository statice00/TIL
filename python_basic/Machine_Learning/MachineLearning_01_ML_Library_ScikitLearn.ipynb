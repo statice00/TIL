{
 "cells": [
  {
   "cell_type": "markdown",
   "id": "9039cb29",
   "metadata": {},
   "source": [
    "기계학습 3가지 종류  \n",
    "- supervisor(지도) : 정답이 있음  \n",
    "- unsupervisor(비지도) : 정답이 없음\n",
    "- reinforcement(강화) : 시행착오를 겪으면서 보상을 최대화함"
   ]
  },
  {
   "cell_type": "markdown",
   "id": "55f518f2",
   "metadata": {},
   "source": [
    "데이터  \n",
    "- 정형 : 관계형db  \n",
    "- 비정형 : 텍스트 이미지 공문서 등    \n",
    "- 반정형 : json xml 등 "
   ]
  },
  {
   "cell_type": "markdown",
   "id": "ff05da37",
   "metadata": {},
   "source": [
    "기계학습에서 혼용하는 같은 의미의 용어  \n",
    "column = feature = dimension - variable"
   ]
  },
  {
   "cell_type": "markdown",
   "id": "253bf01b",
   "metadata": {},
   "source": [
    "데이터셋마다 사용되는 알고리즘이 다르다"
   ]
  },
  {
   "cell_type": "markdown",
   "id": "d72aca0e",
   "metadata": {},
   "source": [
    "### 사이킷런\n",
    "\n",
    "파이썬 머신러닝 라이브러리 중 가장 많이 사용되는 라이브러리 (딥러닝 전문 라이브러리 : 텐서플로, 케라스)\n",
    "\n",
    "Anaconda를 설치하면 기본적으로 사이킷런이 설치되므로 import만 하면 됨\n",
    "\n",
    "datasets : 분류, 회귀 알고리즘에 적용할 데이터 종류가 다름    \n",
    "neighbors : 알고리즘 이름에 classifier, regressor 표시되어있음"
   ]
  },
  {
   "cell_type": "markdown",
   "id": "23893173",
   "metadata": {},
   "source": [
    "사이킷런은 지도학습의 주요 두 축인 분류와 회귀의 다양한 알고리즘을 구현해 fit()과 predict()만을 이용해 간단하게 학습과 예측 결과 반환  \n",
    "사이킷런에서 분류 알고리즘 : Classifier  \n",
    "사이킷런에서 회귀 알고리즘 : Regressor  \n",
    "\n",
    "이 둘을 합쳐 Estimator 클래스라 부른다. 즉, 지도학습의 모든 알고리즘을 구현한 클래스를 통칭해 Estimator 라 부른다.\n",
    "당연히 이 Estimator 클래스는 fit()과 predict()를 내부에서 구현한다.\n",
    "\n",
    "- Estimator  \n",
    "      학습 : fit()  \n",
    "      예측 : predict()\n",
    "\n",
    "    - Classifier  \n",
    "          분류 구현 클래스\n",
    "          DecisionTreeClassifier  \n",
    "          RandomForestClassifier  \n",
    "          GradientBoostingClassifier  \n",
    "          GaussianNB  \n",
    "          SVC  \n",
    "    - Regressor  \n",
    "          회귀 구현 클래스\n",
    "          LinearRegression  \n",
    "          Ridge  \n",
    "          Lasso  \n",
    "          RandomForestRegressor  \n",
    "          GradientBoostingRegressor"
   ]
  },
  {
   "cell_type": "markdown",
   "id": "fb5cdaeb",
   "metadata": {},
   "source": [
    "#### 사이킷런의 주요 모듈  \n",
    "\n",
    "- 예제 데이터  \n",
    "    - sklearn.datasets : 사이킷런에 내장되어 예제로 제공하는 데이터 세트  \n",
    "- 피처 처리  \n",
    "    - sklearn.preprocessing : 데이터 전처리에 필요한 다양한 가공 기능 제공(문자열을 숫자형 코드 값으로 인코딩, 정규화, 스케일링 등)"
   ]
  },
  {
   "cell_type": "markdown",
   "id": "9cfa91f4",
   "metadata": {},
   "source": [
    "#### 프로세스\n",
    "\n",
    "1. 데이터 세트 분리 : 데이터를 학습 데이터와 테스트 데이터로 분리  \n",
    "2. 모델 학습 : 학습 데이터를 기반으로 ML 알고리즘을 적용해 모델을 학습  \n",
    "3. 예측 수행 : 학습된 ML 모델을 이용해 테스트 데이터의 분류를 예측  \n",
    "4. 평가 : 예측된 결과값과 테스트 데이터의 실제 결과값을 비교해 ML 모델 성능 평가"
   ]
  },
  {
   "cell_type": "markdown",
   "id": "77ba523e",
   "metadata": {},
   "source": [
    "### 분류(classification) example을 통한 전체적인 흐름파악"
   ]
  },
  {
   "cell_type": "markdown",
   "id": "956eaf9d",
   "metadata": {},
   "source": [
    "분류는 대표적인 지도학습 중 하나이다. 지도학습은 학습을 위한 다양한 피쳐와 분류 결정값인 레이블(label) 데이터로 모델을 학습한 뒤, 별도의 테스트 데이터 세트에서 미지의 레이블을 예측한다.  \n",
    "\n",
    "즉, 지도학습은 명확한 정답이 주어진 데이터를 먼저 학습한 뒤 미지의 정답을 예측하는 방식이다.  \n",
    "학습을 위해 주어진 데이터 셋을 학습(train)데이터 셋, 머신러닝 모델의 예측 성능을 평가하기 위해 별도로 주어진 데이터 셋을 테스트(test)데이터 셋으로 지칭한다."
   ]
  },
  {
   "cell_type": "markdown",
   "id": "29e7e81f",
   "metadata": {},
   "source": [
    "사이킷런에서 제공하는 붓꽃 데이터 세트를 가져와 붓꽃의 품종을 분류  \n",
    "붓꽃 데이터 세트로 꽃잎의 길이와 너비, 꽃받침의 길이와 너비 피쳐를 기반으로 꽃의 품종을 예측함"
   ]
  },
  {
   "cell_type": "code",
   "execution_count": 1,
   "id": "4ade6ff5",
   "metadata": {},
   "outputs": [],
   "source": [
    "from sklearn.datasets import load_iris\n",
    "from sklearn.tree import DecisionTreeClassifier\n",
    "from sklearn.model_selection import train_test_split"
   ]
  },
  {
   "cell_type": "code",
   "execution_count": 3,
   "id": "033d04b6",
   "metadata": {},
   "outputs": [],
   "source": [
    "import pandas as pd\n",
    "\n",
    "# 붓꽃 데이터 세트를 로딩합니다. \n",
    "iris = load_iris()"
   ]
  },
  {
   "cell_type": "code",
   "execution_count": 29,
   "id": "d3310d94",
   "metadata": {},
   "outputs": [
    {
     "data": {
      "text/plain": [
       "['DESCR',\n",
       " 'data',\n",
       " 'feature_names',\n",
       " 'filename',\n",
       " 'frame',\n",
       " 'target',\n",
       " 'target_names']"
      ]
     },
     "execution_count": 29,
     "metadata": {},
     "output_type": "execute_result"
    }
   ],
   "source": [
    "dir(iris)"
   ]
  },
  {
   "cell_type": "code",
   "execution_count": 19,
   "id": "0a8062dc",
   "metadata": {},
   "outputs": [
    {
     "data": {
      "text/plain": [
       "dict_keys(['data', 'target', 'frame', 'target_names', 'DESCR', 'feature_names', 'filename'])"
      ]
     },
     "execution_count": 19,
     "metadata": {},
     "output_type": "execute_result"
    }
   ],
   "source": [
    "# 실제 데이터 부분은 : 'data'\n",
    "iris.keys()"
   ]
  },
  {
   "cell_type": "code",
   "execution_count": 34,
   "id": "ebcfa322",
   "metadata": {},
   "outputs": [
    {
     "data": {
      "text/plain": [
       "['sepal length (cm)',\n",
       " 'sepal width (cm)',\n",
       " 'petal length (cm)',\n",
       " 'petal width (cm)']"
      ]
     },
     "execution_count": 34,
     "metadata": {},
     "output_type": "execute_result"
    }
   ],
   "source": [
    "# column이 4개 = feature가 4개 = 4차원 = 변수가 4개\n",
    "iris.feature_names"
   ]
  },
  {
   "cell_type": "markdown",
   "id": "4f13387a",
   "metadata": {},
   "source": [
    "- 파이썬 기반의 머신러닝을 제공해주는 사이킷런에서 제공한 데이터(분류, 회귀)를  \n",
    "- 데이터를 가지고 왔으면 EDA를 하고 데이터전처리를 위해 판다스 데이터프레임으로 만들어 사용한다.  \n",
    "- 그래픽 처리를 위해 pandas, matplotlib, seaborn를 사용한다.  \n",
    "\n",
    "변수지정을 따로 하게 된다면 관례상 행렬은 대문자, 벡터는 소문자로 표기한다  \n",
    "X = iris.data  \n",
    "y = iris.target"
   ]
  },
  {
   "cell_type": "code",
   "execution_count": 4,
   "id": "dd4ee9cb",
   "metadata": {},
   "outputs": [
    {
     "name": "stdout",
     "output_type": "stream",
     "text": [
      "iris target값: [0 0 0 0 0 0 0 0 0 0 0 0 0 0 0 0 0 0 0 0 0 0 0 0 0 0 0 0 0 0 0 0 0 0 0 0 0\n",
      " 0 0 0 0 0 0 0 0 0 0 0 0 0 1 1 1 1 1 1 1 1 1 1 1 1 1 1 1 1 1 1 1 1 1 1 1 1\n",
      " 1 1 1 1 1 1 1 1 1 1 1 1 1 1 1 1 1 1 1 1 1 1 1 1 1 1 2 2 2 2 2 2 2 2 2 2 2\n",
      " 2 2 2 2 2 2 2 2 2 2 2 2 2 2 2 2 2 2 2 2 2 2 2 2 2 2 2 2 2 2 2 2 2 2 2 2 2\n",
      " 2 2]\n",
      "iris target명: ['setosa' 'versicolor' 'virginica']\n"
     ]
    },
    {
     "data": {
      "text/html": [
       "<div>\n",
       "<style scoped>\n",
       "    .dataframe tbody tr th:only-of-type {\n",
       "        vertical-align: middle;\n",
       "    }\n",
       "\n",
       "    .dataframe tbody tr th {\n",
       "        vertical-align: top;\n",
       "    }\n",
       "\n",
       "    .dataframe thead th {\n",
       "        text-align: right;\n",
       "    }\n",
       "</style>\n",
       "<table border=\"1\" class=\"dataframe\">\n",
       "  <thead>\n",
       "    <tr style=\"text-align: right;\">\n",
       "      <th></th>\n",
       "      <th>sepal length (cm)</th>\n",
       "      <th>sepal width (cm)</th>\n",
       "      <th>petal length (cm)</th>\n",
       "      <th>petal width (cm)</th>\n",
       "      <th>label</th>\n",
       "    </tr>\n",
       "  </thead>\n",
       "  <tbody>\n",
       "    <tr>\n",
       "      <th>0</th>\n",
       "      <td>5.1</td>\n",
       "      <td>3.5</td>\n",
       "      <td>1.4</td>\n",
       "      <td>0.2</td>\n",
       "      <td>0</td>\n",
       "    </tr>\n",
       "    <tr>\n",
       "      <th>1</th>\n",
       "      <td>4.9</td>\n",
       "      <td>3.0</td>\n",
       "      <td>1.4</td>\n",
       "      <td>0.2</td>\n",
       "      <td>0</td>\n",
       "    </tr>\n",
       "    <tr>\n",
       "      <th>2</th>\n",
       "      <td>4.7</td>\n",
       "      <td>3.2</td>\n",
       "      <td>1.3</td>\n",
       "      <td>0.2</td>\n",
       "      <td>0</td>\n",
       "    </tr>\n",
       "  </tbody>\n",
       "</table>\n",
       "</div>"
      ],
      "text/plain": [
       "   sepal length (cm)  sepal width (cm)  petal length (cm)  petal width (cm)  \\\n",
       "0                5.1               3.5                1.4               0.2   \n",
       "1                4.9               3.0                1.4               0.2   \n",
       "2                4.7               3.2                1.3               0.2   \n",
       "\n",
       "   label  \n",
       "0      0  \n",
       "1      0  \n",
       "2      0  "
      ]
     },
     "execution_count": 4,
     "metadata": {},
     "output_type": "execute_result"
    }
   ],
   "source": [
    "# iris.data는 Iris 데이터 세트에서 피처(feature)만으로 된 데이터를 numpy로 가지고 있음\n",
    "iris_data = iris.data\n",
    "\n",
    "# iris.target은 붓꽃 데이터 세트에서 레이블(결정 값) 데이터를 numpy로 가지고 있음\n",
    "iris_label = iris.target\n",
    "print('iris target값:', iris_label)\n",
    "print('iris target명:', iris.target_names)\n",
    "\n",
    "# 붓꽃 데이터 세트를 자세히 보기 위해 DataFrame으로 변환\n",
    "iris_df = pd.DataFrame(data=iris_data, columns=iris.feature_names)\n",
    "iris_df['label'] = iris.target\n",
    "iris_df.head(3)"
   ]
  },
  {
   "cell_type": "markdown",
   "id": "7e496036",
   "metadata": {},
   "source": [
    "#### 학습용 데이터, 테스트용 데이터 분리"
   ]
  },
  {
   "cell_type": "markdown",
   "id": "401d30e8",
   "metadata": {},
   "source": [
    "train_test_split(피쳐 데이터, 레이블 데이터, 전체 데이터 중 테스트 데이터의 비율, 난수발생 값)  \n",
    "\n",
    "호출 시 무작위로 데이터를 분리하므로 random_state를 지정하지 않으면 수행할 때마다 다른 학습/테스트 데이터를 만듦"
   ]
  },
  {
   "cell_type": "markdown",
   "id": "ed2ca181",
   "metadata": {},
   "source": [
    "X: 피쳐  \n",
    "y : 레이블\n",
    "\n",
    "X_train : 학습용 피처 데이터 세트  \n",
    "X_test  : 테스트용 피처 데이터 세트  \n",
    "y_train : 학습용 레이블 데이터 세트  \n",
    "y_test  : 테스트용 레이블 데이터 세트"
   ]
  },
  {
   "cell_type": "code",
   "execution_count": 5,
   "id": "cbb6648c",
   "metadata": {},
   "outputs": [],
   "source": [
    "X_train, X_test, y_train, y_test = train_test_split(iris_data, iris_label, test_size=0.2, random_state=11)"
   ]
  },
  {
   "cell_type": "markdown",
   "id": "b2c68866",
   "metadata": {},
   "source": [
    "머신러닝 분류 알고리즘 중 하나인 의사결정트리를 이용해 학습과 예측 수행"
   ]
  },
  {
   "cell_type": "code",
   "execution_count": 9,
   "id": "7023b58c",
   "metadata": {},
   "outputs": [
    {
     "data": {
      "text/plain": [
       "DecisionTreeClassifier(random_state=11)"
      ]
     },
     "execution_count": 9,
     "metadata": {},
     "output_type": "execute_result"
    }
   ],
   "source": [
    "# DecisionTreeClassifier 객체 생성\n",
    "# random_state지정하면 코드를 수행할 때마다 동일한 학습/예측 결과 출력\n",
    "dt_clf = DecisionTreeClassifier(random_state=11)\n",
    "\n",
    "# 학습 수행 \n",
    "dt_clf.fit(X_train, y_train)"
   ]
  },
  {
   "cell_type": "code",
   "execution_count": 10,
   "id": "ddb51614",
   "metadata": {},
   "outputs": [],
   "source": [
    "# 예측은 반드시 학습 데이터가 아닌 다른 데이터를 사용해야 함\n",
    "# 일반적으로는 테스트 데이터 사용\n",
    "# 학습이 완료된 DecisionTreeClassifier 객체에서 테스트 데이터 세트로 예측 수행. \n",
    "\n",
    "pred = dt_clf.predict(X_test)"
   ]
  },
  {
   "cell_type": "markdown",
   "id": "af7bbc29",
   "metadata": {},
   "source": [
    "예측 결과를 기반으로 의사결정트리 기반의 DecisionTreeClassifier의 예측 성능을 평가  \n",
    "여러 머신러닝 모델 성능 평가 방법 중 여기서는 정확도를 측정  \n",
    "\n",
    "정확도 : X_test로 예측한 결과가 실제 레이블 값 y_test와 얼마나 정확하게 맞는지를 평가하는 지표"
   ]
  },
  {
   "cell_type": "code",
   "execution_count": 11,
   "id": "eeade362",
   "metadata": {},
   "outputs": [
    {
     "name": "stdout",
     "output_type": "stream",
     "text": [
      "예측 정확도: 0.9333\n"
     ]
    }
   ],
   "source": [
    "from sklearn.metrics import accuracy_score\n",
    "print('예측 정확도: {0:.4f}'.format(accuracy_score(y_test,pred)))"
   ]
  },
  {
   "cell_type": "code",
   "execution_count": null,
   "id": "1bc4e189",
   "metadata": {},
   "outputs": [],
   "source": []
  },
  {
   "cell_type": "code",
   "execution_count": null,
   "id": "a242aab4",
   "metadata": {},
   "outputs": [],
   "source": []
  },
  {
   "cell_type": "markdown",
   "id": "8cc41a67",
   "metadata": {},
   "source": [
    "#### No free lunch\n",
    "\n",
    "성능이 좋으면 오래 걸리고, 속도가 빠르면 성능이 낮아지는 등 완벽한 알고리즘은 없다.\n",
    "\n",
    "Algorithm\n",
    "- Linear : 성능이 낮다.  \n",
    "- Non Linear : 컴퓨팅 파워가 많이 필요하다"
   ]
  },
  {
   "cell_type": "markdown",
   "id": "82c8aac6",
   "metadata": {},
   "source": [
    "알고리즘을 통해서 원하는건 파라미터를 구하는것이다.  \n",
    "파라미터는 직접 지정하는 것이 아님.\n",
    "\n",
    "- 하이퍼파라미터(hyperparameter) : 학습을 통해서 얻을 수 없어서 직접 지정해야 하는 매개변수.\n",
    "\n",
    "하이퍼파라미터 또한 알고리즘에 따라 다르다."
   ]
  },
  {
   "cell_type": "markdown",
   "id": "c46cbfef",
   "metadata": {},
   "source": [
    "classifier  분류 알고리즘  \n",
    "regressor   회귀 알고리즘"
   ]
  },
  {
   "cell_type": "code",
   "execution_count": 7,
   "id": "5a25223a",
   "metadata": {},
   "outputs": [
    {
     "data": {
      "text/plain": [
       "DecisionTreeClassifier()"
      ]
     },
     "execution_count": 7,
     "metadata": {},
     "output_type": "execute_result"
    }
   ],
   "source": [
    "dt_clf = DecisionTreeClassifier()\n",
    "dt_clf"
   ]
  },
  {
   "cell_type": "markdown",
   "id": "a732d29b",
   "metadata": {},
   "source": [
    "하이퍼파라미터 현황 확인"
   ]
  },
  {
   "cell_type": "code",
   "execution_count": 8,
   "id": "bb56bee0",
   "metadata": {},
   "outputs": [
    {
     "data": {
      "text/plain": [
       "{'criterion': 'gini',\n",
       " 'splitter': 'best',\n",
       " 'max_depth': None,\n",
       " 'min_samples_split': 2,\n",
       " 'min_samples_leaf': 1,\n",
       " 'min_weight_fraction_leaf': 0.0,\n",
       " 'max_features': None,\n",
       " 'max_leaf_nodes': None,\n",
       " 'random_state': None,\n",
       " 'min_impurity_decrease': 0.0,\n",
       " 'min_impurity_split': None,\n",
       " 'class_weight': None,\n",
       " 'ccp_alpha': 0.0}"
      ]
     },
     "execution_count": 8,
     "metadata": {},
     "output_type": "execute_result"
    }
   ],
   "source": [
    "vars(dt_clf)"
   ]
  },
  {
   "cell_type": "markdown",
   "id": "2947df58",
   "metadata": {},
   "source": [
    "'학습'  \n",
    "\n",
    "통계 : fit(적합)  \n",
    "CS : train(학습)\n",
    "\n",
    "X 대문자 -> 행렬, y 소문자 -> 벡터  \n",
    "df.fit(X,y)"
   ]
  }
 ],
 "metadata": {
  "kernelspec": {
   "display_name": "Python 3",
   "language": "python",
   "name": "python3"
  },
  "language_info": {
   "codemirror_mode": {
    "name": "ipython",
    "version": 3
   },
   "file_extension": ".py",
   "mimetype": "text/x-python",
   "name": "python",
   "nbconvert_exporter": "python",
   "pygments_lexer": "ipython3",
   "version": "3.8.8"
  }
 },
 "nbformat": 4,
 "nbformat_minor": 5
}
