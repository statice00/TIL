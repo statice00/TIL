{
 "cells": [
  {
   "cell_type": "markdown",
   "id": "54b58b91",
   "metadata": {},
   "source": [
    "holdout\n",
    "- 모델의 성능을 측정하고자 할 때 학습할 때 사용한 데이터로 검증하지 않기 위해 train-test 데이터를 분리한다.\n",
    "\n",
    "- 데이터를 랜덤하게 두 분류로 분리하여 교차검증을 실시"
   ]
  },
  {
   "cell_type": "markdown",
   "id": "f82a234e",
   "metadata": {},
   "source": [
    "사이킷런의 model_selection 모듈은 학습 데이터와 테스트 데이터 세트를 분리하거나 교차 검증 분할 및 평가, Estimator의 하이퍼 파라미터를 튜닝하기 위한 다양한 함수와 클래스 제공  \n",
    "\n",
    "train_test_split() : 전체 데이터를 학습 데이터와 테스트 데이터 세트로 분리"
   ]
  },
  {
   "cell_type": "markdown",
   "id": "cce247e4",
   "metadata": {},
   "source": [
    "훈련데이터와 테스트데이터는 중복되면 안된다."
   ]
  },
  {
   "cell_type": "code",
   "execution_count": 24,
   "id": "280f5fe8",
   "metadata": {},
   "outputs": [],
   "source": [
    "import numpy as np\n",
    "import pandas as pd"
   ]
  },
  {
   "cell_type": "markdown",
   "id": "220bdd0f",
   "metadata": {},
   "source": [
    "### 학습 데이터로만 학습하고 예측하는 경우"
   ]
  },
  {
   "cell_type": "markdown",
   "id": "d97b0321",
   "metadata": {},
   "source": [
    "정확도가 100%가 나와 아주 의심스럽다. 예측 결과가 100% 정확도를 보이는 이유는 이미 학습한 학습 데이터 세트를 기반으로 예측했기 때문이다.     \n",
    "따라서, 예측을 수행하는 데이터 세트는 학습을 수행한 학습용 데이터 세트가 아닌 전용의 테스트 데이터 세트여야 한다."
   ]
  },
  {
   "cell_type": "code",
   "execution_count": 1,
   "id": "45481cda",
   "metadata": {},
   "outputs": [
    {
     "name": "stdout",
     "output_type": "stream",
     "text": [
      "예측 정확도: 1.0\n"
     ]
    }
   ],
   "source": [
    "from sklearn.datasets import load_iris\n",
    "from sklearn.tree import DecisionTreeClassifier\n",
    "from sklearn.metrics import accuracy_score\n",
    "\n",
    "iris = load_iris()\n",
    "dt_clf = DecisionTreeClassifier()\n",
    "train_data = iris.data\n",
    "train_label = iris.target\n",
    "dt_clf.fit(train_data, train_label)\n",
    "\n",
    "# 학습 데이터 셋으로 예측 수행\n",
    "pred = dt_clf.predict(train_data)\n",
    "print('예측 정확도:',accuracy_score(train_label,pred))"
   ]
  },
  {
   "cell_type": "markdown",
   "id": "05a52649",
   "metadata": {},
   "source": [
    "#### 과적합에 안걸리게 하는 이슈\n",
    "\n",
    "과적합 : 모델이 학습 데이터에만 과도하게 최적화되어 실제 예측을 다른 데이터로 수행할 경우에는 예측 성능이 과도하게 떨어지는 현상\n",
    "\n",
    "- 훈련데이터와 테스트데이터는 중복이 없어야 한다. -> duplicated\n",
    "- 데이터를 나눈 이후의 target값(0,1)의 비율이 원데이터에서 target값의 비율과 동일해야한다. -> stratify"
   ]
  },
  {
   "cell_type": "markdown",
   "id": "dc5fd7b8",
   "metadata": {},
   "source": [
    "### 학습/테스트 데이터 세트 분리해서 학습하고 예측하는 경우\n",
    "\n",
    "\n",
    "### train_test_split 특징\n",
    "- 첫번째 파라미터로 피처 데이터 세트, 두번째 파라미터로 레이블 데이터 세트를 입력받음.\n",
    "    array를 1개 넣으면 값이 2개 반환    \n",
    "    array를 2개 넣으면 값이 4개 반환   \n",
    "\n",
    "- 관례상 다음과 같이 할당\n",
    "\n",
    "    X_train : 훈련데이터   \n",
    "    X_test : 테스트데이터  \n",
    "    y_train : 학습데이터에 적용되는 target데이터(정답)  \n",
    "    y_test : 테스트데이터에 적용되는 target데이터(정답)\n",
    "    \n",
    "\n",
    "\n",
    "\n",
    "#### train_test_split의 파라미터 설정  \n",
    "- test_size : 디폴트값으로 전체 데이터에서 테스트 데이터 세트의 크기를 얼마로 할것인지 지정. 디폴트 25%  \n",
    "    즉, 학습:테스트 = 75:25 비율이 디폴트  \n",
    "- shuffle : 데이터를 분리하기 전에 데이터를 미리 섞을지를 결정. 디폴트 True. 데이터를 분산시켜 좀 더 효율적인 학습 및 테스트 데이터 셋을 만든다  \n",
    "- random_state : 호출할 때마다 동일한 학습/테스트용 데이터 세트를 생성하기 위해 주어지는 난수 값이다. 지정하지 않으면 수행할 때마다 다른 학습/테스트 데이터를 생성한다."
   ]
  },
  {
   "cell_type": "code",
   "execution_count": 16,
   "id": "a0289f53",
   "metadata": {},
   "outputs": [],
   "source": [
    "from sklearn.tree import DecisionTreeClassifier\n",
    "from sklearn.metrics import accuracy_score\n",
    "from sklearn.datasets import load_iris\n",
    "from sklearn.model_selection import train_test_split\n",
    "\n",
    "\n",
    "iris_data = load_iris()\n",
    "\n",
    "# 학습:테스트 = 70:30\n",
    "# 학습을 위해 난수 값 지정해 수행할때마다 동일한 결과로 고정\n",
    "X_train, X_test, y_train, y_test = train_test_split(iris_data.data, iris_data.target, \n",
    "                                                    test_size=0.3, random_state=121)"
   ]
  },
  {
   "cell_type": "markdown",
   "id": "0fececa7",
   "metadata": {},
   "source": [
    "#### 만약 train에는 정답이 없고 test에만 정답이 모두 들어가도록 쪼개지는 경우는 학습이 안되는 문제가 생길 수 있다."
   ]
  },
  {
   "cell_type": "markdown",
   "id": "d3ddf9ef",
   "metadata": {},
   "source": [
    "예를 들면 이런 target값들중 0이 모두 train set에만 포함되고, test set에 없다면 0은 예측할 수 없다."
   ]
  },
  {
   "cell_type": "markdown",
   "id": "1aac36ad",
   "metadata": {},
   "source": [
    "비율을 유지하며 쪼개졌는지 확인, target값들 종류별로 개수도 확인"
   ]
  },
  {
   "cell_type": "code",
   "execution_count": 27,
   "id": "87957d40",
   "metadata": {},
   "outputs": [
    {
     "data": {
      "text/plain": [
       "(array([0, 1, 2]), array([36, 34, 35], dtype=int64))"
      ]
     },
     "execution_count": 27,
     "metadata": {},
     "output_type": "execute_result"
    }
   ],
   "source": [
    "np.unique(y_train, return_counts = True)"
   ]
  },
  {
   "cell_type": "code",
   "execution_count": 26,
   "id": "0ef24f26",
   "metadata": {},
   "outputs": [
    {
     "data": {
      "text/plain": [
       "(array([0, 1, 2]), array([14, 16, 15], dtype=int64))"
      ]
     },
     "execution_count": 26,
     "metadata": {},
     "output_type": "execute_result"
    }
   ],
   "source": [
    "np.unique(y_test, return_counts = True)"
   ]
  },
  {
   "cell_type": "markdown",
   "id": "88e5d646",
   "metadata": {},
   "source": [
    "#### 위에서 분리한 학습 데이터를 기반으로 DecisionTreeClassifier를 학습하고, 학습한 모델을 이용해 예측 정확도 측정"
   ]
  },
  {
   "cell_type": "markdown",
   "id": "5f1ed57a",
   "metadata": {},
   "source": [
    "붓꽃 데이터는 데이터 양이 크지 않아 전체의 30% 정도인 테스트 데이터가 45개 정도밖에 되지 않아서 이를 통해 알고리즘 성능 예측은 적절하다 할 수 없다.  \n",
    "\n",
    "학습을 위한 데이터의 양을 일정 수준 이상으로 보장하는 것도 중요하며, 학습된 모델에 대해 다양한 데이터를 기반으로 예측 성능을 평가해 보는것도 중요하다."
   ]
  },
  {
   "cell_type": "code",
   "execution_count": 4,
   "id": "616d545d",
   "metadata": {},
   "outputs": [
    {
     "name": "stdout",
     "output_type": "stream",
     "text": [
      "예측 정확도: 0.9556\n"
     ]
    }
   ],
   "source": [
    "dt_clf = DecisionTreeClassifier( )\n",
    "\n",
    "dt_clf.fit(X_train, y_train)\n",
    "pred = dt_clf.predict(X_test)\n",
    "print('예측 정확도: {0:.4f}'.format(accuracy_score(y_test,pred)))"
   ]
  },
  {
   "cell_type": "markdown",
   "id": "4fadd74b",
   "metadata": {},
   "source": [
    "#### 위에서 분리한 학습 데이터를 기반으로 LogisticRegression를 학습하고, 학습한 모델을 이용해 예측 정확도 측정"
   ]
  },
  {
   "cell_type": "markdown",
   "id": "7a00563b",
   "metadata": {},
   "source": [
    "### logistic regression example\n",
    "\n",
    "\n",
    "예외적으로 이름 구분  \n",
    "\n",
    "LinearRegression : 회귀  \n",
    "LogisticRegression : 분류"
   ]
  },
  {
   "cell_type": "code",
   "execution_count": 29,
   "id": "dd9f1bb7",
   "metadata": {},
   "outputs": [],
   "source": [
    "from sklearn.linear_model import LogisticRegression"
   ]
  },
  {
   "cell_type": "code",
   "execution_count": 30,
   "id": "02b7ae99",
   "metadata": {},
   "outputs": [],
   "source": [
    "lr = LogisticRegression()"
   ]
  },
  {
   "cell_type": "markdown",
   "id": "d4f752b8",
   "metadata": {},
   "source": [
    "알고리즘에 학습데이터 넣어서 훈련을 시킴"
   ]
  },
  {
   "cell_type": "code",
   "execution_count": 31,
   "id": "ba5111af",
   "metadata": {},
   "outputs": [
    {
     "data": {
      "text/plain": [
       "LogisticRegression()"
      ]
     },
     "execution_count": 31,
     "metadata": {},
     "output_type": "execute_result"
    }
   ],
   "source": [
    "lr.fit(X_train, y_train)"
   ]
  },
  {
   "cell_type": "markdown",
   "id": "5e930043",
   "metadata": {},
   "source": [
    "test데이터로 예측을 시킴"
   ]
  },
  {
   "cell_type": "code",
   "execution_count": 32,
   "id": "94a84164",
   "metadata": {
    "scrolled": true
   },
   "outputs": [
    {
     "data": {
      "text/plain": [
       "array([1, 2, 1, 0, 0, 1, 1, 1, 1, 2, 2, 1, 1, 0, 0, 2, 1, 0, 2, 0, 2, 2,\n",
       "       1, 1, 1, 1, 0, 0, 2, 2, 1, 2, 0, 0, 1, 2, 0, 0, 0, 2, 2, 2, 2, 0,\n",
       "       1])"
      ]
     },
     "execution_count": 32,
     "metadata": {},
     "output_type": "execute_result"
    }
   ],
   "source": [
    "lr.predict(X_test)"
   ]
  },
  {
   "cell_type": "markdown",
   "id": "bd7126d6",
   "metadata": {},
   "source": [
    "test데이터로 예측시킨 답과 원래 정답을 비교"
   ]
  },
  {
   "cell_type": "code",
   "execution_count": 33,
   "id": "884e606f",
   "metadata": {},
   "outputs": [
    {
     "data": {
      "text/plain": [
       "array([ True,  True,  True,  True,  True,  True,  True,  True,  True,\n",
       "        True, False,  True,  True,  True,  True,  True,  True,  True,\n",
       "        True,  True,  True,  True,  True,  True,  True,  True,  True,\n",
       "        True,  True,  True,  True,  True,  True,  True,  True,  True,\n",
       "        True,  True,  True,  True,  True,  True,  True,  True, False])"
      ]
     },
     "execution_count": 33,
     "metadata": {},
     "output_type": "execute_result"
    }
   ],
   "source": [
    "lr.predict(X_test) == y_test"
   ]
  },
  {
   "cell_type": "markdown",
   "id": "665e6de0",
   "metadata": {},
   "source": [
    "정확도만 바로 출력"
   ]
  },
  {
   "cell_type": "code",
   "execution_count": 34,
   "id": "7ecac750",
   "metadata": {},
   "outputs": [
    {
     "data": {
      "text/plain": [
       "0.9555555555555556"
      ]
     },
     "execution_count": 34,
     "metadata": {},
     "output_type": "execute_result"
    }
   ],
   "source": [
    "lr.score(X_test, y_test)"
   ]
  },
  {
   "cell_type": "markdown",
   "id": "d4312cae",
   "metadata": {},
   "source": [
    "\n",
    "#### 모델마다 성능이 다 다르기 때문에\n",
    "#### 데이터와 가장 잘 맞는 모델은 직접 실험을 통해 찾아야 한다.\n",
    "\n",
    "사이킷런에서 제공하는 데이터 셋이 분류용, 회귀용으로 나뉘듯이 각 데이터에 잘 맞는 모델이 있다"
   ]
  }
 ],
 "metadata": {
  "kernelspec": {
   "display_name": "Python 3",
   "language": "python",
   "name": "python3"
  },
  "language_info": {
   "codemirror_mode": {
    "name": "ipython",
    "version": 3
   },
   "file_extension": ".py",
   "mimetype": "text/x-python",
   "name": "python",
   "nbconvert_exporter": "python",
   "pygments_lexer": "ipython3",
   "version": "3.8.8"
  }
 },
 "nbformat": 4,
 "nbformat_minor": 5
}
