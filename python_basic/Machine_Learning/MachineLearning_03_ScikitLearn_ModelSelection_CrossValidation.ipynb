{
 "cells": [
  {
   "cell_type": "markdown",
   "id": "2be0e2dd",
   "metadata": {},
   "source": [
    "## 교차 검증\n",
    "\n",
    "overfitting(과적합) : 모델이 내가 지금 학습시킨 데이터에만 최적화되어, 실제 예측을 새로 들어온 데이터로 수행할 경우 예측 성능이 과도하게 떨어지는 것을 말한다.\n",
    "\n",
    "고정된 학습 데이터와 테스트 데이터로 평가를 하다 보면 테스트 데이터에만 최적의 성능을 발휘할 수 있도록 편향되게 모델을 유도하는 경향이 생김. 과적합된 학습 모델이 만들어져 다른 테스트용 데이터가 들어올 경우에는 성능이 저하됨. 이런 문제점을 개선하기 위해 교차 검증 실시"
   ]
  },
  {
   "cell_type": "markdown",
   "id": "1ca472cc",
   "metadata": {},
   "source": [
    "교차 검증은 데이터 편중을 막기 위해 별도의 여러 세트로 구성된 학습 데이터 세트와 검증 데이터 세트에서 학습과 평가를 수행  \n",
    "\n",
    "각 세트에서 수행한 평가 결과에 따라 하이퍼 파라미터 튜닝 들의 모델 최적화를 더욱 손쉽게 할 수 있음\n",
    "\n",
    "대부분의 ML 모델의 성능 평가는 교차 검증 기반으로 1차 평가를 한 뒤에 최종적으로 테스트 데이터 세트에 적용해 평가하는 프로세스  \n",
    "ML에 사용하는 데이터 세트를 세분화해서 학습, 검증, 테스트 데이터 세트로 나누고, 테스트 데이터 세트 외에 별도의 검증 데이터 세트를 둬서 최종 평가 이전에 학습된 모델을 다양하게 평가하는 데 사용"
   ]
  },
  {
   "cell_type": "markdown",
   "id": "5eb90c96",
   "metadata": {},
   "source": [
    "mglearn : introduction to Machine Learnig with Python의 저자가 코드를 간략하게 표현하기 위해 제작한 교재 전용 라이브러리\n",
    "\n",
    "pip install mglearn"
   ]
  },
  {
   "cell_type": "code",
   "execution_count": 2,
   "id": "2055f60f",
   "metadata": {},
   "outputs": [],
   "source": [
    "import mglearn"
   ]
  },
  {
   "cell_type": "code",
   "execution_count": 4,
   "id": "367676a7",
   "metadata": {},
   "outputs": [],
   "source": [
    "from sklearn.datasets import load_iris"
   ]
  },
  {
   "cell_type": "code",
   "execution_count": 5,
   "id": "7799f946",
   "metadata": {},
   "outputs": [],
   "source": [
    "# 분류\n",
    "from sklearn.linear_model import LogisticRegression"
   ]
  },
  {
   "cell_type": "code",
   "execution_count": 54,
   "id": "dfbdf4ab",
   "metadata": {},
   "outputs": [],
   "source": [
    "# 정확도 측정\n",
    "from sklearn.metrics import accuracy_score"
   ]
  },
  {
   "cell_type": "code",
   "execution_count": 74,
   "id": "4b6ef658",
   "metadata": {},
   "outputs": [],
   "source": [
    "import numpy as np\n",
    "import pandas as pd"
   ]
  },
  {
   "cell_type": "markdown",
   "id": "b2377561",
   "metadata": {},
   "source": [
    "### K-폴드 교차 검증\n",
    "\n",
    "가장 보편적으로 사용되는 교차 검증 기법\n",
    "\n",
    "K개의 데이터 폴드 세트를 만들어서 K번만큼 각 폴드 세트에 학습과 검증 평가를 반복적으로 수행하는 방법\n",
    "\n",
    "원데이터 target 비율대로 이쁘게 나누는 경우가 거의 없기 때문에 현실에서 잘 사용은 못함\n"
   ]
  },
  {
   "cell_type": "markdown",
   "id": "6002c06f",
   "metadata": {},
   "source": [
    "#### 헷갈림 방지 : 아래 plot에서 나온 test data는 train_test에서 test가 아니라 train안에서 검증을 위해 쪼갠 validation이다\n",
    "\n",
    "교재 p.104  성능검증\n",
    "\n",
    "\n",
    "**폴드가 5개인 경우(K = 5)**  \n",
    "\n",
    "5개의 폴드된 데이터 세트를 학습과 검증을 위한 데이터 세트로 변경하면서 5번 평가를 수행한 뒤, 이 5개의 평가를 평균한 결과를 가지고 예측 성능을 평가.  \n",
    "\n",
    "\n",
    "\n"
   ]
  },
  {
   "cell_type": "code",
   "execution_count": 3,
   "id": "620af77d",
   "metadata": {},
   "outputs": [
    {
     "data": {
      "image/png": "[encoded data removed]",
      "text/plain": [
       "<Figure size 864x144 with 1 Axes>"
      ]
     },
     "metadata": {
      "needs_background": "light"
     },
     "output_type": "display_data"
    }
   ],
   "source": [
    "mglearn.plot_cross_validation.plot_cross_validation()"
   ]
  },
  {
   "cell_type": "code",
   "execution_count": 69,
   "id": "024c0806",
   "metadata": {},
   "outputs": [],
   "source": [
    "from sklearn.model_selection import KFold, train_test_split"
   ]
  },
  {
   "cell_type": "code",
   "execution_count": 40,
   "id": "3c499f41",
   "metadata": {},
   "outputs": [],
   "source": [
    "data_iris = load_iris()"
   ]
  },
  {
   "cell_type": "markdown",
   "id": "1203d82d",
   "metadata": {},
   "source": [
    "k개의 폴드 세트로 분리"
   ]
  },
  {
   "cell_type": "code",
   "execution_count": 45,
   "id": "df21ad20",
   "metadata": {},
   "outputs": [],
   "source": [
    "# 10개로 분리하겠다\n",
    "kfold = KFold(n_splits=10)"
   ]
  },
  {
   "cell_type": "code",
   "execution_count": 67,
   "id": "5f40879a",
   "metadata": {},
   "outputs": [
    {
     "name": "stdout",
     "output_type": "stream",
     "text": [
      "iris size :  150\n"
     ]
    }
   ],
   "source": [
    "print('iris size : ', data_iris.data.shape[0])"
   ]
  },
  {
   "cell_type": "code",
   "execution_count": 47,
   "id": "3cced00b",
   "metadata": {},
   "outputs": [
    {
     "data": {
      "text/plain": [
       "<generator object _BaseKFold.split at 0x000002A3451D50B0>"
      ]
     },
     "execution_count": 47,
     "metadata": {},
     "output_type": "execute_result"
    }
   ],
   "source": [
    "# <generator object _BaseKFold.split at 0x000002A3451D50B0>\n",
    "# generator는 index 존재\n",
    "kfold.split(data_iris.data)."
   ]
  },
  {
   "cell_type": "markdown",
   "id": "9c86c944",
   "metadata": {},
   "source": [
    "#### k=10인 경우 k-fold 교차 검증 실시\n",
    "검증순서0~10  \n",
    "[훈련데이터 인덱스]  \n",
    "[테스트데이터 인덱스]"
   ]
  },
  {
   "cell_type": "code",
   "execution_count": 49,
   "id": "0120247e",
   "metadata": {
    "scrolled": true
   },
   "outputs": [
    {
     "name": "stdout",
     "output_type": "stream",
     "text": [
      "0\n",
      "[ 15  16  17  18  19  20  21  22  23  24  25  26  27  28  29  30  31  32\n",
      "  33  34  35  36  37  38  39  40  41  42  43  44  45  46  47  48  49  50\n",
      "  51  52  53  54  55  56  57  58  59  60  61  62  63  64  65  66  67  68\n",
      "  69  70  71  72  73  74  75  76  77  78  79  80  81  82  83  84  85  86\n",
      "  87  88  89  90  91  92  93  94  95  96  97  98  99 100 101 102 103 104\n",
      " 105 106 107 108 109 110 111 112 113 114 115 116 117 118 119 120 121 122\n",
      " 123 124 125 126 127 128 129 130 131 132 133 134 135 136 137 138 139 140\n",
      " 141 142 143 144 145 146 147 148 149] [ 0  1  2  3  4  5  6  7  8  9 10 11 12 13 14]\n",
      "1\n",
      "[  0   1   2   3   4   5   6   7   8   9  10  11  12  13  14  30  31  32\n",
      "  33  34  35  36  37  38  39  40  41  42  43  44  45  46  47  48  49  50\n",
      "  51  52  53  54  55  56  57  58  59  60  61  62  63  64  65  66  67  68\n",
      "  69  70  71  72  73  74  75  76  77  78  79  80  81  82  83  84  85  86\n",
      "  87  88  89  90  91  92  93  94  95  96  97  98  99 100 101 102 103 104\n",
      " 105 106 107 108 109 110 111 112 113 114 115 116 117 118 119 120 121 122\n",
      " 123 124 125 126 127 128 129 130 131 132 133 134 135 136 137 138 139 140\n",
      " 141 142 143 144 145 146 147 148 149] [15 16 17 18 19 20 21 22 23 24 25 26 27 28 29]\n",
      "2\n",
      "[  0   1   2   3   4   5   6   7   8   9  10  11  12  13  14  15  16  17\n",
      "  18  19  20  21  22  23  24  25  26  27  28  29  45  46  47  48  49  50\n",
      "  51  52  53  54  55  56  57  58  59  60  61  62  63  64  65  66  67  68\n",
      "  69  70  71  72  73  74  75  76  77  78  79  80  81  82  83  84  85  86\n",
      "  87  88  89  90  91  92  93  94  95  96  97  98  99 100 101 102 103 104\n",
      " 105 106 107 108 109 110 111 112 113 114 115 116 117 118 119 120 121 122\n",
      " 123 124 125 126 127 128 129 130 131 132 133 134 135 136 137 138 139 140\n",
      " 141 142 143 144 145 146 147 148 149] [30 31 32 33 34 35 36 37 38 39 40 41 42 43 44]\n",
      "3\n",
      "[  0   1   2   3   4   5   6   7   8   9  10  11  12  13  14  15  16  17\n",
      "  18  19  20  21  22  23  24  25  26  27  28  29  30  31  32  33  34  35\n",
      "  36  37  38  39  40  41  42  43  44  60  61  62  63  64  65  66  67  68\n",
      "  69  70  71  72  73  74  75  76  77  78  79  80  81  82  83  84  85  86\n",
      "  87  88  89  90  91  92  93  94  95  96  97  98  99 100 101 102 103 104\n",
      " 105 106 107 108 109 110 111 112 113 114 115 116 117 118 119 120 121 122\n",
      " 123 124 125 126 127 128 129 130 131 132 133 134 135 136 137 138 139 140\n",
      " 141 142 143 144 145 146 147 148 149] [45 46 47 48 49 50 51 52 53 54 55 56 57 58 59]\n",
      "4\n",
      "[  0   1   2   3   4   5   6   7   8   9  10  11  12  13  14  15  16  17\n",
      "  18  19  20  21  22  23  24  25  26  27  28  29  30  31  32  33  34  35\n",
      "  36  37  38  39  40  41  42  43  44  45  46  47  48  49  50  51  52  53\n",
      "  54  55  56  57  58  59  75  76  77  78  79  80  81  82  83  84  85  86\n",
      "  87  88  89  90  91  92  93  94  95  96  97  98  99 100 101 102 103 104\n",
      " 105 106 107 108 109 110 111 112 113 114 115 116 117 118 119 120 121 122\n",
      " 123 124 125 126 127 128 129 130 131 132 133 134 135 136 137 138 139 140\n",
      " 141 142 143 144 145 146 147 148 149] [60 61 62 63 64 65 66 67 68 69 70 71 72 73 74]\n",
      "5\n",
      "[  0   1   2   3   4   5   6   7   8   9  10  11  12  13  14  15  16  17\n",
      "  18  19  20  21  22  23  24  25  26  27  28  29  30  31  32  33  34  35\n",
      "  36  37  38  39  40  41  42  43  44  45  46  47  48  49  50  51  52  53\n",
      "  54  55  56  57  58  59  60  61  62  63  64  65  66  67  68  69  70  71\n",
      "  72  73  74  90  91  92  93  94  95  96  97  98  99 100 101 102 103 104\n",
      " 105 106 107 108 109 110 111 112 113 114 115 116 117 118 119 120 121 122\n",
      " 123 124 125 126 127 128 129 130 131 132 133 134 135 136 137 138 139 140\n",
      " 141 142 143 144 145 146 147 148 149] [75 76 77 78 79 80 81 82 83 84 85 86 87 88 89]\n",
      "6\n",
      "[  0   1   2   3   4   5   6   7   8   9  10  11  12  13  14  15  16  17\n",
      "  18  19  20  21  22  23  24  25  26  27  28  29  30  31  32  33  34  35\n",
      "  36  37  38  39  40  41  42  43  44  45  46  47  48  49  50  51  52  53\n",
      "  54  55  56  57  58  59  60  61  62  63  64  65  66  67  68  69  70  71\n",
      "  72  73  74  75  76  77  78  79  80  81  82  83  84  85  86  87  88  89\n",
      " 105 106 107 108 109 110 111 112 113 114 115 116 117 118 119 120 121 122\n",
      " 123 124 125 126 127 128 129 130 131 132 133 134 135 136 137 138 139 140\n",
      " 141 142 143 144 145 146 147 148 149] [ 90  91  92  93  94  95  96  97  98  99 100 101 102 103 104]\n",
      "7\n",
      "[  0   1   2   3   4   5   6   7   8   9  10  11  12  13  14  15  16  17\n",
      "  18  19  20  21  22  23  24  25  26  27  28  29  30  31  32  33  34  35\n",
      "  36  37  38  39  40  41  42  43  44  45  46  47  48  49  50  51  52  53\n",
      "  54  55  56  57  58  59  60  61  62  63  64  65  66  67  68  69  70  71\n",
      "  72  73  74  75  76  77  78  79  80  81  82  83  84  85  86  87  88  89\n",
      "  90  91  92  93  94  95  96  97  98  99 100 101 102 103 104 120 121 122\n",
      " 123 124 125 126 127 128 129 130 131 132 133 134 135 136 137 138 139 140\n",
      " 141 142 143 144 145 146 147 148 149] [105 106 107 108 109 110 111 112 113 114 115 116 117 118 119]\n",
      "8\n",
      "[  0   1   2   3   4   5   6   7   8   9  10  11  12  13  14  15  16  17\n",
      "  18  19  20  21  22  23  24  25  26  27  28  29  30  31  32  33  34  35\n",
      "  36  37  38  39  40  41  42  43  44  45  46  47  48  49  50  51  52  53\n",
      "  54  55  56  57  58  59  60  61  62  63  64  65  66  67  68  69  70  71\n",
      "  72  73  74  75  76  77  78  79  80  81  82  83  84  85  86  87  88  89\n",
      "  90  91  92  93  94  95  96  97  98  99 100 101 102 103 104 105 106 107\n",
      " 108 109 110 111 112 113 114 115 116 117 118 119 135 136 137 138 139 140\n",
      " 141 142 143 144 145 146 147 148 149] [120 121 122 123 124 125 126 127 128 129 130 131 132 133 134]\n",
      "9\n",
      "[  0   1   2   3   4   5   6   7   8   9  10  11  12  13  14  15  16  17\n",
      "  18  19  20  21  22  23  24  25  26  27  28  29  30  31  32  33  34  35\n",
      "  36  37  38  39  40  41  42  43  44  45  46  47  48  49  50  51  52  53\n",
      "  54  55  56  57  58  59  60  61  62  63  64  65  66  67  68  69  70  71\n",
      "  72  73  74  75  76  77  78  79  80  81  82  83  84  85  86  87  88  89\n",
      "  90  91  92  93  94  95  96  97  98  99 100 101 102 103 104 105 106 107\n",
      " 108 109 110 111 112 113 114 115 116 117 118 119 120 121 122 123 124 125\n",
      " 126 127 128 129 130 131 132 133 134] [135 136 137 138 139 140 141 142 143 144 145 146 147 148 149]\n"
     ]
    }
   ],
   "source": [
    "# index만 출력해봄\n",
    "n_iter = 0\n",
    "for train_index, test_index in kfold.split(data_iris.data):\n",
    "    print(n_iter)\n",
    "    print(train_index, test_index)\n",
    "    n_iter = n_iter+1"
   ]
  },
  {
   "cell_type": "markdown",
   "id": "e4a83472",
   "metadata": {},
   "source": [
    "kfold 교차검증이 이루어진 인덱스에 해당하는   \n",
    "(훈련, 테스트)X(data),   \n",
    "(훈련, 테스트)y정답(target) 데이터 할당  \n",
    "\n",
    "학습\n",
    "\n",
    "예측\n",
    "\n",
    "정확도 검증\n",
    "\n",
    "---\n",
    "\n",
    "정확도검증값들(10개) 평균\n",
    "\n",
    "실제 데이터 정확도"
   ]
  },
  {
   "cell_type": "markdown",
   "id": "5ff9301f",
   "metadata": {},
   "source": [
    "10개로 교차 검증 진행한 kfold교차검증 정확도보다  \n",
    "실제 적은 데이터로 한 테스트 정확도는 낮음"
   ]
  },
  {
   "cell_type": "code",
   "execution_count": 71,
   "id": "1b2bda90",
   "metadata": {},
   "outputs": [
    {
     "name": "stdout",
     "output_type": "stream",
     "text": [
      "1교차 검증 정확도:0.8333, 학습 데이터 크기:100, 검증 데이터 크기:12\n",
      "1검증 세트 인덱스[ 0  1  2  3  4  5  6  7  8  9 10 11]\n",
      "2교차 검증 정확도:1.0, 학습 데이터 크기:100, 검증 데이터 크기:12\n",
      "2검증 세트 인덱스[12 13 14 15 16 17 18 19 20 21 22 23]\n",
      "3교차 검증 정확도:1.0, 학습 데이터 크기:101, 검증 데이터 크기:11\n",
      "3검증 세트 인덱스[24 25 26 27 28 29 30 31 32 33 34]\n",
      "4교차 검증 정확도:0.9091, 학습 데이터 크기:101, 검증 데이터 크기:11\n",
      "4검증 세트 인덱스[35 36 37 38 39 40 41 42 43 44 45]\n",
      "5교차 검증 정확도:1.0, 학습 데이터 크기:101, 검증 데이터 크기:11\n",
      "5검증 세트 인덱스[46 47 48 49 50 51 52 53 54 55 56]\n",
      "6교차 검증 정확도:1.0, 학습 데이터 크기:101, 검증 데이터 크기:11\n",
      "6검증 세트 인덱스[57 58 59 60 61 62 63 64 65 66 67]\n",
      "7교차 검증 정확도:1.0, 학습 데이터 크기:101, 검증 데이터 크기:11\n",
      "7검증 세트 인덱스[68 69 70 71 72 73 74 75 76 77 78]\n",
      "8교차 검증 정확도:1.0, 학습 데이터 크기:101, 검증 데이터 크기:11\n",
      "8검증 세트 인덱스[79 80 81 82 83 84 85 86 87 88 89]\n",
      "9교차 검증 정확도:1.0, 학습 데이터 크기:101, 검증 데이터 크기:11\n",
      "9검증 세트 인덱스[ 90  91  92  93  94  95  96  97  98  99 100]\n",
      "10교차 검증 정확도:1.0, 학습 데이터 크기:101, 검증 데이터 크기:11\n",
      "10검증 세트 인덱스[101 102 103 104 105 106 107 108 109 110 111]\n",
      "\n",
      "평균 검증 정확도 :  0.9742424242424242\n",
      "\n",
      "테스트 정확도 0.9210526315789473\n"
     ]
    }
   ],
   "source": [
    "kfold = KFold(n_splits=10)\n",
    "\n",
    "X_train_train, X_train_test, y_train_train, y_train_test = train_test_split(data_iris.data, data_iris.target)\n",
    "\n",
    "lr = LogisticRegression(max_iter=4000)\n",
    "\n",
    "n_iter = 0\n",
    "cv_accuracy = []\n",
    "\n",
    "for train_index, test_index in kfold.split(X_train_train):\n",
    "    X_train, X_test = X_train_train[train_index],X_train_train[test_index]\n",
    "    y_train, y_test = y_train_train[train_index],y_train_train[test_index]\n",
    "    \n",
    "    lr.fit(X_train, y_train) \n",
    "    pred = lr.predict(X_test) \n",
    "    accuracy = accuracy_score(y_test, pred)\n",
    "    \n",
    "    #print(np.round(accuracy,4))\n",
    "    #print(lr.score(X_test, y_test))\n",
    "    \n",
    "    cv_accuracy.append(accuracy)\n",
    "  \n",
    "    n_iter = n_iter+1\n",
    "    \n",
    "    print('{0}교차 검증 정확도:{1}, 학습 데이터 크기:{2}, 검증 데이터 크기:{3}'.format(n_iter, np.round(accuracy,4), X_train.shape[0], X_test.shape[0]))\n",
    "    print('{0}검증 세트 인덱스{1}'.format(n_iter, test_index))\n",
    "    \n",
    "print('\\n평균 검증 정확도 : ', np.mean(cv_accuracy))\n",
    "\n",
    "print('\\n테스트 정확도', lr.score(X_train_test, y_train_test))"
   ]
  },
  {
   "cell_type": "markdown",
   "id": "a39cff1d",
   "metadata": {},
   "source": [
    "### Stratified K 폴드\n",
    "\n",
    "- 불균형(imbalanced) 분포도를 가진 레이블(결정 클래스) 데이터 집합을 위한 K 폴드 방식\n",
    "<br/>\n",
    "\n",
    "- 불균형한 분포도를 가진 레이블 데이터 집합은 특정 레이블 값이 특이하게 많거나 매우 적어서 값의 분포가 한쪽으로 치우치는 것을 말함\n",
    "<br/>\n",
    "\n",
    "- 원데이터 타겟(class값 0 or 1)의 비율을 유지하면서 k개의 폴드로 나누기 때문에 이산값 형태의 레이블이 아닌 연속값 형태의 레이블을 사용하는 회귀에서는 불가능(연속된 숫자값별로 분포를 정하는 의미가 없음)하고 **분류**에서만 가능함. \n",
    "<br/>\n",
    "\n",
    "\n",
    "\n",
    "위에서 한 K폴드처럼 인덱스를 순서대로 가져오면 class의 차이가 너무 나게 분포 되어있을때 훈련-검증 과정에서 문제생김(어느 데이터 세트에는 들어가 있고 어디에는 안들어가있는 등..)\n",
    "\n",
    "\n",
    "Stratified K폴드는 (K폴드는 해결하지 못하는) 레이블 데이터 집합이 원본 데이터 집합의 레이블 분포를 학습 및 테스트 세트에 제대로 분배하지 못하는 경우의 문제를 해결해준다.\n",
    "\n",
    "원본 데이터의 레이블 분포를 먼저 고려한 뒤 이 분포와 동일하게 학습과 검증 데이터 세트를 분배함."
   ]
  },
  {
   "cell_type": "code",
   "execution_count": 73,
   "id": "c9dbf5ac",
   "metadata": {},
   "outputs": [],
   "source": [
    "from sklearn.model_selection import StratifiedKFold"
   ]
  },
  {
   "cell_type": "code",
   "execution_count": null,
   "id": "af79cdf2",
   "metadata": {},
   "outputs": [],
   "source": [
    "StratifiedKFold"
   ]
  },
  {
   "cell_type": "code",
   "execution_count": 75,
   "id": "85782c0b",
   "metadata": {},
   "outputs": [],
   "source": [
    "iris = load_iris()"
   ]
  },
  {
   "cell_type": "markdown",
   "id": "b1db15bb",
   "metadata": {},
   "source": [
    "사이킷런 붓꽃 데이터 세트를 dataframe으로 생성 후 레이블 값의 분포도 확인"
   ]
  },
  {
   "cell_type": "code",
   "execution_count": 76,
   "id": "a25d0118",
   "metadata": {},
   "outputs": [],
   "source": [
    "iris_df = pd.DataFrame(data=iris.data, columns = iris.feature_names)"
   ]
  },
  {
   "cell_type": "code",
   "execution_count": 77,
   "id": "b6d7eb11",
   "metadata": {},
   "outputs": [
    {
     "data": {
      "text/html": [
       "<div>\n",
       "<style scoped>\n",
       "    .dataframe tbody tr th:only-of-type {\n",
       "        vertical-align: middle;\n",
       "    }\n",
       "\n",
       "    .dataframe tbody tr th {\n",
       "        vertical-align: top;\n",
       "    }\n",
       "\n",
       "    .dataframe thead th {\n",
       "        text-align: right;\n",
       "    }\n",
       "</style>\n",
       "<table border=\"1\" class=\"dataframe\">\n",
       "  <thead>\n",
       "    <tr style=\"text-align: right;\">\n",
       "      <th></th>\n",
       "      <th>sepal length (cm)</th>\n",
       "      <th>sepal width (cm)</th>\n",
       "      <th>petal length (cm)</th>\n",
       "      <th>petal width (cm)</th>\n",
       "    </tr>\n",
       "  </thead>\n",
       "  <tbody>\n",
       "    <tr>\n",
       "      <th>0</th>\n",
       "      <td>5.1</td>\n",
       "      <td>3.5</td>\n",
       "      <td>1.4</td>\n",
       "      <td>0.2</td>\n",
       "    </tr>\n",
       "    <tr>\n",
       "      <th>1</th>\n",
       "      <td>4.9</td>\n",
       "      <td>3.0</td>\n",
       "      <td>1.4</td>\n",
       "      <td>0.2</td>\n",
       "    </tr>\n",
       "    <tr>\n",
       "      <th>2</th>\n",
       "      <td>4.7</td>\n",
       "      <td>3.2</td>\n",
       "      <td>1.3</td>\n",
       "      <td>0.2</td>\n",
       "    </tr>\n",
       "    <tr>\n",
       "      <th>3</th>\n",
       "      <td>4.6</td>\n",
       "      <td>3.1</td>\n",
       "      <td>1.5</td>\n",
       "      <td>0.2</td>\n",
       "    </tr>\n",
       "    <tr>\n",
       "      <th>4</th>\n",
       "      <td>5.0</td>\n",
       "      <td>3.6</td>\n",
       "      <td>1.4</td>\n",
       "      <td>0.2</td>\n",
       "    </tr>\n",
       "  </tbody>\n",
       "</table>\n",
       "</div>"
      ],
      "text/plain": [
       "   sepal length (cm)  sepal width (cm)  petal length (cm)  petal width (cm)\n",
       "0                5.1               3.5                1.4               0.2\n",
       "1                4.9               3.0                1.4               0.2\n",
       "2                4.7               3.2                1.3               0.2\n",
       "3                4.6               3.1                1.5               0.2\n",
       "4                5.0               3.6                1.4               0.2"
      ]
     },
     "execution_count": 77,
     "metadata": {},
     "output_type": "execute_result"
    }
   ],
   "source": [
    "iris_df.head()"
   ]
  },
  {
   "cell_type": "markdown",
   "id": "ef8e5749",
   "metadata": {},
   "source": [
    "레이블 값 0,1,2 모두 50개로 동일(Setosa, Versicolor, Virginica 품종 모두 50개)"
   ]
  },
  {
   "cell_type": "code",
   "execution_count": 78,
   "id": "50289d14",
   "metadata": {},
   "outputs": [
    {
     "data": {
      "text/plain": [
       "0    50\n",
       "1    50\n",
       "2    50\n",
       "Name: label, dtype: int64"
      ]
     },
     "execution_count": 78,
     "metadata": {},
     "output_type": "execute_result"
    }
   ],
   "source": [
    "iris_df['label'] = iris.target\n",
    "iris_df['label'].value_counts()"
   ]
  },
  {
   "cell_type": "markdown",
   "id": "028446c9",
   "metadata": {},
   "source": [
    "#### 이슈가 발생하는 상황에서 K폴드와 StratifiedK폴드 비교\n",
    "\n",
    "\n"
   ]
  },
  {
   "cell_type": "markdown",
   "id": "1c93f72d",
   "metadata": {},
   "source": [
    "**K폴드(n_splits=3)인 상황에서**  \n",
    "\n",
    "- 3개의 폴드 세트를 K폴드로 생성하고, 각 교차 검증 시마다 생성되는 학습.검증 레이블 데이터 값의 분포도 확인\n",
    "<br/>\n",
    "\n",
    "- 교차 검증 시마다 3개의 폴드 세트로 만들어지는 학습레이블 2개, 검증레이블 1개 완전히 다른 값으로 추출\n",
    "<br/>\n",
    "\n",
    "- 이 중 첫번째 교차검증을 보면 학습 레이블은 1,2 밖에 없으므로 0의 경우는 전혀 학습하지 못하고, 검증 레이블은 0밖에 없으므로 학습모델은 절대 0을 예측하지 못함  \n",
    "이런 유형으로 교차 검증 데이터 세트를 분할하면 검증 예측 정확도는 0이 됨"
   ]
  },
  {
   "cell_type": "code",
   "execution_count": 87,
   "id": "62cd2f8d",
   "metadata": {},
   "outputs": [
    {
     "name": "stdout",
     "output_type": "stream",
     "text": [
      "## 교차 검증: 1\n",
      "학습 레이블 데이터 분포:\n",
      " 1    50\n",
      "2    50\n",
      "Name: label, dtype: int64\n",
      "검증 레이블 데이터 분포:\n",
      " 0    50\n",
      "Name: label, dtype: int64\n",
      "\n",
      "\n",
      "\n",
      "## 교차 검증: 2\n",
      "학습 레이블 데이터 분포:\n",
      " 0    50\n",
      "2    50\n",
      "Name: label, dtype: int64\n",
      "검증 레이블 데이터 분포:\n",
      " 1    50\n",
      "Name: label, dtype: int64\n",
      "\n",
      "\n",
      "\n",
      "## 교차 검증: 3\n",
      "학습 레이블 데이터 분포:\n",
      " 0    50\n",
      "1    50\n",
      "Name: label, dtype: int64\n",
      "검증 레이블 데이터 분포:\n",
      " 2    50\n",
      "Name: label, dtype: int64\n",
      "\n",
      "\n",
      "\n"
     ]
    }
   ],
   "source": [
    "kfold = KFold(n_splits=3)\n",
    "# kfold.split(X)는 폴드 세트를 3번 반복할 때마다 달라지는 학습/테스트 용 데이터 로우 인덱스 번호 반환. \n",
    "n_iter =0\n",
    "for train_index, test_index  in kfold.split(iris_df):\n",
    "    n_iter += 1\n",
    "    label_train= iris_df['label'].iloc[train_index]\n",
    "    label_test= iris_df['label'].iloc[test_index]\n",
    "    print('## 교차 검증: {0}'.format(n_iter))\n",
    "    print('학습 레이블 데이터 분포:\\n', label_train.value_counts())\n",
    "    print('검증 레이블 데이터 분포:\\n', label_test.value_counts())\n",
    "    print('\\n\\n')"
   ]
  },
  {
   "cell_type": "code",
   "execution_count": 88,
   "id": "9f36fc99",
   "metadata": {},
   "outputs": [
    {
     "name": "stdout",
     "output_type": "stream",
     "text": [
      "\n",
      "#1 교차 검증 정확도 :0.0, 학습 데이터 크기: 100,검증 데이터 크기: 50\n",
      "#1 검증 세트 인덱스:[ 0  1  2  3  4  5  6  7  8  9 10 11 12 13 14 15 16 17 18 19 20 21 22 23\n",
      " 24 25 26 27 28 29 30 31 32 33 34 35 36 37 38 39 40 41 42 43 44 45 46 47\n",
      " 48 49]\n",
      "\n",
      "#2 교차 검증 정확도 :0.0, 학습 데이터 크기: 100,검증 데이터 크기: 50\n",
      "#2 검증 세트 인덱스:[50 51 52 53 54 55 56 57 58 59 60 61 62 63 64 65 66 67 68 69 70 71 72 73\n",
      " 74 75 76 77 78 79 80 81 82 83 84 85 86 87 88 89 90 91 92 93 94 95 96 97\n",
      " 98 99]\n",
      "\n",
      "#3 교차 검증 정확도 :0.0, 학습 데이터 크기: 100,검증 데이터 크기: 50\n",
      "#3 검증 세트 인덱스:[100 101 102 103 104 105 106 107 108 109 110 111 112 113 114 115 116 117\n",
      " 118 119 120 121 122 123 124 125 126 127 128 129 130 131 132 133 134 135\n",
      " 136 137 138 139 140 141 142 143 144 145 146 147 148 149]\n",
      "\n",
      "## 교차 검증별 정확도: [0. 0. 0.]\n",
      "## 평균 검증 정확도: 0.0\n"
     ]
    }
   ],
   "source": [
    "dt_clf = LogisticRegression(max_iter=4000)\n",
    "\n",
    "kfold = KFold(n_splits=3)\n",
    "n_iter=0\n",
    "cv_accuracy=[]\n",
    "\n",
    "# StratifiedKFold의 split( ) 호출시 반드시 레이블 데이터 셋도 추가 입력 필요  \n",
    "for train_index, test_index  in kfold.split(iris.data):\n",
    "    # split( )으로 반환된 인덱스를 이용하여 학습용, 검증용 테스트 데이터 추출\n",
    "    X_train, X_test = iris.data[train_index], iris.data[test_index]\n",
    "    y_train, y_test = iris.target[train_index], iris.target[test_index]\n",
    "    #학습 및 예측 \n",
    "    dt_clf.fit(X_train , y_train)    \n",
    "    pred = dt_clf.predict(X_test)\n",
    "\n",
    "    # 반복 시 마다 정확도 측정 \n",
    "    n_iter += 1\n",
    "    accuracy = np.round(accuracy_score(y_test,pred), 4)\n",
    "    train_size = X_train.shape[0]\n",
    "    test_size = X_test.shape[0]\n",
    "    print('\\n#{0} 교차 검증 정확도 :{1}, 학습 데이터 크기: {2},검증 데이터 크기: {3}' \n",
    "          .format(n_iter, accuracy, train_size, test_size))\n",
    "    print('#{0} 검증 세트 인덱스:{1}'.format(n_iter,test_index))\n",
    "    cv_accuracy.append(accuracy)\n",
    "    \n",
    "# 교차 검증별 정확도 및 평균 정확도 계산 \n",
    "print('\\n## 교차 검증별 정확도:', np.round(cv_accuracy, 4))\n",
    "print('## 평균 검증 정확도:', np.mean(cv_accuracy))\n"
   ]
  },
  {
   "cell_type": "markdown",
   "id": "53b69649",
   "metadata": {},
   "source": [
    "**Stratified K폴드(n_splits=3)인 상황에서**\n",
    "\n",
    "- StratifiedKFold는 위에서 확인한 KFold의 문제점(분할된 레이블 데이터 세트가 전체 레이블 값의 분포도를 반영 못함)을 해결해준다.\n",
    "<br/>\n",
    "- 사용하는 법은 KFold와 거의 비슷하지만, 레이블 데이터 분포도에 따라 학습/검증 데이터를 나누기 때문에 split() 메서드에 인자로 피처 데이터 세트뿐만 아니라 레이블 데이터 세트도 반드시 넣어줘야 함\n",
    "<br/>\n",
    "\n",
    "- 출력 결과를 보면 학습 레이블과 검증 레이블 데이터 값의 분포가 학습레이블 3개/검증레이블 3개로 동일하게 할당됨\n",
    "    첫번째 교차 검증에서 학습 레이블 0,1,2 각각 33개, 검증 레이블 0,1,2 각각 17개로 레이블별로 동일하게 할당됨\n",
    "\n",
    "- 이렇게 분할이 되어야 레이블 0,1,2를 모두 학습할 수 있고, 이에 기반해 검증을 수행할 수 있음.\n",
    "    \n",
    "즉, 일반적으로 stratified k폴드를 사용"
   ]
  },
  {
   "cell_type": "code",
   "execution_count": 85,
   "id": "b62fdbed",
   "metadata": {},
   "outputs": [
    {
     "name": "stdout",
     "output_type": "stream",
     "text": [
      "## 교차 검증: 1\n",
      "학습 레이블 데이터 분포 : \n",
      " 2    34\n",
      "0    33\n",
      "1    33\n",
      "Name: label, dtype: int64\n",
      "검증 레이블 데이터 분포 : \n",
      " 0    17\n",
      "1    17\n",
      "2    16\n",
      "Name: label, dtype: int64\n",
      "\n",
      "\n",
      "\n",
      "## 교차 검증: 2\n",
      "학습 레이블 데이터 분포 : \n",
      " 1    34\n",
      "0    33\n",
      "2    33\n",
      "Name: label, dtype: int64\n",
      "검증 레이블 데이터 분포 : \n",
      " 0    17\n",
      "2    17\n",
      "1    16\n",
      "Name: label, dtype: int64\n",
      "\n",
      "\n",
      "\n",
      "## 교차 검증: 3\n",
      "학습 레이블 데이터 분포 : \n",
      " 0    34\n",
      "1    33\n",
      "2    33\n",
      "Name: label, dtype: int64\n",
      "검증 레이블 데이터 분포 : \n",
      " 1    17\n",
      "2    17\n",
      "0    16\n",
      "Name: label, dtype: int64\n",
      "\n",
      "\n",
      "\n"
     ]
    }
   ],
   "source": [
    "skf = StratifiedKFold(n_splits=3) # default: n_splits = 5\n",
    "n_iter = 0\n",
    "\n",
    "for train_index, test_index in skf.split(iris_df, iris_df['label']):\n",
    "    n_iter += 1\n",
    "    label_train = iris_df['label'].iloc[train_index]\n",
    "    label_test = iris_df['label'].iloc[test_index]\n",
    "    print('## 교차 검증: {0}'.format(n_iter))\n",
    "    print('학습 레이블 데이터 분포 : \\n', label_train.value_counts())\n",
    "    print('검증 레이블 데이터 분포 : \\n', label_test.value_counts())\n",
    "    print('\\n\\n')"
   ]
  },
  {
   "cell_type": "markdown",
   "id": "4b77ffc2",
   "metadata": {},
   "source": [
    "3개의 Stratified K폴드로 교차 검증, 교차 검증별 정확도와 평균 정확도 출력\n",
    "\n",
    "원본 데이터의 레이블 분포도 특성을 반영한 학습 및 검증 데이터 세트를 만들 수 있으므로, 왜곡된 레이블 세트에서는 반드시 Stratified K폴드로 교차 검증해야함"
   ]
  },
  {
   "cell_type": "code",
   "execution_count": 89,
   "id": "b8eacd99",
   "metadata": {},
   "outputs": [
    {
     "name": "stdout",
     "output_type": "stream",
     "text": [
      "\n",
      "#1 교차 검증 정확도 :0.98, 학습 데이터 크기: 100,검증 데이터 크기: 50\n",
      "#1 검증 세트 인덱스:[  0   1   2   3   4   5   6   7   8   9  10  11  12  13  14  15  16  50\n",
      "  51  52  53  54  55  56  57  58  59  60  61  62  63  64  65  66 100 101\n",
      " 102 103 104 105 106 107 108 109 110 111 112 113 114 115]\n",
      "\n",
      "#2 교차 검증 정확도 :0.96, 학습 데이터 크기: 100,검증 데이터 크기: 50\n",
      "#2 검증 세트 인덱스:[ 17  18  19  20  21  22  23  24  25  26  27  28  29  30  31  32  33  67\n",
      "  68  69  70  71  72  73  74  75  76  77  78  79  80  81  82 116 117 118\n",
      " 119 120 121 122 123 124 125 126 127 128 129 130 131 132]\n",
      "\n",
      "#3 교차 검증 정확도 :0.98, 학습 데이터 크기: 100,검증 데이터 크기: 50\n",
      "#3 검증 세트 인덱스:[ 34  35  36  37  38  39  40  41  42  43  44  45  46  47  48  49  83  84\n",
      "  85  86  87  88  89  90  91  92  93  94  95  96  97  98  99 133 134 135\n",
      " 136 137 138 139 140 141 142 143 144 145 146 147 148 149]\n",
      "\n",
      "## 교차 검증별 정확도: [0.98 0.96 0.98]\n",
      "## 평균 검증 정확도: 0.9733333333333333\n"
     ]
    }
   ],
   "source": [
    "dt_clf = LogisticRegression(max_iter=4000)\n",
    "\n",
    "skfold = StratifiedKFold(n_splits=3)\n",
    "n_iter=0\n",
    "cv_accuracy=[]\n",
    "\n",
    "# StratifiedKFold의 split( ) 호출시 반드시 레이블 데이터 셋도 추가 입력 필요  \n",
    "for train_index, test_index  in skfold.split(iris.data, iris.target):\n",
    "    # split( )으로 반환된 인덱스를 이용하여 학습용, 검증용 테스트 데이터 추출\n",
    "    X_train, X_test = iris.data[train_index], iris.data[test_index]\n",
    "    y_train, y_test = iris.target[train_index], iris.target[test_index]\n",
    "    #학습 및 예측 \n",
    "    dt_clf.fit(X_train , y_train)    \n",
    "    pred = dt_clf.predict(X_test)\n",
    "\n",
    "    # 반복 시 마다 정확도 측정 \n",
    "    n_iter += 1\n",
    "    accuracy = np.round(accuracy_score(y_test,pred), 4)\n",
    "    train_size = X_train.shape[0]\n",
    "    test_size = X_test.shape[0]\n",
    "    print('\\n#{0} 교차 검증 정확도 :{1}, 학습 데이터 크기: {2},검증 데이터 크기: {3}' \n",
    "          .format(n_iter, accuracy, train_size, test_size))\n",
    "    print('#{0} 검증 세트 인덱스:{1}'.format(n_iter,test_index))\n",
    "    cv_accuracy.append(accuracy)\n",
    "    \n",
    "# 교차 검증별 정확도 및 평균 정확도 계산 \n",
    "print('\\n## 교차 검증별 정확도:', np.round(cv_accuracy, 4))\n",
    "print('## 평균 검증 정확도:', np.mean(cv_accuracy))\n"
   ]
  },
  {
   "cell_type": "markdown",
   "id": "52fd6558",
   "metadata": {},
   "source": [
    "### cross_val_score\n",
    "\n",
    "- K폴드나 Stratified K폴드 같은 교차 검증을 더 편리하게 수행할 수 있도록 사이킷런에서 제공하는 대표적인 API\n",
    "<br/>\n",
    "\n",
    "- 폴드 세트 설정, for루프에서 반복으로 학습 및 테스트 데이터 인덱스 추출, 반복적으로 학습과 예측 수행 및 예측 성능 반환\n",
    "    이 일련의 과정을 한번에 수행해주는 API   \n",
    "<br/>\n",
    "\n",
    "- cross_val_score(estimator, X, y=None, scoring=None, cv-None, n_jobs-1, verbose-0, fit_params=None, pre_dispatch=2*n_jobs)  \n",
    "estimator : 알고리즘  클래스\n",
    "X : 피처 데이터 세트  \n",
    "y : 레이블 데이터 세트  \n",
    "scoring : 예측 성능 평가 지표  \n",
    "cv : 교차 검증 폴드 수\n",
    "\n",
    "\n",
    "\n",
    "cross_val_score는 내부적으로는 **Stratified K폴드**를 사용    \n",
    "cross_val_score는 accuracy정확도 평가지표만 보여주지만,    \n",
    "**cross_validate**는 여러 개의 평가 지표 반환함  \n",
    "\n",
    "즉, 여태까지 한 반복작업들을 한번에 해줌"
   ]
  },
  {
   "cell_type": "code",
   "execution_count": 2,
   "id": "6aae120d",
   "metadata": {},
   "outputs": [
    {
     "name": "stdout",
     "output_type": "stream",
     "text": [
      "교차 검증별 정확도: [0.98 0.94 0.98]\n",
      "평균 검증 정확도: 0.9667\n"
     ]
    }
   ],
   "source": [
    "from sklearn.tree import DecisionTreeClassifier\n",
    "from sklearn.model_selection import cross_val_score , cross_validate\n",
    "from sklearn.datasets import load_iris\n",
    "import numpy as np\n",
    "\n",
    "iris_data = load_iris()\n",
    "dt_clf = DecisionTreeClassifier(random_state=156)\n",
    "\n",
    "data = iris_data.data\n",
    "label = iris_data.target\n",
    "\n",
    "# 성능 지표는 정확도(accuracy) , 교차 검증 세트는 3개 \n",
    "scores = cross_val_score(dt_clf , data , label , scoring='accuracy',cv=3)\n",
    "print('교차 검증별 정확도:',np.round(scores, 4))\n",
    "print('평균 검증 정확도:', np.round(np.mean(scores), 4))"
   ]
  },
  {
   "cell_type": "markdown",
   "id": "97ce5559",
   "metadata": {},
   "source": [
    "- cv로 지정된 횟수만큼 scoring 파리미터로 지정된 평가 지표로 평가 결괏값을 배열로 반환함  \n",
    "<br/>\n",
    "\n",
    "- 일반적으로 이를 평균해 평가 수치로 사용함   \n",
    "<br/>\n",
    "\n",
    "- cross_val_score()는 내부에서 Estimator를 학습(fit), 예측(predict), 평가(evaluation)시켜줘 간단하게 교차검증 수행 가능  \n"
   ]
  },
  {
   "cell_type": "markdown",
   "id": "6f0be852",
   "metadata": {},
   "source": [
    "### GridSearchCV\n",
    "\n",
    "- 교차 검증과 최적 하이퍼 파라미터 튜닝을 한 번에 수행\n",
    "<br/>\n",
    "\n",
    "- 알고리즘에 사용되는 하이퍼 파라미터를 순차적으로 입력하면서 편리하게 최적의 파라미터를 도출할 수 있는 방안을 제공\n",
    "<br/>\n",
    "\n",
    "- 교차 검증을 기반으로 하이퍼 파라미터의 최적 값을 찾음.\n",
    "     데이터 세트를 cross-validation을 위한 학습/테스트 세트로 자동으로 분할한 뒤에 하이퍼 마라미터 그리드에 기술된 모든 파라미터를 순차적으로 적용해 최적 파라미터 찾음\n",
    "<br/>\n",
    "\n",
    "- 순차적으로 하이퍼 파라미터를 변경하면서 교차 검증 데이터 세트에 수행 성능을 측정.\n",
    "    (ex) cv 3회 * 6개 파라미터 조합 = 18회 학습/평가\n",
    "<br/>\n",
    "\n",
    "- GridSearchCV(estimator, param_grid, scoring, cv, refit)  \n",
    "estimator : 알고리즘 클래스  \n",
    "param_grid : key + list 값을 가지는 딕셔너리가 주어짐. estimator의 튜닝을 위해 파리머터명과 사용될 여러 파라미터 값을 지정  \n",
    "scoring : 예측 성능을 측정할 평가 방법을 지정  \n",
    "cv : 교차 검증을 위해 분할되는 학습.테스트 세트 개수 지정  \n",
    "refit : 디폴트가 True, True로 생성 시 가장 최적의 하이퍼 파라미터를 찾은 뒤 입력 된 estimator 객체를 해당 하이퍼 파라미터로 재학습시킴\n",
    "\n",
    "\n",
    "아래는 결정 트리 알고리즘의 여러 가지 최적화 파라미터를 순차적으로 적용해 붓꽃 데이터를 예측 분석하는 데 GridSearchCV를 이용하는 예제.  \n",
    "학습/테스트 데이터 분리 후 학습 데이터에서 GridSearchCV를 이용해 최적 하이퍼 파라미터 추출.\n",
    "\n",
    "DecisionTreeClassifier의 중요 하이퍼 파라미터 : max_depth,  min_samples_split\n"
   ]
  },
  {
   "cell_type": "code",
   "execution_count": 4,
   "id": "fab706eb",
   "metadata": {},
   "outputs": [],
   "source": [
    "from sklearn.datasets import load_iris\n",
    "from sklearn.tree import DecisionTreeClassifier\n",
    "from sklearn.model_selection import GridSearchCV, train_test_split\n",
    "\n",
    "# 데이터를 로딩하고 학습데이타와 테스트 데이터 분리\n",
    "iris = load_iris()\n",
    "X_train, X_test, y_train, y_test = train_test_split(iris_data.data, iris_data.target, \n",
    "                                                    test_size=0.2, random_state=121)\n",
    "dtree = DecisionTreeClassifier()\n",
    "\n",
    "# 테스트할 파라미터 세트는 딕셔너리 형태 \n",
    "# 하이퍼 파라미터의 명칭은 문자열 Key값 , 하이퍼 파라미터 값은 리스트 \n",
    "parameters = {'max_depth':[1,2,3], 'min_samples_split':[2,3]}"
   ]
  },
  {
   "cell_type": "markdown",
   "id": "117e0cb8",
   "metadata": {},
   "source": [
    "학습 데이터 세트를 GridSearchCV 객체의 fit() 메서드에 인자로 입력  \n",
    "\n",
    "학습 데이터를 cv에 입력된 폴딩 세트로 분할해 param_grid에 기술된 하이퍼 파라미터를 순차적으로 변경하면서 학습/평가를 수행하고 결과를 **cv_results_** 속성에 기록함\n",
    "\n",
    "cv_results_는 GridSearchCV의 결과 세트이며, 딕셔너리 형태로 key값과 list형태의 value값 가짐  "
   ]
  },
  {
   "cell_type": "code",
   "execution_count": 5,
   "id": "1e54946e",
   "metadata": {},
   "outputs": [
    {
     "data": {
      "text/html": [
       "<div>\n",
       "<style scoped>\n",
       "    .dataframe tbody tr th:only-of-type {\n",
       "        vertical-align: middle;\n",
       "    }\n",
       "\n",
       "    .dataframe tbody tr th {\n",
       "        vertical-align: top;\n",
       "    }\n",
       "\n",
       "    .dataframe thead th {\n",
       "        text-align: right;\n",
       "    }\n",
       "</style>\n",
       "<table border=\"1\" class=\"dataframe\">\n",
       "  <thead>\n",
       "    <tr style=\"text-align: right;\">\n",
       "      <th></th>\n",
       "      <th>params</th>\n",
       "      <th>mean_test_score</th>\n",
       "      <th>rank_test_score</th>\n",
       "      <th>split0_test_score</th>\n",
       "      <th>split1_test_score</th>\n",
       "      <th>split2_test_score</th>\n",
       "    </tr>\n",
       "  </thead>\n",
       "  <tbody>\n",
       "    <tr>\n",
       "      <th>0</th>\n",
       "      <td>{'max_depth': 1, 'min_samples_split': 2}</td>\n",
       "      <td>0.700000</td>\n",
       "      <td>5</td>\n",
       "      <td>0.700</td>\n",
       "      <td>0.7</td>\n",
       "      <td>0.70</td>\n",
       "    </tr>\n",
       "    <tr>\n",
       "      <th>1</th>\n",
       "      <td>{'max_depth': 1, 'min_samples_split': 3}</td>\n",
       "      <td>0.700000</td>\n",
       "      <td>5</td>\n",
       "      <td>0.700</td>\n",
       "      <td>0.7</td>\n",
       "      <td>0.70</td>\n",
       "    </tr>\n",
       "    <tr>\n",
       "      <th>2</th>\n",
       "      <td>{'max_depth': 2, 'min_samples_split': 2}</td>\n",
       "      <td>0.958333</td>\n",
       "      <td>3</td>\n",
       "      <td>0.925</td>\n",
       "      <td>1.0</td>\n",
       "      <td>0.95</td>\n",
       "    </tr>\n",
       "    <tr>\n",
       "      <th>3</th>\n",
       "      <td>{'max_depth': 2, 'min_samples_split': 3}</td>\n",
       "      <td>0.958333</td>\n",
       "      <td>3</td>\n",
       "      <td>0.925</td>\n",
       "      <td>1.0</td>\n",
       "      <td>0.95</td>\n",
       "    </tr>\n",
       "    <tr>\n",
       "      <th>4</th>\n",
       "      <td>{'max_depth': 3, 'min_samples_split': 2}</td>\n",
       "      <td>0.975000</td>\n",
       "      <td>1</td>\n",
       "      <td>0.975</td>\n",
       "      <td>1.0</td>\n",
       "      <td>0.95</td>\n",
       "    </tr>\n",
       "    <tr>\n",
       "      <th>5</th>\n",
       "      <td>{'max_depth': 3, 'min_samples_split': 3}</td>\n",
       "      <td>0.975000</td>\n",
       "      <td>1</td>\n",
       "      <td>0.975</td>\n",
       "      <td>1.0</td>\n",
       "      <td>0.95</td>\n",
       "    </tr>\n",
       "  </tbody>\n",
       "</table>\n",
       "</div>"
      ],
      "text/plain": [
       "                                     params  mean_test_score  rank_test_score  \\\n",
       "0  {'max_depth': 1, 'min_samples_split': 2}         0.700000                5   \n",
       "1  {'max_depth': 1, 'min_samples_split': 3}         0.700000                5   \n",
       "2  {'max_depth': 2, 'min_samples_split': 2}         0.958333                3   \n",
       "3  {'max_depth': 2, 'min_samples_split': 3}         0.958333                3   \n",
       "4  {'max_depth': 3, 'min_samples_split': 2}         0.975000                1   \n",
       "5  {'max_depth': 3, 'min_samples_split': 3}         0.975000                1   \n",
       "\n",
       "   split0_test_score  split1_test_score  split2_test_score  \n",
       "0              0.700                0.7               0.70  \n",
       "1              0.700                0.7               0.70  \n",
       "2              0.925                1.0               0.95  \n",
       "3              0.925                1.0               0.95  \n",
       "4              0.975                1.0               0.95  \n",
       "5              0.975                1.0               0.95  "
      ]
     },
     "execution_count": 5,
     "metadata": {},
     "output_type": "execute_result"
    }
   ],
   "source": [
    "import pandas as pd\n",
    "\n",
    "# param_grid의 하이퍼 파라미터들을 3개의 train, test set fold 로 나누어서 테스트 수행 설정.  \n",
    "### refit=True 가 default 임. True이면 가장 좋은 파라미터 설정으로 재 학습 시킴.  \n",
    "grid_dtree = GridSearchCV(dtree, param_grid=parameters, cv=3, refit=True)\n",
    "\n",
    "# 붓꽃 Train 데이터로 param_grid의 하이퍼 파라미터들을 순차적으로 학습/평가 .\n",
    "grid_dtree.fit(X_train, y_train)\n",
    "\n",
    "# GridSearchCV 결과 추출하여 DataFrame으로 변환\n",
    "scores_df = pd.DataFrame(grid_dtree.cv_results_)\n",
    "scores_df[['params', 'mean_test_score', 'rank_test_score', \\\n",
    "           'split0_test_score', 'split1_test_score', 'split2_test_score']]"
   ]
  },
  {
   "cell_type": "markdown",
   "id": "540e728b",
   "metadata": {},
   "source": [
    "위의 결과는 하이퍼 파라미터 max_depth와 min_samples_split을 순차적으로 총 6번 병경하면서 학습 및 평가를 수행했음을 나타냄  \n",
    "\n",
    "- params : 수행할 때마다 적용된 하이퍼 파라미터값  \n",
    "<br/>\n",
    "\n",
    "- mean_test_score : 개별 하이퍼 파라미터별로 CV의 폴딩 테스트 세트(split0_test_score\tsplit1_test_score\tsplit2_test_score)에 대해 총 수행한 평가 평균값  \n",
    "<br/>\n",
    "\n",
    "- rank_test_score : 하이퍼 파라미터별로 성능이 좋은 score 순위를 나타냄. 1이 가장 뛰어난 순위이며, **1위 파라미터가 최적의 하이퍼 파라미터임**"
   ]
  },
  {
   "cell_type": "markdown",
   "id": "98cc558a",
   "metadata": {},
   "source": [
    "GridSearchCV 객체의 fit()을 수행하면 최고 성능을 나타낸 하이퍼 파라미터의 값과 그때의 평가 결과 값이 각각 best_params_, best_score_ 속성에 기록됨"
   ]
  },
  {
   "cell_type": "code",
   "execution_count": 6,
   "id": "7a6d62f3",
   "metadata": {},
   "outputs": [
    {
     "name": "stdout",
     "output_type": "stream",
     "text": [
      "GridSearchCV 최적 파라미터: {'max_depth': 3, 'min_samples_split': 2}\n",
      "GridSearchCV 최고 정확도: 0.9750\n"
     ]
    }
   ],
   "source": [
    "print('GridSearchCV 최적 파라미터:', grid_dtree.best_params_)\n",
    "print('GridSearchCV 최고 정확도: {0:.4f}'.format(grid_dtree.best_score_))"
   ]
  },
  {
   "cell_type": "markdown",
   "id": "c273f7d3",
   "metadata": {},
   "source": [
    "디폴트설정인 refit=True 로 인해 GridSearchCV가 최적 성능을 나타내는 하이퍼 파라미터로 Estimator를 학습해 best_estimator_ 로 저장함.  \n",
    "\n",
    "이미 학습된 _best_estimator_를 이용해 앞에서 train_test_split()으로 분리한 테스트 데이터 세트에 대해 예측하고 성능을 평가"
   ]
  },
  {
   "cell_type": "code",
   "execution_count": 8,
   "id": "0d58e8e1",
   "metadata": {},
   "outputs": [
    {
     "name": "stdout",
     "output_type": "stream",
     "text": [
      "테스트 데이터 세트 정확도: 0.9667\n"
     ]
    }
   ],
   "source": [
    "from sklearn.metrics import accuracy_score\n",
    "# GridSearchCV의 refit으로 이미 학습이 된 estimator 반환\n",
    "estimator = grid_dtree.best_estimator_\n",
    "\n",
    "# GridSearchCV의 best_estimator_는 이미 최적 하이퍼 파라미터로 학습이 됨\n",
    "pred = estimator.predict(X_test)\n",
    "print('테스트 데이터 세트 정확도: {0:.4f}'.format(accuracy_score(y_test,pred)))"
   ]
  },
  {
   "cell_type": "markdown",
   "id": "1f59d6ce",
   "metadata": {},
   "source": [
    "#### 일반적으로 학습 데이터를 GridSearchCV를 이용해 최적 하이퍼 파라미터 튜닝을 수행한 뒤에 별도의 테슽으 세트에서 이를 평가하는 것이 일반적인 머신러닝 모델 적용 방법이다"
   ]
  }
 ],
 "metadata": {
  "kernelspec": {
   "display_name": "Python 3",
   "language": "python",
   "name": "python3"
  },
  "language_info": {
   "codemirror_mode": {
    "name": "ipython",
    "version": 3
   },
   "file_extension": ".py",
   "mimetype": "text/x-python",
   "name": "python",
   "nbconvert_exporter": "python",
   "pygments_lexer": "ipython3",
   "version": "3.8.8"
  }
 },
 "nbformat": 4,
 "nbformat_minor": 5
}
