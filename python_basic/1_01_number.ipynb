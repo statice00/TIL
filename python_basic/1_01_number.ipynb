{
 "cells": [
  {
   "cell_type": "markdown",
   "id": "7630844f",
   "metadata": {},
   "source": [
    "![자료형](https://076923.github.io/assets/images/Python/ch3/2.png)"
   ]
  },
  {
   "cell_type": "markdown",
   "id": "d07076f2",
   "metadata": {},
   "source": [
    "##### container는 특성의 종류에 따라서 분류  \n",
    "\n",
    "||container의 특징|||\n",
    "|:---:|:---:|:---:|:---:|\n",
    "|구분|예||아니오||\n",
    "|같은 타입만 요소로 갖는가?|homogeneous|<->|heterogeneous|\n",
    "|순서가 중요한가?|sequence|<->|non-sequence|\n",
    "|바뀔 수 있는가?|mutable|<->|immutable|"
   ]
  },
  {
   "cell_type": "markdown",
   "id": "508c0cba",
   "metadata": {},
   "source": [
    "# 자료형(data type)\n",
    "\n",
    "## 숫자형(number)\n",
    "- 정수(integer)\n",
    "- 실수(flosting point)\n",
    "- 복소수(complex)\n",
    "- 논리(boolean)"
   ]
  },
  {
   "cell_type": "code",
   "execution_count": 41,
   "id": "2ce1963d",
   "metadata": {},
   "outputs": [
    {
     "data": {
      "text/plain": [
       "int"
      ]
     },
     "execution_count": 41,
     "metadata": {},
     "output_type": "execute_result"
    }
   ],
   "source": [
    "a = 7\n",
    "type(a)"
   ]
  },
  {
   "cell_type": "code",
   "execution_count": 42,
   "id": "ddfedcbd",
   "metadata": {},
   "outputs": [
    {
     "data": {
      "text/plain": [
       "float"
      ]
     },
     "execution_count": 42,
     "metadata": {},
     "output_type": "execute_result"
    }
   ],
   "source": [
    "b = 8.9\n",
    "type(b)"
   ]
  },
  {
   "cell_type": "code",
   "execution_count": 43,
   "id": "f4ecb692",
   "metadata": {},
   "outputs": [
    {
     "data": {
      "text/plain": [
       "complex"
      ]
     },
     "execution_count": 43,
     "metadata": {},
     "output_type": "execute_result"
    }
   ],
   "source": [
    "c = 5 + 1j\n",
    "type(c)"
   ]
  },
  {
   "cell_type": "code",
   "execution_count": 47,
   "id": "a9f70947",
   "metadata": {},
   "outputs": [
    {
     "data": {
      "text/plain": [
       "bool"
      ]
     },
     "execution_count": 47,
     "metadata": {},
     "output_type": "execute_result"
    }
   ],
   "source": [
    "d = True\n",
    "type(d)"
   ]
  },
  {
   "cell_type": "markdown",
   "id": "d6919755",
   "metadata": {},
   "source": [
    "### 실수형(float)\n",
    "\n",
    "    - 부동 소수(float)는 2가지 literal 방식으로 만들 수 잇다.\n",
    "        - .(점)을 붙여서 부동소수를 표현할 수 있다.\n",
    "        - e를 붙여서 지수로 부동소수를 표현할 수 있다."
   ]
  },
  {
   "cell_type": "markdown",
   "id": "fabc028f",
   "metadata": {},
   "source": [
    " .(점)을 붙여서 부동소수를 표현할 수 있다."
   ]
  },
  {
   "cell_type": "code",
   "execution_count": 44,
   "id": "e9c2fd9a",
   "metadata": {},
   "outputs": [],
   "source": [
    "a = .1 # .(점)앞에 0이 생략되어도 float으로 인식한다.\n",
    "b = 1. # .(점)뒤에 0이 생략되어도 float으로 인식한다."
   ]
  },
  {
   "cell_type": "code",
   "execution_count": 48,
   "id": "025c0cae",
   "metadata": {
    "scrolled": true
   },
   "outputs": [
    {
     "name": "stdout",
     "output_type": "stream",
     "text": [
      "<class 'float'> <class 'float'>\n"
     ]
    }
   ],
   "source": [
    "print(type(a),type(b))"
   ]
  },
  {
   "cell_type": "markdown",
   "id": "663d1d15",
   "metadata": {},
   "source": [
    " e를 붙여서 지수로 부동소수를 표현할 수 있다."
   ]
  },
  {
   "cell_type": "code",
   "execution_count": 49,
   "id": "6849c605",
   "metadata": {},
   "outputs": [
    {
     "data": {
      "text/plain": [
       "100.0"
      ]
     },
     "execution_count": 49,
     "metadata": {},
     "output_type": "execute_result"
    }
   ],
   "source": [
    "a = 1e2\n",
    "a"
   ]
  },
  {
   "cell_type": "code",
   "execution_count": 50,
   "id": "082630d4",
   "metadata": {},
   "outputs": [
    {
     "data": {
      "text/plain": [
       "0.01"
      ]
     },
     "execution_count": 50,
     "metadata": {},
     "output_type": "execute_result"
    }
   ],
   "source": [
    "b = 1e-2\n",
    "b"
   ]
  },
  {
   "cell_type": "markdown",
   "id": "fdf1cb2d",
   "metadata": {},
   "source": [
    "### 복소수(complex)\n",
    " - 복소수(complex)는 j를 이용해서 표현한다.\n",
    " - j는 -1의 제곱근을 표현하는 허수이다.\n",
    " - 복소수는 실수와 허수로 구성된다."
   ]
  },
  {
   "cell_type": "code",
   "execution_count": 51,
   "id": "904cbc18",
   "metadata": {},
   "outputs": [
    {
     "data": {
      "text/plain": [
       "(5+1j)"
      ]
     },
     "execution_count": 51,
     "metadata": {},
     "output_type": "execute_result"
    }
   ],
   "source": [
    "a = 5+1j\n",
    "a"
   ]
  },
  {
   "cell_type": "code",
   "execution_count": 52,
   "id": "49cce3ed",
   "metadata": {},
   "outputs": [
    {
     "data": {
      "text/plain": [
       "complex"
      ]
     },
     "execution_count": 52,
     "metadata": {},
     "output_type": "execute_result"
    }
   ],
   "source": [
    "type(a)"
   ]
  },
  {
   "cell_type": "markdown",
   "id": "f6399a11",
   "metadata": {},
   "source": [
    "### 숫자 연산과 진법\n",
    "#### 숫자 연산자 "
   ]
  },
  {
   "cell_type": "code",
   "execution_count": 68,
   "id": "35610e09",
   "metadata": {},
   "outputs": [
    {
     "data": {
      "text/plain": [
       "5"
      ]
     },
     "execution_count": 68,
     "metadata": {},
     "output_type": "execute_result"
    }
   ],
   "source": [
    "2+3"
   ]
  },
  {
   "cell_type": "code",
   "execution_count": 69,
   "id": "99a028a3",
   "metadata": {},
   "outputs": [
    {
     "data": {
      "text/plain": [
       "8"
      ]
     },
     "execution_count": 69,
     "metadata": {},
     "output_type": "execute_result"
    }
   ],
   "source": [
    "2**3 #제곱"
   ]
  },
  {
   "cell_type": "code",
   "execution_count": 70,
   "id": "0520d5ae",
   "metadata": {},
   "outputs": [
    {
     "data": {
      "text/plain": [
       "3.3333333333333335"
      ]
     },
     "execution_count": 70,
     "metadata": {},
     "output_type": "execute_result"
    }
   ],
   "source": [
    "10/3 # 몫"
   ]
  },
  {
   "cell_type": "code",
   "execution_count": 71,
   "id": "6833eec2",
   "metadata": {},
   "outputs": [
    {
     "data": {
      "text/plain": [
       "3"
      ]
     },
     "execution_count": 71,
     "metadata": {},
     "output_type": "execute_result"
    }
   ],
   "source": [
    "10//3 # 몫에서 소수점 이하는 버리고 정수값만 반환"
   ]
  },
  {
   "cell_type": "code",
   "execution_count": 72,
   "id": "c34a9eb6",
   "metadata": {},
   "outputs": [
    {
     "data": {
      "text/plain": [
       "-4"
      ]
     },
     "execution_count": 72,
     "metadata": {},
     "output_type": "execute_result"
    }
   ],
   "source": [
    "10//-3 # 음수로 나눌 경우 몫"
   ]
  },
  {
   "cell_type": "code",
   "execution_count": 73,
   "id": "8f19d66a",
   "metadata": {},
   "outputs": [
    {
     "data": {
      "text/plain": [
       "1"
      ]
     },
     "execution_count": 73,
     "metadata": {},
     "output_type": "execute_result"
    }
   ],
   "source": [
    "10%3 # 나머지"
   ]
  },
  {
   "cell_type": "markdown",
   "id": "cba13bc7",
   "metadata": {},
   "source": [
    "#### 진법\n",
    "파이썬 int는 기본적으로 10진법이다.\n",
    "10진법 이외의 수를 literal 방식으로 표현하는 방법은 다음과 같다.\n",
    " - 0b:2진법(binary) : 0 ~ 1 값을 사용한다\n",
    " - 0o:8진법(octal) : 0 ~ 7 값을 사용한다.\n",
    " - 0x:16진법(hexadecimal) : 0 ~ 9와 a ~ f 값을 사용한다."
   ]
  },
  {
   "cell_type": "code",
   "execution_count": 74,
   "id": "6afce26a",
   "metadata": {},
   "outputs": [
    {
     "data": {
      "text/plain": [
       "15"
      ]
     },
     "execution_count": 74,
     "metadata": {},
     "output_type": "execute_result"
    }
   ],
   "source": [
    "0b1111 # 2진법"
   ]
  },
  {
   "cell_type": "code",
   "execution_count": 75,
   "id": "ddce9846",
   "metadata": {},
   "outputs": [
    {
     "data": {
      "text/plain": [
       "15"
      ]
     },
     "execution_count": 75,
     "metadata": {},
     "output_type": "execute_result"
    }
   ],
   "source": [
    "1*(2**3)+1*(2**2)+1*(2**1)+1*(2**0) # 2진법 -> 10진법"
   ]
  },
  {
   "cell_type": "code",
   "execution_count": 76,
   "id": "5dc7dd16",
   "metadata": {},
   "outputs": [
    {
     "data": {
      "text/plain": [
       "9"
      ]
     },
     "execution_count": 76,
     "metadata": {},
     "output_type": "execute_result"
    }
   ],
   "source": [
    "0o11 #8진법"
   ]
  },
  {
   "cell_type": "code",
   "execution_count": 78,
   "id": "9ccd53dc",
   "metadata": {},
   "outputs": [
    {
     "data": {
      "text/plain": [
       "9"
      ]
     },
     "execution_count": 78,
     "metadata": {},
     "output_type": "execute_result"
    }
   ],
   "source": [
    "1*(8**1) + 1*(8**0) # 8진법 -> 10진법"
   ]
  },
  {
   "cell_type": "code",
   "execution_count": 79,
   "id": "52101c9e",
   "metadata": {},
   "outputs": [
    {
     "data": {
      "text/plain": [
       "943"
      ]
     },
     "execution_count": 79,
     "metadata": {},
     "output_type": "execute_result"
    }
   ],
   "source": [
    "0x3af # 16진법"
   ]
  },
  {
   "cell_type": "code",
   "execution_count": 80,
   "id": "912c333f",
   "metadata": {},
   "outputs": [
    {
     "data": {
      "text/plain": [
       "943"
      ]
     },
     "execution_count": 80,
     "metadata": {},
     "output_type": "execute_result"
    }
   ],
   "source": [
    "# a(10) b(11) c(12) d(13) e(14) F(15)\n",
    "3*(16**2) + 10*(16**1) + 15*(16**0)  # 16진법 -> 10진법"
   ]
  },
  {
   "cell_type": "markdown",
   "id": "bcfd9b81",
   "metadata": {},
   "source": [
    "### bool\n",
    "bool타입은 True와 Fals로 구성되어 있다.  \n",
    "int에서 상속받는다."
   ]
  },
  {
   "cell_type": "code",
   "execution_count": 31,
   "id": "d42a719a",
   "metadata": {},
   "outputs": [
    {
     "data": {
      "text/plain": [
       "True"
      ]
     },
     "execution_count": 31,
     "metadata": {},
     "output_type": "execute_result"
    }
   ],
   "source": [
    "True"
   ]
  },
  {
   "cell_type": "code",
   "execution_count": 32,
   "id": "59b540a4",
   "metadata": {},
   "outputs": [
    {
     "data": {
      "text/plain": [
       "False"
      ]
     },
     "execution_count": 32,
     "metadata": {},
     "output_type": "execute_result"
    }
   ],
   "source": [
    "False"
   ]
  },
  {
   "cell_type": "markdown",
   "id": "bbb2c355",
   "metadata": {},
   "source": [
    "bool타입은 int을 상속받은 자료형이다.  \n",
    "True은 1, False은 0에 대응한다"
   ]
  },
  {
   "cell_type": "code",
   "execution_count": 34,
   "id": "3ef6d687",
   "metadata": {},
   "outputs": [
    {
     "data": {
      "text/plain": [
       "2"
      ]
     },
     "execution_count": 34,
     "metadata": {},
     "output_type": "execute_result"
    }
   ],
   "source": [
    "True + 1 "
   ]
  },
  {
   "cell_type": "code",
   "execution_count": 35,
   "id": "cba3137d",
   "metadata": {},
   "outputs": [
    {
     "data": {
      "text/plain": [
       "1"
      ]
     },
     "execution_count": 35,
     "metadata": {},
     "output_type": "execute_result"
    }
   ],
   "source": [
    "False + 1"
   ]
  },
  {
   "cell_type": "markdown",
   "id": "10157aa1",
   "metadata": {},
   "source": [
    "bool타입은 int을 상속받아서 구현이 되었다\n",
    "issubclass()함수는 상속 여부를 확인하는 내장함수(built_in)이다"
   ]
  },
  {
   "cell_type": "code",
   "execution_count": 4,
   "id": "d6804254",
   "metadata": {},
   "outputs": [
    {
     "data": {
      "text/plain": [
       "True"
      ]
     },
     "execution_count": 4,
     "metadata": {},
     "output_type": "execute_result"
    }
   ],
   "source": [
    "issubclass(bool, int) # bool은 int을 상속받았나 확인"
   ]
  },
  {
   "cell_type": "code",
   "execution_count": 5,
   "id": "093182b3",
   "metadata": {},
   "outputs": [
    {
     "data": {
      "text/plain": [
       "False"
      ]
     },
     "execution_count": 5,
     "metadata": {},
     "output_type": "execute_result"
    }
   ],
   "source": [
    "issubclass(bool, float) # bool은 float을 상속받았나 확인"
   ]
  },
  {
   "cell_type": "markdown",
   "id": "8064268d",
   "metadata": {},
   "source": [
    "#### 도움말"
   ]
  },
  {
   "cell_type": "code",
   "execution_count": 1,
   "id": "ca7339c5",
   "metadata": {},
   "outputs": [],
   "source": [
    "import sys # sys 패키지 불러옴"
   ]
  },
  {
   "cell_type": "code",
   "execution_count": 3,
   "id": "bd5816fa",
   "metadata": {
    "scrolled": true
   },
   "outputs": [
    {
     "data": {
      "text/plain": [
       "9223372036854775807"
      ]
     },
     "execution_count": 3,
     "metadata": {},
     "output_type": "execute_result"
    }
   ],
   "source": [
    "sys.maxsize #표현할 수 있는 가장 큰 값\n",
    "# 쥬피터 기능 shift + tab 1번 2번 3번 4번 팝업 설명서 참조 가능 "
   ]
  },
  {
   "cell_type": "code",
   "execution_count": null,
   "id": "f3a72010",
   "metadata": {},
   "outputs": [],
   "source": [
    "?type  # shift + tab 4번 누른것과 같다."
   ]
  }
 ],
 "metadata": {
  "kernelspec": {
   "display_name": "Python 3",
   "language": "python",
   "name": "python3"
  },
  "language_info": {
   "codemirror_mode": {
    "name": "ipython",
    "version": 3
   },
   "file_extension": ".py",
   "mimetype": "text/x-python",
   "name": "python",
   "nbconvert_exporter": "python",
   "pygments_lexer": "ipython3",
   "version": "3.8.8"
  }
 },
 "nbformat": 4,
 "nbformat_minor": 5
}
