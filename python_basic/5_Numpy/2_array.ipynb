{
 "cells": [
  {
   "cell_type": "markdown",
   "id": "79e4fa6a",
   "metadata": {},
   "source": [
    "![array](https://blog.kakaocdn.net/dn/cnGesf/btqCgmUCssf/fkMlRnpeHRjVHYEoi2jwB1/img.png)"
   ]
  },
  {
   "cell_type": "markdown",
   "id": "a2d9c008",
   "metadata": {},
   "source": [
    "### 3차원 이상에서 차원 구분법"
   ]
  },
  {
   "cell_type": "code",
   "execution_count": 2,
   "id": "927c90c0",
   "metadata": {},
   "outputs": [],
   "source": [
    "import numpy as np"
   ]
  },
  {
   "cell_type": "code",
   "execution_count": 5,
   "id": "c894144a",
   "metadata": {
    "scrolled": true
   },
   "outputs": [
    {
     "data": {
      "text/plain": [
       "array([[[ 0,  1,  2,  3],\n",
       "        [ 4,  5,  6,  7],\n",
       "        [ 8,  9, 10, 11]],\n",
       "\n",
       "       [[12, 13, 14, 15],\n",
       "        [16, 17, 18, 19],\n",
       "        [20, 21, 22, 23]]])"
      ]
     },
     "execution_count": 5,
     "metadata": {},
     "output_type": "execute_result"
    }
   ],
   "source": [
    "b = np.arange(24).reshape(2,3,4) # 0이상 24미만 값들 3차원 생성\n",
    "b"
   ]
  },
  {
   "cell_type": "code",
   "execution_count": 6,
   "id": "817e9f86",
   "metadata": {},
   "outputs": [
    {
     "name": "stdout",
     "output_type": "stream",
     "text": [
      "[[[ 0  1  2  3]\n",
      "  [ 4  5  6  7]\n",
      "  [ 8  9 10 11]]\n",
      "\n",
      " [[12 13 14 15]\n",
      "  [16 17 18 19]\n",
      "  [20 21 22 23]]]\n"
     ]
    }
   ],
   "source": [
    "# print 하면 array글자는 출력 안됨\n",
    "# 공백으로 차원 구분\n",
    "print(b)"
   ]
  },
  {
   "cell_type": "code",
   "execution_count": 7,
   "id": "8e94b760",
   "metadata": {},
   "outputs": [
    {
     "data": {
      "text/plain": [
       "numpy.ndarray"
      ]
     },
     "execution_count": 7,
     "metadata": {},
     "output_type": "execute_result"
    }
   ],
   "source": [
    "type(b)"
   ]
  },
  {
   "cell_type": "markdown",
   "id": "7ff9f376",
   "metadata": {},
   "source": [
    "### fancy indexing와 indexing의 차이  \n",
    "\n",
    "대괄호가 1개이면 indexing이므로 \":\"(콜론)을 사용할 수 있다. 즉 ,slicing을 사용할 수 있다."
   ]
  },
  {
   "cell_type": "code",
   "execution_count": 11,
   "id": "527e86fd",
   "metadata": {},
   "outputs": [
    {
     "data": {
      "text/plain": [
       "array([[ 0,  1,  2,  3],\n",
       "       [ 4,  5,  6,  7],\n",
       "       [ 8,  9, 10, 11]])"
      ]
     },
     "execution_count": 11,
     "metadata": {},
     "output_type": "execute_result"
    }
   ],
   "source": [
    "b[0]  # indexing으로 가져오면 차원이 하나 줄어듦  \n",
    "      # = b[0,:,:,]"
   ]
  },
  {
   "cell_type": "markdown",
   "id": "6975a5f3",
   "metadata": {},
   "source": [
    "대괄호가 2개이면 fancy indexing이므로 \":\"콜론을 사용할 수 없다. slicing할 수 없다."
   ]
  },
  {
   "cell_type": "code",
   "execution_count": 13,
   "id": "2585551b",
   "metadata": {},
   "outputs": [
    {
     "data": {
      "text/plain": [
       "array([[[ 0,  1,  2,  3],\n",
       "        [ 4,  5,  6,  7],\n",
       "        [ 8,  9, 10, 11]]])"
      ]
     },
     "execution_count": 13,
     "metadata": {},
     "output_type": "execute_result"
    }
   ],
   "source": [
    "b[[0]] # fancy indexing으로 가져오면 차원 그대로 가져온다."
   ]
  },
  {
   "cell_type": "markdown",
   "id": "dfbca389",
   "metadata": {},
   "source": [
    "### Elllipsis\n",
    "...(Ellipsis)은 이후로 모든 것을 의미한다."
   ]
  },
  {
   "cell_type": "code",
   "execution_count": 16,
   "id": "4eedef44",
   "metadata": {},
   "outputs": [
    {
     "data": {
      "text/plain": [
       "array([[ 0,  1,  2,  3],\n",
       "       [ 4,  5,  6,  7],\n",
       "       [ 8,  9, 10, 11]])"
      ]
     },
     "execution_count": 16,
     "metadata": {},
     "output_type": "execute_result"
    }
   ],
   "source": [
    "b[0,...] # = b[0,:,:] = b[0]"
   ]
  },
  {
   "cell_type": "code",
   "execution_count": 22,
   "id": "06fc3a15",
   "metadata": {},
   "outputs": [
    {
     "data": {
      "text/plain": [
       "array([[ 1,  5,  9],\n",
       "       [ 3,  7, 11]])"
      ]
     },
     "execution_count": 22,
     "metadata": {},
     "output_type": "execute_result"
    }
   ],
   "source": [
    "b[0,:,[1,3]] # fancy indexing"
   ]
  },
  {
   "cell_type": "code",
   "execution_count": 25,
   "id": "b33f3038",
   "metadata": {},
   "outputs": [
    {
     "data": {
      "text/plain": [
       "array([[[12, 13, 14, 15],\n",
       "        [16, 17, 18, 19],\n",
       "        [20, 21, 22, 23]],\n",
       "\n",
       "       [[ 0,  1,  2,  3],\n",
       "        [ 4,  5,  6,  7],\n",
       "        [ 8,  9, 10, 11]]])"
      ]
     },
     "execution_count": 25,
     "metadata": {},
     "output_type": "execute_result"
    }
   ],
   "source": [
    "# 역순\n",
    "b[::-1]"
   ]
  },
  {
   "cell_type": "markdown",
   "id": "12d4a54f",
   "metadata": {},
   "source": [
    "numpy에서 제일 중요한 것은 **shape**이다.  \n",
    "fancy indexing과 indexing은 결과의 shape이 다르다.  \n",
    "...은 :을 완전히 대신하지는 않는다."
   ]
  },
  {
   "cell_type": "markdown",
   "id": "0c02d875",
   "metadata": {},
   "source": [
    "#### 줄임표현(...)\n",
    "출력해야할 데이터 수가 매우 큰 경우 보이는 ...은 Ellipsis와 다르다."
   ]
  },
  {
   "cell_type": "code",
   "execution_count": 26,
   "id": "9afb7165",
   "metadata": {},
   "outputs": [
    {
     "data": {
      "text/plain": [
       "array([    0,     1,     2, ..., 99997, 99998, 99999])"
      ]
     },
     "execution_count": 26,
     "metadata": {},
     "output_type": "execute_result"
    }
   ],
   "source": [
    "np.arange(100000) "
   ]
  },
  {
   "cell_type": "markdown",
   "id": "6b053bba",
   "metadata": {},
   "source": [
    "### 연산\n",
    "numpy연산은 shape이 같아야 가능하다."
   ]
  },
  {
   "cell_type": "code",
   "execution_count": 30,
   "id": "d870d650",
   "metadata": {},
   "outputs": [
    {
     "data": {
      "text/plain": [
       "array([[ 0,  1,  2,  3],\n",
       "       [ 4,  5,  6,  7],\n",
       "       [ 8,  9, 10, 11]])"
      ]
     },
     "execution_count": 30,
     "metadata": {},
     "output_type": "execute_result"
    }
   ],
   "source": [
    "a = np.arange(12).reshape(3,4)\n",
    "a"
   ]
  },
  {
   "cell_type": "code",
   "execution_count": 32,
   "id": "424f9b6d",
   "metadata": {},
   "outputs": [
    {
     "data": {
      "text/plain": [
       "(3, 4)"
      ]
     },
     "execution_count": 32,
     "metadata": {},
     "output_type": "execute_result"
    }
   ],
   "source": [
    "a.shape # shape 확인 중요"
   ]
  },
  {
   "cell_type": "code",
   "execution_count": 33,
   "id": "84c60f5e",
   "metadata": {},
   "outputs": [
    {
     "data": {
      "text/plain": [
       "array([[ 1,  2,  3,  4],\n",
       "       [ 5,  6,  7,  8],\n",
       "       [ 9, 10, 11, 12]])"
      ]
     },
     "execution_count": 33,
     "metadata": {},
     "output_type": "execute_result"
    }
   ],
   "source": [
    "b = np.arange(1,13).reshape(3,4)\n",
    "b"
   ]
  },
  {
   "cell_type": "markdown",
   "id": "e1b3035f",
   "metadata": {},
   "source": [
    "numpy는 elementwise로 vectorize 연산을 한다.  \n",
    "vectorize는 데이터의 연산을 일괄적으로 처리하는 기능이다. "
   ]
  },
  {
   "cell_type": "code",
   "execution_count": 34,
   "id": "12644bb2",
   "metadata": {},
   "outputs": [
    {
     "data": {
      "text/plain": [
       "array([[ 1,  3,  5,  7],\n",
       "       [ 9, 11, 13, 15],\n",
       "       [17, 19, 21, 23]])"
      ]
     },
     "execution_count": 34,
     "metadata": {},
     "output_type": "execute_result"
    }
   ],
   "source": [
    "# numpy array : (elementise) 같은 위치의 원소끼리 연산됨\n",
    "a + b "
   ]
  },
  {
   "cell_type": "code",
   "execution_count": 35,
   "id": "bb38d0e6",
   "metadata": {},
   "outputs": [
    {
     "data": {
      "text/plain": [
       "[0, 1, 0, 1, 0, 1]"
      ]
     },
     "execution_count": 35,
     "metadata": {},
     "output_type": "execute_result"
    }
   ],
   "source": [
    "# python list에서 + : 연신아 아닌 list의 확장이다.\n",
    "[0,1,0] + [1,0,1]"
   ]
  },
  {
   "cell_type": "code",
   "execution_count": 45,
   "id": "fc27006c",
   "metadata": {},
   "outputs": [
    {
     "data": {
      "text/plain": [
       "array([5, 7, 9])"
      ]
     },
     "execution_count": 45,
     "metadata": {},
     "output_type": "execute_result"
    }
   ],
   "source": [
    "# numpy는 python함수도 vectorize 시키는 기능 지원한다.\n",
    "@np.vectorize\n",
    "def plus(a,b):\n",
    "    return a+b\n",
    "\n",
    "plus([1,2,3],[4,5,6])"
   ]
  },
  {
   "cell_type": "code",
   "execution_count": 42,
   "id": "87835c4f",
   "metadata": {},
   "outputs": [
    {
     "data": {
      "text/plain": [
       "array([[ 0,  7, 16],\n",
       "       [27, 40, 55]])"
      ]
     },
     "execution_count": 42,
     "metadata": {},
     "output_type": "execute_result"
    }
   ],
   "source": [
    "a = np.arange(6).reshape(2,3)\n",
    "b = np.arange(6,12).reshape(2,3)\n",
    "a*b"
   ]
  },
  {
   "cell_type": "code",
   "execution_count": 44,
   "id": "dd76e662",
   "metadata": {
    "scrolled": true
   },
   "outputs": [
    {
     "ename": "TypeError",
     "evalue": "can't multiply sequence by non-int of type 'list'",
     "output_type": "error",
     "traceback": [
      "\u001b[1;31m---------------------------------------------------------------------------\u001b[0m",
      "\u001b[1;31mTypeError\u001b[0m                                 Traceback (most recent call last)",
      "\u001b[1;32m<ipython-input-44-9ad56676f304>\u001b[0m in \u001b[0;36m<module>\u001b[1;34m\u001b[0m\n\u001b[1;32m----> 1\u001b[1;33m \u001b[1;33m[\u001b[0m\u001b[1;36m1\u001b[0m\u001b[1;33m,\u001b[0m\u001b[1;36m2\u001b[0m\u001b[1;33m,\u001b[0m\u001b[1;36m3\u001b[0m\u001b[1;33m]\u001b[0m\u001b[1;33m*\u001b[0m\u001b[1;33m[\u001b[0m\u001b[1;36m4\u001b[0m\u001b[1;33m,\u001b[0m\u001b[1;36m5\u001b[0m\u001b[1;33m,\u001b[0m\u001b[1;36m6\u001b[0m\u001b[1;33m]\u001b[0m \u001b[1;31m# python list는 scalar와의 곱만 가능하다.\u001b[0m\u001b[1;33m\u001b[0m\u001b[1;33m\u001b[0m\u001b[0m\n\u001b[0m",
      "\u001b[1;31mTypeError\u001b[0m: can't multiply sequence by non-int of type 'list'"
     ]
    }
   ],
   "source": [
    "[1,2,3]*[4,5,6] # python list는 scalar와의 곱만 가능하다."
   ]
  },
  {
   "cell_type": "markdown",
   "id": "64405b05",
   "metadata": {},
   "source": [
    "---"
   ]
  },
  {
   "cell_type": "markdown",
   "id": "fc97786c",
   "metadata": {},
   "source": [
    "numpy에서는 ndarray이외에 **matrix** 자료형도 존재한다.  \n",
    "matrix에서 *연산자는 행렬의 곱을 의미한다."
   ]
  },
  {
   "cell_type": "code",
   "execution_count": 51,
   "id": "50090333",
   "metadata": {},
   "outputs": [
    {
     "data": {
      "text/plain": [
       "matrix([[ 4,  4],\n",
       "        [10, 10]])"
      ]
     },
     "execution_count": 51,
     "metadata": {},
     "output_type": "execute_result"
    }
   ],
   "source": [
    "c = np.matrix([[1,2],[3,4]])\n",
    "d = np.matrix([[2,2],[1,1]])\n",
    "c * d"
   ]
  },
  {
   "cell_type": "markdown",
   "id": "3a80ca6a",
   "metadata": {},
   "source": [
    "ndarry에서 행렬곱 연산자는 @이다.  \n",
    "python재단에서 numpy를 위해 만들어준 연산자이다."
   ]
  },
  {
   "cell_type": "code",
   "execution_count": 61,
   "id": "528ba153",
   "metadata": {},
   "outputs": [
    {
     "ename": "ValueError",
     "evalue": "matmul: Input operand 1 has a mismatch in its core dimension 0, with gufunc signature (n?,k),(k,m?)->(n?,m?) (size 2 is different from 3)",
     "output_type": "error",
     "traceback": [
      "\u001b[1;31m---------------------------------------------------------------------------\u001b[0m",
      "\u001b[1;31mValueError\u001b[0m                                Traceback (most recent call last)",
      "\u001b[1;32m<ipython-input-61-5b3eae1cb0b2>\u001b[0m in \u001b[0;36m<module>\u001b[1;34m\u001b[0m\n\u001b[1;32m----> 1\u001b[1;33m \u001b[0ma\u001b[0m \u001b[1;33m@\u001b[0m \u001b[0mb\u001b[0m \u001b[1;31m# shape이 안맞아서 안됨\u001b[0m\u001b[1;33m\u001b[0m\u001b[1;33m\u001b[0m\u001b[0m\n\u001b[0m",
      "\u001b[1;31mValueError\u001b[0m: matmul: Input operand 1 has a mismatch in its core dimension 0, with gufunc signature (n?,k),(k,m?)->(n?,m?) (size 2 is different from 3)"
     ]
    }
   ],
   "source": [
    "a @ b # shape이 안맞아서 안됨"
   ]
  },
  {
   "cell_type": "markdown",
   "id": "deb9d01e",
   "metadata": {},
   "source": [
    "행렬곱을 하기 위해서는 shape이 맞아야 한다.  \n",
    "T는 transpose(전치)의 약자이다."
   ]
  },
  {
   "cell_type": "markdown",
   "id": "213452fe",
   "metadata": {},
   "source": [
    "@, np.dot : array든 matrix든 다 사용가능"
   ]
  },
  {
   "cell_type": "code",
   "execution_count": 53,
   "id": "afc5e5ae",
   "metadata": {},
   "outputs": [
    {
     "data": {
      "text/plain": [
       "array([[0, 1, 2],\n",
       "       [3, 4, 5]])"
      ]
     },
     "execution_count": 53,
     "metadata": {},
     "output_type": "execute_result"
    }
   ],
   "source": [
    "a"
   ]
  },
  {
   "cell_type": "code",
   "execution_count": 60,
   "id": "53abfd77",
   "metadata": {},
   "outputs": [
    {
     "data": {
      "text/plain": [
       "array([[ 6,  9],\n",
       "       [ 7, 10],\n",
       "       [ 8, 11]])"
      ]
     },
     "execution_count": 60,
     "metadata": {},
     "output_type": "execute_result"
    }
   ],
   "source": [
    "b.T"
   ]
  },
  {
   "cell_type": "code",
   "execution_count": 57,
   "id": "bb66287e",
   "metadata": {},
   "outputs": [
    {
     "data": {
      "text/plain": [
       "array([[ 23,  32],\n",
       "       [ 86, 122]])"
      ]
     },
     "execution_count": 57,
     "metadata": {},
     "output_type": "execute_result"
    }
   ],
   "source": [
    "a @ b.T"
   ]
  },
  {
   "cell_type": "code",
   "execution_count": 58,
   "id": "b53abd39",
   "metadata": {},
   "outputs": [
    {
     "data": {
      "text/plain": [
       "array([[ 23,  32],\n",
       "       [ 86, 122]])"
      ]
     },
     "execution_count": 58,
     "metadata": {},
     "output_type": "execute_result"
    }
   ],
   "source": [
    "np.dot(a,b.T) # function"
   ]
  },
  {
   "cell_type": "code",
   "execution_count": 59,
   "id": "7c24504e",
   "metadata": {},
   "outputs": [
    {
     "data": {
      "text/plain": [
       "matrix([[ 5, 11],\n",
       "        [11, 25]])"
      ]
     },
     "execution_count": 59,
     "metadata": {},
     "output_type": "execute_result"
    }
   ],
   "source": [
    "np.dot(c,c.T)"
   ]
  },
  {
   "cell_type": "code",
   "execution_count": 62,
   "id": "8b79e14c",
   "metadata": {},
   "outputs": [
    {
     "data": {
      "text/plain": [
       "array([[ 23,  32],\n",
       "       [ 86, 122]])"
      ]
     },
     "execution_count": 62,
     "metadata": {},
     "output_type": "execute_result"
    }
   ],
   "source": [
    "a.dot(b.T) # method"
   ]
  },
  {
   "cell_type": "markdown",
   "id": "94d71427",
   "metadata": {},
   "source": [
    "- 기본적으로 array의 연산은 모양이 같아야 한다.\n",
    "- 차원에 따라서 연산자에 따라서 결과가 다른 경우가 많다."
   ]
  },
  {
   "cell_type": "markdown",
   "id": "03306625",
   "metadata": {},
   "source": [
    "### broadcasting\n",
    "\n",
    "broadcasting이란 모양이 안 맞는데. 특정한 조건에 맞으면 모양이 같게 만들어 연산하는 기능이다."
   ]
  },
  {
   "cell_type": "code",
   "execution_count": 63,
   "id": "f42c6f32",
   "metadata": {},
   "outputs": [
    {
     "data": {
      "text/plain": [
       "array([[0, 1, 2],\n",
       "       [3, 4, 5]])"
      ]
     },
     "execution_count": 63,
     "metadata": {},
     "output_type": "execute_result"
    }
   ],
   "source": [
    "a = np.arange(6).reshape(2,3)\n",
    "a"
   ]
  },
  {
   "cell_type": "code",
   "execution_count": 64,
   "id": "bd4f48cc",
   "metadata": {
    "scrolled": true
   },
   "outputs": [
    {
     "data": {
      "text/plain": [
       "array([[1, 2, 3],\n",
       "       [4, 5, 6]])"
      ]
     },
     "execution_count": 64,
     "metadata": {},
     "output_type": "execute_result"
    }
   ],
   "source": [
    "a + 1 # 1로 구성된 2x3 array 자동생성해서 더해줌"
   ]
  },
  {
   "cell_type": "markdown",
   "id": "72beb58e",
   "metadata": {},
   "source": [
    "1. broadcasting이 안되는 경우와 가능한 경우"
   ]
  },
  {
   "cell_type": "code",
   "execution_count": 65,
   "id": "447517af",
   "metadata": {},
   "outputs": [
    {
     "ename": "ValueError",
     "evalue": "operands could not be broadcast together with shapes (2,3) (2,) ",
     "output_type": "error",
     "traceback": [
      "\u001b[1;31m---------------------------------------------------------------------------\u001b[0m",
      "\u001b[1;31mValueError\u001b[0m                                Traceback (most recent call last)",
      "\u001b[1;32m<ipython-input-65-fe1579ae9547>\u001b[0m in \u001b[0;36m<module>\u001b[1;34m\u001b[0m\n\u001b[1;32m----> 1\u001b[1;33m \u001b[0ma\u001b[0m \u001b[1;33m+\u001b[0m \u001b[0mnp\u001b[0m\u001b[1;33m.\u001b[0m\u001b[0marray\u001b[0m\u001b[1;33m(\u001b[0m\u001b[1;33m[\u001b[0m\u001b[1;36m3\u001b[0m\u001b[1;33m,\u001b[0m\u001b[1;36m4\u001b[0m\u001b[1;33m]\u001b[0m\u001b[1;33m)\u001b[0m\u001b[1;33m\u001b[0m\u001b[1;33m\u001b[0m\u001b[0m\n\u001b[0m",
      "\u001b[1;31mValueError\u001b[0m: operands could not be broadcast together with shapes (2,3) (2,) "
     ]
    }
   ],
   "source": [
    "a + np.array([3,4]) # 모양이 안맞으면 못한다"
   ]
  },
  {
   "cell_type": "code",
   "execution_count": 68,
   "id": "0c2c51d4",
   "metadata": {},
   "outputs": [
    {
     "data": {
      "text/plain": [
       "array([[ 3,  5,  7],\n",
       "       [ 6,  8, 10]])"
      ]
     },
     "execution_count": 68,
     "metadata": {},
     "output_type": "execute_result"
    }
   ],
   "source": [
    "a + np.array([3,4,5]) # 열개수가 맞거나"
   ]
  },
  {
   "cell_type": "code",
   "execution_count": 67,
   "id": "e5f8f39d",
   "metadata": {},
   "outputs": [
    {
     "data": {
      "text/plain": [
       "array([[1, 2, 3],\n",
       "       [5, 6, 7]])"
      ]
     },
     "execution_count": 67,
     "metadata": {},
     "output_type": "execute_result"
    }
   ],
   "source": [
    "a + np.array([[1],[2]]) # 행개수가 맞으면 돌아감"
   ]
  },
  {
   "cell_type": "markdown",
   "id": "1ba04575",
   "metadata": {},
   "source": [
    "---"
   ]
  },
  {
   "cell_type": "markdown",
   "id": "27fc9d55",
   "metadata": {},
   "source": [
    "### strides\n",
    "strides는 다음 원소까지의 메모리 크기를 차원별로 알려준다.  \n",
    "C의 포인터 개념을 알고 있으며 이해하기가 쉽다."
   ]
  },
  {
   "cell_type": "code",
   "execution_count": 71,
   "id": "3dd43afb",
   "metadata": {},
   "outputs": [
    {
     "data": {
      "text/plain": [
       "array([[ 0,  1,  2,  3],\n",
       "       [ 4,  5,  6,  7],\n",
       "       [ 8,  9, 10, 11]])"
      ]
     },
     "execution_count": 71,
     "metadata": {},
     "output_type": "execute_result"
    }
   ],
   "source": [
    "a = np.arange(12).reshape(3,4)\n",
    "a"
   ]
  },
  {
   "cell_type": "code",
   "execution_count": 70,
   "id": "447bbc4d",
   "metadata": {},
   "outputs": [
    {
     "data": {
      "text/plain": [
       "(16, 4)"
      ]
     },
     "execution_count": 70,
     "metadata": {},
     "output_type": "execute_result"
    }
   ],
   "source": [
    "# 행의 메모리 간격 : 16bytes\n",
    "# 열의 메모리 간격 : 4bytes\n",
    "a.strides"
   ]
  },
  {
   "cell_type": "code",
   "execution_count": 73,
   "id": "8f6f6183",
   "metadata": {},
   "outputs": [
    {
     "data": {
      "text/plain": [
       "4"
      ]
     },
     "execution_count": 73,
     "metadata": {},
     "output_type": "execute_result"
    }
   ],
   "source": [
    "a.itemsize"
   ]
  },
  {
   "cell_type": "code",
   "execution_count": 74,
   "id": "80c4d111",
   "metadata": {},
   "outputs": [
    {
     "data": {
      "text/plain": [
       "(3, 4)"
      ]
     },
     "execution_count": 74,
     "metadata": {},
     "output_type": "execute_result"
    }
   ],
   "source": [
    "# 열의 원소개수 * itemssize = 행의 메모리 간격\n",
    "# itemsize = 열의 메모리 간격\n",
    "a.shape"
   ]
  },
  {
   "cell_type": "code",
   "execution_count": 75,
   "id": "6444929e",
   "metadata": {},
   "outputs": [
    {
     "data": {
      "text/plain": [
       "dtype('int32')"
      ]
     },
     "execution_count": 75,
     "metadata": {},
     "output_type": "execute_result"
    }
   ],
   "source": [
    "a.dtype # "
   ]
  },
  {
   "cell_type": "code",
   "execution_count": 76,
   "id": "173bdb19",
   "metadata": {},
   "outputs": [
    {
     "data": {
      "text/plain": [
       "4"
      ]
     },
     "execution_count": 76,
     "metadata": {},
     "output_type": "execute_result"
    }
   ],
   "source": [
    "# int32 = 32bit\n",
    "# 1byte = 8bit\n",
    "# dtype = itemsize * byte(8bit)\n",
    "a.itemsize"
   ]
  },
  {
   "cell_type": "code",
   "execution_count": 78,
   "id": "7c52651e",
   "metadata": {},
   "outputs": [
    {
     "data": {
      "text/plain": [
       "(16, 4)"
      ]
     },
     "execution_count": 78,
     "metadata": {},
     "output_type": "execute_result"
    }
   ],
   "source": [
    "# shape와 dtype을 알면 strides를 알 수 있다.\n",
    "a.strides"
   ]
  },
  {
   "cell_type": "markdown",
   "id": "f35c6e33",
   "metadata": {},
   "source": [
    "### axis\n",
    "axis는 다차원 배열을 연산할 때 기준이 되는 축이다."
   ]
  },
  {
   "cell_type": "code",
   "execution_count": 79,
   "id": "ca9526ad",
   "metadata": {},
   "outputs": [
    {
     "data": {
      "text/plain": [
       "array([[ 0,  1,  2,  3],\n",
       "       [ 4,  5,  6,  7],\n",
       "       [ 8,  9, 10, 11]])"
      ]
     },
     "execution_count": 79,
     "metadata": {},
     "output_type": "execute_result"
    }
   ],
   "source": [
    "a"
   ]
  },
  {
   "cell_type": "code",
   "execution_count": 82,
   "id": "4342a78e",
   "metadata": {},
   "outputs": [
    {
     "data": {
      "text/plain": [
       "array([12, 15, 18, 21])"
      ]
     },
     "execution_count": 82,
     "metadata": {},
     "output_type": "execute_result"
    }
   ],
   "source": [
    "np.sum(a, axis = 0) # axis = 0(행) 수직 sum"
   ]
  },
  {
   "cell_type": "code",
   "execution_count": 84,
   "id": "ab4ad66e",
   "metadata": {},
   "outputs": [
    {
     "data": {
      "text/plain": [
       "array([ 6, 22, 38])"
      ]
     },
     "execution_count": 84,
     "metadata": {},
     "output_type": "execute_result"
    }
   ],
   "source": [
    "np.sum(a, axis = 1) # axis = 1(열) 수평 sum"
   ]
  },
  {
   "cell_type": "markdown",
   "id": "e14893df",
   "metadata": {},
   "source": [
    "axis는 3차원 이상에도 적용할 수 있다.  \n",
    "2차원(axis = 0, axis = 1) (행, 열)  \n",
    "3차원(axis = 0, axis = 1, axis = 2) (공간, 행, 열)"
   ]
  },
  {
   "cell_type": "code",
   "execution_count": 85,
   "id": "d745ceae",
   "metadata": {},
   "outputs": [
    {
     "data": {
      "text/plain": [
       "array([[[ 0,  1,  2,  3],\n",
       "        [ 4,  5,  6,  7],\n",
       "        [ 8,  9, 10, 11]],\n",
       "\n",
       "       [[12, 13, 14, 15],\n",
       "        [16, 17, 18, 19],\n",
       "        [20, 21, 22, 23]]])"
      ]
     },
     "execution_count": 85,
     "metadata": {},
     "output_type": "execute_result"
    }
   ],
   "source": [
    "a = np.arange(24).reshape(2,3,4)\n",
    "a"
   ]
  },
  {
   "cell_type": "code",
   "execution_count": 86,
   "id": "96d25a9d",
   "metadata": {},
   "outputs": [
    {
     "data": {
      "text/plain": [
       "array([[12, 14, 16, 18],\n",
       "       [20, 22, 24, 26],\n",
       "       [28, 30, 32, 34]])"
      ]
     },
     "execution_count": 86,
     "metadata": {},
     "output_type": "execute_result"
    }
   ],
   "source": [
    "a.sum(axis = 0) # 공간을 기준으로(공간마다) sum"
   ]
  },
  {
   "cell_type": "code",
   "execution_count": 87,
   "id": "db1cb62a",
   "metadata": {},
   "outputs": [
    {
     "data": {
      "text/plain": [
       "array([[12, 15, 18, 21],\n",
       "       [48, 51, 54, 57]])"
      ]
     },
     "execution_count": 87,
     "metadata": {},
     "output_type": "execute_result"
    }
   ],
   "source": [
    "a.sum(axis = 1) # 행기준 수직 sum"
   ]
  },
  {
   "cell_type": "code",
   "execution_count": 88,
   "id": "2d5c53d2",
   "metadata": {},
   "outputs": [
    {
     "data": {
      "text/plain": [
       "array([[ 6, 22, 38],\n",
       "       [54, 70, 86]])"
      ]
     },
     "execution_count": 88,
     "metadata": {},
     "output_type": "execute_result"
    }
   ],
   "source": [
    "a.sum(axis = 2) # 열기준(열마다)"
   ]
  },
  {
   "cell_type": "markdown",
   "id": "d38d06c4",
   "metadata": {},
   "source": [
    "### ufunc\n",
    "ufunc은 universal function의 줄임말이다.  \n",
    "universal은 모든 사람을 위한, 범용성이라는 뜻을 가지고 있다.\n"
   ]
  },
  {
   "cell_type": "code",
   "execution_count": 93,
   "id": "a2b12410",
   "metadata": {},
   "outputs": [
    {
     "data": {
      "text/plain": [
       "numpy.ufunc"
      ]
     },
     "execution_count": 93,
     "metadata": {},
     "output_type": "execute_result"
    }
   ],
   "source": [
    "# numpy에서 제공하는 ufunc\n",
    "type(np.add)"
   ]
  },
  {
   "cell_type": "code",
   "execution_count": 90,
   "id": "4070550a",
   "metadata": {},
   "outputs": [
    {
     "data": {
      "text/plain": [
       "array([5, 7, 9])"
      ]
     },
     "execution_count": 90,
     "metadata": {},
     "output_type": "execute_result"
    }
   ],
   "source": [
    "np.add(np.array([1,2,3]), np.array([4,5,6]))"
   ]
  },
  {
   "cell_type": "code",
   "execution_count": 91,
   "id": "6e5a1821",
   "metadata": {},
   "outputs": [
    {
     "data": {
      "text/plain": [
       "array([5, 7, 9])"
      ]
     },
     "execution_count": 91,
     "metadata": {},
     "output_type": "execute_result"
    }
   ],
   "source": [
    "np.add([1,2,3],[4,5,6]) # array가 아닌 list도 적용가능."
   ]
  },
  {
   "cell_type": "code",
   "execution_count": 92,
   "id": "7ef58332",
   "metadata": {},
   "outputs": [
    {
     "data": {
      "text/plain": [
       "7"
      ]
     },
     "execution_count": 92,
     "metadata": {},
     "output_type": "execute_result"
    }
   ],
   "source": [
    "np.add(3,4) # scalar에도 적용가능하다."
   ]
  },
  {
   "cell_type": "markdown",
   "id": "60e01971",
   "metadata": {},
   "source": [
    "python의 add함수는 ufunc이 아니다."
   ]
  },
  {
   "cell_type": "code",
   "execution_count": 95,
   "id": "390661a9",
   "metadata": {},
   "outputs": [
    {
     "data": {
      "text/plain": [
       "9"
      ]
     },
     "execution_count": 95,
     "metadata": {},
     "output_type": "execute_result"
    }
   ],
   "source": [
    "from operator import add # 불러와야 사용가능\n",
    "add(4,5)"
   ]
  },
  {
   "cell_type": "code",
   "execution_count": 97,
   "id": "2aead470",
   "metadata": {},
   "outputs": [
    {
     "data": {
      "text/plain": [
       "[1, 2, 3, 4, 5, 6]"
      ]
     },
     "execution_count": 97,
     "metadata": {},
     "output_type": "execute_result"
    }
   ],
   "source": [
    "# python add는 + 연산자와 같다.\n",
    "# vectorize 계산이 아니다.\n",
    "add([1,2,3],[4,5,6]) # list 확장이다."
   ]
  },
  {
   "cell_type": "markdown",
   "id": "21342317",
   "metadata": {},
   "source": [
    "numpy는 vectorize 연산이 특징이다.  \n",
    "ufunc은 array가 아니어도 vectorize 연산을 해준다."
   ]
  },
  {
   "cell_type": "code",
   "execution_count": 98,
   "id": "529b8e9d",
   "metadata": {},
   "outputs": [
    {
     "data": {
      "text/plain": [
       "array([5, 7, 9])"
      ]
     },
     "execution_count": 98,
     "metadata": {},
     "output_type": "execute_result"
    }
   ],
   "source": [
    "np.add([1,2,3],[4,5,6])"
   ]
  },
  {
   "cell_type": "code",
   "execution_count": 99,
   "id": "ea8474c5",
   "metadata": {},
   "outputs": [
    {
     "data": {
      "text/plain": [
       "array([7, 8, 9])"
      ]
     },
     "execution_count": 99,
     "metadata": {},
     "output_type": "execute_result"
    }
   ],
   "source": [
    "# broadcast한 다음 vectorize해준다.\n",
    "np.add(3,[4,5,6])"
   ]
  },
  {
   "cell_type": "code",
   "execution_count": 111,
   "id": "421be8bc",
   "metadata": {},
   "outputs": [
    {
     "data": {
      "text/plain": [
       "array([[ 0,  1,  2,  3],\n",
       "       [ 4,  5,  6,  7],\n",
       "       [ 8,  9, 10, 11]])"
      ]
     },
     "execution_count": 111,
     "metadata": {},
     "output_type": "execute_result"
    }
   ],
   "source": [
    "b = np.arange(12).reshape(3,4)\n",
    "b"
   ]
  },
  {
   "cell_type": "code",
   "execution_count": 102,
   "id": "418a1fc6",
   "metadata": {},
   "outputs": [
    {
     "data": {
      "text/plain": [
       "array([12, 15, 18, 21])"
      ]
     },
     "execution_count": 102,
     "metadata": {},
     "output_type": "execute_result"
    }
   ],
   "source": [
    "np.add.reduce(b) # default : axis = 0"
   ]
  },
  {
   "cell_type": "code",
   "execution_count": 103,
   "id": "86189fe5",
   "metadata": {},
   "outputs": [
    {
     "data": {
      "text/plain": [
       "array([ 6, 22, 38])"
      ]
     },
     "execution_count": 103,
     "metadata": {},
     "output_type": "execute_result"
    }
   ],
   "source": [
    "np.add.reduce(b, axis = 1)"
   ]
  },
  {
   "cell_type": "markdown",
   "id": "be103eec",
   "metadata": {},
   "source": [
    "---"
   ]
  },
  {
   "cell_type": "markdown",
   "id": "8156eb07",
   "metadata": {},
   "source": [
    "## array 모양바꾸기"
   ]
  },
  {
   "cell_type": "markdown",
   "id": "25ae2e14",
   "metadata": {},
   "source": [
    "### reshape\n",
    "reshape은 차원을 바꿔주는 기능을 한다."
   ]
  },
  {
   "cell_type": "code",
   "execution_count": 105,
   "id": "1bc87cb0",
   "metadata": {},
   "outputs": [
    {
     "data": {
      "text/plain": [
       "array([[ 0,  1,  2,  3,  4,  5,  6,  7],\n",
       "       [ 8,  9, 10, 11, 12, 13, 14, 15],\n",
       "       [16, 17, 18, 19, 20, 21, 22, 23]])"
      ]
     },
     "execution_count": 105,
     "metadata": {},
     "output_type": "execute_result"
    }
   ],
   "source": [
    "# signature 대로 하면 a.reshape((2,3,4)) : shape = (2,3,4)\n",
    "# but, reshape(2,3,4) 로 해도 내부적으로 이상없이 처리됨.\n",
    "a = np.arange(24).reshape(3,8)\n",
    "a"
   ]
  },
  {
   "cell_type": "code",
   "execution_count": 112,
   "id": "41a40128",
   "metadata": {},
   "outputs": [
    {
     "data": {
      "text/plain": [
       "array([[[ 0,  1,  2,  3],\n",
       "        [ 4,  5,  6,  7],\n",
       "        [ 8,  9, 10, 11]],\n",
       "\n",
       "       [[12, 13, 14, 15],\n",
       "        [16, 17, 18, 19],\n",
       "        [20, 21, 22, 23]]])"
      ]
     },
     "execution_count": 112,
     "metadata": {},
     "output_type": "execute_result"
    }
   ],
   "source": [
    "a.reshape(2,3,4) # reshape로 모양을 바꿔줘도"
   ]
  },
  {
   "cell_type": "code",
   "execution_count": 107,
   "id": "3bb449b0",
   "metadata": {},
   "outputs": [
    {
     "data": {
      "text/plain": [
       "array([[ 0,  1,  2,  3,  4,  5,  6,  7],\n",
       "       [ 8,  9, 10, 11, 12, 13, 14, 15],\n",
       "       [16, 17, 18, 19, 20, 21, 22, 23]])"
      ]
     },
     "execution_count": 107,
     "metadata": {},
     "output_type": "execute_result"
    }
   ],
   "source": [
    "a # 원래 array가 바뀌지는 않음"
   ]
  },
  {
   "cell_type": "code",
   "execution_count": 114,
   "id": "9d5eafa9",
   "metadata": {},
   "outputs": [
    {
     "data": {
      "text/plain": [
       "array([[[ 0,  1,  2,  3],\n",
       "        [ 4,  5,  6,  7],\n",
       "        [ 8,  9, 10, 11]],\n",
       "\n",
       "       [[12, 13, 14, 15],\n",
       "        [16, 17, 18, 19],\n",
       "        [20, 21, 22, 23]]])"
      ]
     },
     "execution_count": 114,
     "metadata": {},
     "output_type": "execute_result"
    }
   ],
   "source": [
    "a = a.reshape(2,3,4) # 재할당해야 원래 array 변경\n",
    "a"
   ]
  },
  {
   "cell_type": "code",
   "execution_count": 117,
   "id": "6ae9f9a0",
   "metadata": {},
   "outputs": [
    {
     "data": {
      "text/plain": [
       "array([[[ 0,  1,  2,  3],\n",
       "        [ 4,  5,  6,  7],\n",
       "        [ 8,  9, 10, 11]],\n",
       "\n",
       "       [[12, 13, 14, 15],\n",
       "        [16, 17, 18, 19],\n",
       "        [20, 21, 22, 23]]])"
      ]
     },
     "execution_count": 117,
     "metadata": {},
     "output_type": "execute_result"
    }
   ],
   "source": [
    "a.reshape(2,3,-1) # 아무 음수값을 주면 알아서 shape를 맞춰준다.\n",
    "                  # 다른 차원들이 정해준 상황에서 남은 하나의 차원만 알아서 맞춰준다. \n",
    "                  # 음수값은 인자로 하나만 어느 위치에든 사용가능하다."
   ]
  },
  {
   "cell_type": "code",
   "execution_count": 120,
   "id": "64b1f462",
   "metadata": {},
   "outputs": [
    {
     "data": {
      "text/plain": [
       "array([[0, 1, 2],\n",
       "       [3, 4, 5]])"
      ]
     },
     "execution_count": 120,
     "metadata": {},
     "output_type": "execute_result"
    }
   ],
   "source": [
    "a = np.arange(6).reshape(2,3)\n",
    "a"
   ]
  },
  {
   "cell_type": "code",
   "execution_count": 121,
   "id": "3ce136db",
   "metadata": {},
   "outputs": [
    {
     "data": {
      "text/plain": [
       "array([[[0],\n",
       "        [1],\n",
       "        [2]],\n",
       "\n",
       "       [[3],\n",
       "        [4],\n",
       "        [5]]])"
      ]
     },
     "execution_count": 121,
     "metadata": {},
     "output_type": "execute_result"
    }
   ],
   "source": [
    "a.reshape(2,3,1) # 2차원 -> 3차원"
   ]
  },
  {
   "cell_type": "code",
   "execution_count": 122,
   "id": "9912750f",
   "metadata": {},
   "outputs": [
    {
     "data": {
      "text/plain": [
       "array([[[0, 1, 2]],\n",
       "\n",
       "       [[3, 4, 5]]])"
      ]
     },
     "execution_count": 122,
     "metadata": {},
     "output_type": "execute_result"
    }
   ],
   "source": [
    "a.reshape(2,1,3) # 2차원 -> 3차원"
   ]
  },
  {
   "cell_type": "markdown",
   "id": "b9978849",
   "metadata": {},
   "source": [
    "### resize"
   ]
  },
  {
   "cell_type": "code",
   "execution_count": 124,
   "id": "f069c12f",
   "metadata": {},
   "outputs": [
    {
     "name": "stdout",
     "output_type": "stream",
     "text": [
      "24\n",
      "24\n"
     ]
    }
   ],
   "source": [
    "a = np.arange(24)\n",
    "print(a.size) # size는 원소의 개수를 알려준다\n",
    "print(len(a)) # 같은 결과"
   ]
  },
  {
   "cell_type": "code",
   "execution_count": 132,
   "id": "7615dfd6",
   "metadata": {},
   "outputs": [
    {
     "data": {
      "text/plain": [
       "array([[[0],\n",
       "        [1],\n",
       "        [2]],\n",
       "\n",
       "       [[3],\n",
       "        [4],\n",
       "        [5]]])"
      ]
     },
     "execution_count": 132,
     "metadata": {},
     "output_type": "execute_result"
    }
   ],
   "source": [
    "# reshape와의 차이점\n",
    "# mutable이며 return이 없고 자기 자신을 바꾼다.\n",
    "# 원래의 원소 개수와 원소 개수가 안 맞아도 알아서 나온다.\n",
    "# 적으면 짤려서 나오고, 많으면 0으로 채워서 나온다.\n",
    "# resize는 거의 사용 안함.\n",
    "a.resize(2,3,1,refcheck = False)\n",
    "a"
   ]
  },
  {
   "cell_type": "markdown",
   "id": "06f55687",
   "metadata": {},
   "source": [
    "## array 쪼개기"
   ]
  },
  {
   "cell_type": "code",
   "execution_count": 145,
   "id": "eef3d74b",
   "metadata": {},
   "outputs": [
    {
     "data": {
      "text/plain": [
       "array([ 0,  1,  2,  3,  4,  5,  6,  7,  8,  9, 10, 11, 12, 13, 14, 15, 16,\n",
       "       17, 18, 19, 20, 21, 22, 23])"
      ]
     },
     "execution_count": 145,
     "metadata": {},
     "output_type": "execute_result"
    }
   ],
   "source": [
    "a = np.arange(24)\n",
    "a"
   ]
  },
  {
   "cell_type": "code",
   "execution_count": 137,
   "id": "f88dcf0b",
   "metadata": {},
   "outputs": [
    {
     "data": {
      "text/plain": [
       "[array([ 0,  1,  2,  3,  4,  5,  6,  7,  8,  9, 10, 11]),\n",
       " array([12, 13, 14, 15, 16, 17, 18, 19, 20, 21, 22, 23])]"
      ]
     },
     "execution_count": 137,
     "metadata": {},
     "output_type": "execute_result"
    }
   ],
   "source": [
    "a = np.split(a,2) # 원데이터 변경 안됨. split 후 재할당\n",
    "a"
   ]
  },
  {
   "cell_type": "code",
   "execution_count": 140,
   "id": "3b0e5ba2",
   "metadata": {},
   "outputs": [
    {
     "name": "stdout",
     "output_type": "stream",
     "text": [
      "<class 'numpy.ndarray'> <class 'list'>\n"
     ]
    }
   ],
   "source": [
    "print(type(a[0]),type(a)) # split한것을 재할당하게 되면 split된 array들이 list로 묶임"
   ]
  },
  {
   "cell_type": "code",
   "execution_count": 141,
   "id": "038b2890",
   "metadata": {},
   "outputs": [
    {
     "data": {
      "text/plain": [
       "2"
      ]
     },
     "execution_count": 141,
     "metadata": {},
     "output_type": "execute_result"
    }
   ],
   "source": [
    "# a[0,2] array였다면\n",
    "a[0][2] # list니까"
   ]
  },
  {
   "cell_type": "markdown",
   "id": "435c6410",
   "metadata": {},
   "source": [
    "### hsplit & vsplit\n",
    "\n",
    "split은 axis파라미터가 있다. default : axis = 0"
   ]
  },
  {
   "cell_type": "code",
   "execution_count": 147,
   "id": "03655014",
   "metadata": {},
   "outputs": [
    {
     "data": {
      "text/plain": [
       "array([[ 0,  1,  2,  3,  4,  5],\n",
       "       [ 6,  7,  8,  9, 10, 11],\n",
       "       [12, 13, 14, 15, 16, 17],\n",
       "       [18, 19, 20, 21, 22, 23]])"
      ]
     },
     "execution_count": 147,
     "metadata": {},
     "output_type": "execute_result"
    }
   ],
   "source": [
    "a = np.arange(24)\n",
    "b = a.reshape(4,6)\n",
    "b"
   ]
  },
  {
   "cell_type": "code",
   "execution_count": 148,
   "id": "d69b7d75",
   "metadata": {},
   "outputs": [
    {
     "data": {
      "text/plain": [
       "[array([[ 0,  1,  2,  3,  4,  5],\n",
       "        [ 6,  7,  8,  9, 10, 11]]),\n",
       " array([[12, 13, 14, 15, 16, 17],\n",
       "        [18, 19, 20, 21, 22, 23]])]"
      ]
     },
     "execution_count": 148,
     "metadata": {},
     "output_type": "execute_result"
    }
   ],
   "source": [
    "np.split(b, 2, axis = 0) # 원래 구조 변경 없이 split"
   ]
  },
  {
   "cell_type": "code",
   "execution_count": 165,
   "id": "b53c0b3a",
   "metadata": {},
   "outputs": [
    {
     "data": {
      "text/plain": [
       "[array([[ 0,  1,  2],\n",
       "        [ 6,  7,  8],\n",
       "        [12, 13, 14],\n",
       "        [18, 19, 20]]),\n",
       " array([[ 3,  4,  5],\n",
       "        [ 9, 10, 11],\n",
       "        [15, 16, 17],\n",
       "        [21, 22, 23]])]"
      ]
     },
     "execution_count": 165,
     "metadata": {},
     "output_type": "execute_result"
    }
   ],
   "source": [
    "np.hsplit(b,2) # horizon split\n",
    "               # 원배열 좌우(axis = 0)로 2등분\n",
    "               # list로 리턴"
   ]
  },
  {
   "cell_type": "code",
   "execution_count": 161,
   "id": "dfd816f0",
   "metadata": {},
   "outputs": [
    {
     "data": {
      "text/plain": [
       "[array([[0, 1, 2, 3, 4, 5]]),\n",
       " array([[ 6,  7,  8,  9, 10, 11]]),\n",
       " array([[12, 13, 14, 15, 16, 17]]),\n",
       " array([[18, 19, 20, 21, 22, 23]])]"
      ]
     },
     "execution_count": 161,
     "metadata": {},
     "output_type": "execute_result"
    }
   ],
   "source": [
    "np.vsplit(b,4) # vertical split\n",
    "               # 원배열 상하(axis = 1)로 4등분\n",
    "               # list로 리턴"
   ]
  },
  {
   "cell_type": "markdown",
   "id": "307ee7d3",
   "metadata": {},
   "source": [
    "### indices_or_sections\n",
    "split 시리즈 함수들의 두번째 파라미터 이름이다.  \n",
    "숫자를 묶어서 넣으면 구간으로 쪼개진다."
   ]
  },
  {
   "cell_type": "code",
   "execution_count": 166,
   "id": "9a2ae11b",
   "metadata": {},
   "outputs": [
    {
     "data": {
      "text/plain": [
       "[array([0, 1]),\n",
       " array([2]),\n",
       " array([ 3,  4,  5,  6,  7,  8,  9, 10, 11, 12, 13, 14, 15, 16, 17, 18, 19,\n",
       "        20, 21, 22, 23])]"
      ]
     },
     "execution_count": 166,
     "metadata": {},
     "output_type": "execute_result"
    }
   ],
   "source": [
    "# section\n",
    "# 0번째 인덱스부터 2미민 : [0,1]\n",
    "# 2번째 인덱스부터 3미만 : [2]\n",
    "# 나머지. 3번째 인덱스부터 끝까지\n",
    "np.hsplit(a,(2,3))"
   ]
  },
  {
   "cell_type": "markdown",
   "id": "4bddd4b8",
   "metadata": {},
   "source": [
    "## array 합치기"
   ]
  },
  {
   "cell_type": "code",
   "execution_count": 3,
   "id": "85f0cff2",
   "metadata": {},
   "outputs": [
    {
     "name": "stdout",
     "output_type": "stream",
     "text": [
      "[0 1 2 3 4 5 6 7]\n",
      "[ 8  9 10 11 12 13 14 15]\n",
      "[16 17 18 19 20 21 22 23]\n",
      "<class 'numpy.ndarray'> <class 'numpy.ndarray'> <class 'numpy.ndarray'>\n"
     ]
    }
   ],
   "source": [
    "a = np.arange(24)\n",
    "x, y, z = np.split(a,3)\n",
    "print(x)\n",
    "print(y)\n",
    "print(z)\n",
    "print(type(x),type(y),type(z)) # 배열"
   ]
  },
  {
   "cell_type": "markdown",
   "id": "d4e72805",
   "metadata": {},
   "source": [
    "### append\n",
    "numpy ndarray 배열에 배열or값 추가"
   ]
  },
  {
   "cell_type": "code",
   "execution_count": 4,
   "id": "28bf0425",
   "metadata": {},
   "outputs": [
    {
     "data": {
      "text/plain": [
       "array([ 0,  1,  2,  3,  4,  5,  6,  7,  8,  9, 10, 11, 12, 13, 14, 15])"
      ]
     },
     "execution_count": 4,
     "metadata": {},
     "output_type": "execute_result"
    }
   ],
   "source": [
    "np.append(x,y)"
   ]
  },
  {
   "cell_type": "code",
   "execution_count": 5,
   "id": "85a29885",
   "metadata": {},
   "outputs": [
    {
     "data": {
      "text/plain": [
       "array([ 0,  1,  2,  3,  4,  5,  6,  7, 10])"
      ]
     },
     "execution_count": 5,
     "metadata": {},
     "output_type": "execute_result"
    }
   ],
   "source": [
    "np.append(x,10)"
   ]
  },
  {
   "cell_type": "code",
   "execution_count": 17,
   "id": "fa92d3cc",
   "metadata": {},
   "outputs": [
    {
     "data": {
      "text/plain": [
       "array([[ 0,  1,  2,  3,  4,  5,  6,  7],\n",
       "       [ 8,  9, 10, 11, 12, 13, 14, 15]])"
      ]
     },
     "execution_count": 17,
     "metadata": {},
     "output_type": "execute_result"
    }
   ],
   "source": [
    "# 2차원 배열로 추가\n",
    "np.append(np.array([x]), np.array([y]),axis=0)"
   ]
  },
  {
   "cell_type": "markdown",
   "id": "ae9e8318",
   "metadata": {},
   "source": [
    "### hstack & vstack\n",
    "hstack : horizontal stack 가로로 합침  \n",
    "vstack : vertical stack  세로로 합침"
   ]
  },
  {
   "cell_type": "code",
   "execution_count": 173,
   "id": "ed8103ab",
   "metadata": {},
   "outputs": [
    {
     "data": {
      "text/plain": [
       "array([ 0,  1,  2,  3,  4,  5,  6,  7,  8,  9, 10, 11, 12, 13, 14, 15])"
      ]
     },
     "execution_count": 173,
     "metadata": {},
     "output_type": "execute_result"
    }
   ],
   "source": [
    "np.hstack((x,y))"
   ]
  },
  {
   "cell_type": "code",
   "execution_count": 171,
   "id": "82651497",
   "metadata": {},
   "outputs": [
    {
     "data": {
      "text/plain": [
       "array([[ 0,  1,  2,  3,  4,  5,  6,  7],\n",
       "       [ 8,  9, 10, 11, 12, 13, 14, 15],\n",
       "       [16, 17, 18, 19, 20, 21, 22, 23]])"
      ]
     },
     "execution_count": 171,
     "metadata": {},
     "output_type": "execute_result"
    }
   ],
   "source": [
    "np.vstack((x,y,z))"
   ]
  },
  {
   "cell_type": "markdown",
   "id": "37895bf5",
   "metadata": {},
   "source": [
    "### dstack\n",
    "합쳐서 3차원으로 만들어준다.  \n",
    "합칠 array들이 1차원이나 2차원인 경우에는 차원을 늘린 후에 합친다.  \n",
    "합쳐지는 차원은 axis = 2 이다."
   ]
  },
  {
   "cell_type": "code",
   "execution_count": 175,
   "id": "fdbf3670",
   "metadata": {},
   "outputs": [
    {
     "name": "stdout",
     "output_type": "stream",
     "text": [
      "[0 1 2 3 4 5 6 7]\n",
      "[ 8  9 10 11 12 13 14 15]\n"
     ]
    }
   ],
   "source": [
    "print(x) # 1차원\n",
    "print(y) # 1차원"
   ]
  },
  {
   "cell_type": "code",
   "execution_count": 181,
   "id": "51305d7c",
   "metadata": {},
   "outputs": [
    {
     "data": {
      "text/plain": [
       "array([[[ 0,  8],\n",
       "        [ 1,  9],\n",
       "        [ 2, 10],\n",
       "        [ 3, 11],\n",
       "        [ 4, 12],\n",
       "        [ 5, 13],\n",
       "        [ 6, 14],\n",
       "        [ 7, 15]]])"
      ]
     },
     "execution_count": 181,
     "metadata": {},
     "output_type": "execute_result"
    }
   ],
   "source": [
    "np.dstack((x,y)) # x,y 둘다 1차원인데 3차원(1,m,1)으로 변환 후 합침\n"
   ]
  },
  {
   "cell_type": "markdown",
   "id": "09bbd820",
   "metadata": {},
   "source": [
    "### stack"
   ]
  },
  {
   "cell_type": "code",
   "execution_count": 184,
   "id": "8e115ff5",
   "metadata": {},
   "outputs": [
    {
     "data": {
      "text/plain": [
       "array([[ 0,  1,  2,  3],\n",
       "       [ 4,  5,  6,  7],\n",
       "       [ 8,  9, 10, 11],\n",
       "       [12, 13, 14, 15]])"
      ]
     },
     "execution_count": 184,
     "metadata": {},
     "output_type": "execute_result"
    }
   ],
   "source": [
    "a = np.arange(16).reshape(4,4)\n",
    "a"
   ]
  },
  {
   "cell_type": "code",
   "execution_count": 186,
   "id": "8f4252dd",
   "metadata": {},
   "outputs": [
    {
     "data": {
      "text/plain": [
       "[array([[0, 1, 2, 3],\n",
       "        [4, 5, 6, 7]]),\n",
       " array([[ 8,  9, 10, 11],\n",
       "        [12, 13, 14, 15]])]"
      ]
     },
     "execution_count": 186,
     "metadata": {},
     "output_type": "execute_result"
    }
   ],
   "source": [
    "np.split(a,2) # default axis = 0"
   ]
  },
  {
   "cell_type": "code",
   "execution_count": 187,
   "id": "e7fc5192",
   "metadata": {},
   "outputs": [],
   "source": [
    "x, y = np.split(a,2, axis = 1)"
   ]
  },
  {
   "cell_type": "code",
   "execution_count": 188,
   "id": "12175fdd",
   "metadata": {},
   "outputs": [
    {
     "name": "stdout",
     "output_type": "stream",
     "text": [
      "[[ 0  1]\n",
      " [ 4  5]\n",
      " [ 8  9]\n",
      " [12 13]]\n",
      "[[ 2  3]\n",
      " [ 6  7]\n",
      " [10 11]\n",
      " [14 15]]\n"
     ]
    }
   ],
   "source": [
    "print(x)\n",
    "print(y)"
   ]
  },
  {
   "cell_type": "code",
   "execution_count": 189,
   "id": "c1f9d601",
   "metadata": {},
   "outputs": [
    {
     "data": {
      "text/plain": [
       "array([[[ 0,  1],\n",
       "        [ 4,  5],\n",
       "        [ 8,  9],\n",
       "        [12, 13]],\n",
       "\n",
       "       [[ 2,  3],\n",
       "        [ 6,  7],\n",
       "        [10, 11],\n",
       "        [14, 15]]])"
      ]
     },
     "execution_count": 189,
     "metadata": {},
     "output_type": "execute_result"
    }
   ],
   "source": [
    "# 2차원에서 3차원으로 늘어난다\n",
    "np.stack((x,y)) # axis = 0"
   ]
  },
  {
   "cell_type": "code",
   "execution_count": 190,
   "id": "a7cf93be",
   "metadata": {},
   "outputs": [
    {
     "data": {
      "text/plain": [
       "array([[[ 0,  1],\n",
       "        [ 2,  3]],\n",
       "\n",
       "       [[ 4,  5],\n",
       "        [ 6,  7]],\n",
       "\n",
       "       [[ 8,  9],\n",
       "        [10, 11]],\n",
       "\n",
       "       [[12, 13],\n",
       "        [14, 15]]])"
      ]
     },
     "execution_count": 190,
     "metadata": {},
     "output_type": "execute_result"
    }
   ],
   "source": [
    "np.stack((x,y), axis = 1) # 행으로 합친다"
   ]
  },
  {
   "cell_type": "code",
   "execution_count": 192,
   "id": "eb5221c2",
   "metadata": {},
   "outputs": [
    {
     "data": {
      "text/plain": [
       "array([[[ 0,  2],\n",
       "        [ 1,  3]],\n",
       "\n",
       "       [[ 4,  6],\n",
       "        [ 5,  7]],\n",
       "\n",
       "       [[ 8, 10],\n",
       "        [ 9, 11]],\n",
       "\n",
       "       [[12, 14],\n",
       "        [13, 15]]])"
      ]
     },
     "execution_count": 192,
     "metadata": {},
     "output_type": "execute_result"
    }
   ],
   "source": [
    "np.stack((x,y), axis = 2) # 같은 행에 있는 같은 열끼리 합쳐짐"
   ]
  },
  {
   "cell_type": "code",
   "execution_count": 196,
   "id": "430a0e19",
   "metadata": {},
   "outputs": [
    {
     "data": {
      "text/plain": [
       "array([[[ 0,  1],\n",
       "        [ 2,  3]],\n",
       "\n",
       "       [[ 4,  5],\n",
       "        [ 6,  7]],\n",
       "\n",
       "       [[ 8,  9],\n",
       "        [10, 11]],\n",
       "\n",
       "       [[12, 13],\n",
       "        [14, 15]]])"
      ]
     },
     "execution_count": 196,
     "metadata": {},
     "output_type": "execute_result"
    }
   ],
   "source": [
    "np.stack((x,y), axis = -2)  # (0,1,2)  -2번쨰 : 1"
   ]
  },
  {
   "cell_type": "code",
   "execution_count": 197,
   "id": "b996bc39",
   "metadata": {},
   "outputs": [
    {
     "data": {
      "text/plain": [
       "array([[[ 0,  1],\n",
       "        [ 4,  5],\n",
       "        [ 8,  9],\n",
       "        [12, 13]],\n",
       "\n",
       "       [[ 2,  3],\n",
       "        [ 6,  7],\n",
       "        [10, 11],\n",
       "        [14, 15]]])"
      ]
     },
     "execution_count": 197,
     "metadata": {},
     "output_type": "execute_result"
    }
   ],
   "source": [
    "np.stack((x,y), axis = -3) # axix = 0"
   ]
  },
  {
   "cell_type": "code",
   "execution_count": 199,
   "id": "67990e69",
   "metadata": {},
   "outputs": [
    {
     "data": {
      "text/plain": [
       "array([[[ 0,  1],\n",
       "        [ 4,  5],\n",
       "        [ 8,  9],\n",
       "        [12, 13]]])"
      ]
     },
     "execution_count": 199,
     "metadata": {},
     "output_type": "execute_result"
    }
   ],
   "source": [
    "np.stack((x,)) # ,를 주면 2차원 -> 3차원"
   ]
  },
  {
   "cell_type": "markdown",
   "id": "50fc5aaa",
   "metadata": {},
   "source": [
    "### concatenate\n",
    "\n",
    "axis방향에 따라 그대로 합쳐준다."
   ]
  },
  {
   "cell_type": "code",
   "execution_count": 203,
   "id": "822d75c3",
   "metadata": {},
   "outputs": [
    {
     "name": "stdout",
     "output_type": "stream",
     "text": [
      "[[0 1]\n",
      " [4 5]\n",
      " [8 9]]\n",
      "[[ 2  3]\n",
      " [ 6  7]\n",
      " [10 11]]\n"
     ]
    }
   ],
   "source": [
    "a = np.arange(12).reshape(3,4)\n",
    "x, y = np.hsplit(a,2)\n",
    "print(x)\n",
    "print(y)"
   ]
  },
  {
   "cell_type": "code",
   "execution_count": 207,
   "id": "7230f71b",
   "metadata": {},
   "outputs": [
    {
     "data": {
      "text/plain": [
       "array([[ 0,  1],\n",
       "       [ 4,  5],\n",
       "       [ 8,  9],\n",
       "       [ 2,  3],\n",
       "       [ 6,  7],\n",
       "       [10, 11]])"
      ]
     },
     "execution_count": 207,
     "metadata": {},
     "output_type": "execute_result"
    }
   ],
   "source": [
    "# 원래 shape 크기 그대로 유지해서 합침\n",
    "# stack은 shape 크기를 1개 증가(축 추가)해서 합침\n",
    "np.concatenate((x,y)) # axis = 0"
   ]
  },
  {
   "cell_type": "markdown",
   "id": "3b5667f0",
   "metadata": {},
   "source": [
    "---"
   ]
  },
  {
   "cell_type": "markdown",
   "id": "038b4189",
   "metadata": {},
   "source": [
    "### 차원 확장\n",
    "\n",
    "numpy는 차원을 확장하는 여러 방법 제공  \n"
   ]
  },
  {
   "cell_type": "markdown",
   "id": "35cea133",
   "metadata": {},
   "source": [
    "#### reshape"
   ]
  },
  {
   "cell_type": "code",
   "execution_count": 209,
   "id": "8986f5ad",
   "metadata": {},
   "outputs": [
    {
     "data": {
      "text/plain": [
       "array([[ 0,  1,  2,  3],\n",
       "       [ 4,  5,  6,  7],\n",
       "       [ 8,  9, 10, 11]])"
      ]
     },
     "execution_count": 209,
     "metadata": {},
     "output_type": "execute_result"
    }
   ],
   "source": [
    "# 1차원 -> 2차원\n",
    "a = np.arange(12).reshape(3,4)\n",
    "a"
   ]
  },
  {
   "cell_type": "markdown",
   "id": "6de2d844",
   "metadata": {},
   "source": [
    "#### stack"
   ]
  },
  {
   "cell_type": "code",
   "execution_count": 212,
   "id": "318ade52",
   "metadata": {},
   "outputs": [
    {
     "data": {
      "text/plain": [
       "array([[[ 0,  1,  2,  3],\n",
       "        [ 4,  5,  6,  7],\n",
       "        [ 8,  9, 10, 11]]])"
      ]
     },
     "execution_count": 212,
     "metadata": {},
     "output_type": "execute_result"
    }
   ],
   "source": [
    "# 2차원 -> 3차원\n",
    "# tuple에 원소가 1개만 있으면 차원만 확장시켜준다.\n",
    "np.stack((a,))"
   ]
  },
  {
   "cell_type": "markdown",
   "id": "fbc2d330",
   "metadata": {},
   "source": [
    "#### newaxis\n",
    "\n",
    "인덱싱할 때 np.newaxis 넣으면 차원 증가  \n",
    "원래 자료는 안바뀐다"
   ]
  },
  {
   "cell_type": "code",
   "execution_count": 213,
   "id": "8cffbf57",
   "metadata": {},
   "outputs": [
    {
     "data": {
      "text/plain": [
       "array([[ 0,  1,  2,  3],\n",
       "       [ 4,  5,  6,  7],\n",
       "       [ 8,  9, 10, 11]])"
      ]
     },
     "execution_count": 213,
     "metadata": {},
     "output_type": "execute_result"
    }
   ],
   "source": [
    "a"
   ]
  },
  {
   "cell_type": "code",
   "execution_count": 219,
   "id": "748cad71",
   "metadata": {},
   "outputs": [
    {
     "name": "stdout",
     "output_type": "stream",
     "text": [
      "(1, 3, 4)\n"
     ]
    },
    {
     "data": {
      "text/plain": [
       "array([[[ 0,  1,  2,  3],\n",
       "        [ 4,  5,  6,  7],\n",
       "        [ 8,  9, 10, 11]]])"
      ]
     },
     "execution_count": 219,
     "metadata": {},
     "output_type": "execute_result"
    }
   ],
   "source": [
    "# 원래 인덱스가 들어가는 자리에 np.newaxis 넣으면 차원 늘어남\n",
    "print(a[np.newaxis].shape)\n",
    "a[np.newaxis]  # = a[np.newaxis,:,:] # depth에 []묶음"
   ]
  },
  {
   "cell_type": "code",
   "execution_count": 216,
   "id": "64c98606",
   "metadata": {},
   "outputs": [
    {
     "name": "stdout",
     "output_type": "stream",
     "text": [
      "(3, 1, 4)\n"
     ]
    },
    {
     "data": {
      "text/plain": [
       "array([[[ 0,  1,  2,  3]],\n",
       "\n",
       "       [[ 4,  5,  6,  7]],\n",
       "\n",
       "       [[ 8,  9, 10, 11]]])"
      ]
     },
     "execution_count": 216,
     "metadata": {},
     "output_type": "execute_result"
    }
   ],
   "source": [
    "print(a[:,np.newaxis,:].shape) # 행에 []묶음\n",
    "a[:,np.newaxis,:]"
   ]
  },
  {
   "cell_type": "code",
   "execution_count": 222,
   "id": "8583b41d",
   "metadata": {},
   "outputs": [
    {
     "name": "stdout",
     "output_type": "stream",
     "text": [
      "(3, 4, 1)\n"
     ]
    },
    {
     "data": {
      "text/plain": [
       "array([[[ 0],\n",
       "        [ 1],\n",
       "        [ 2],\n",
       "        [ 3]],\n",
       "\n",
       "       [[ 4],\n",
       "        [ 5],\n",
       "        [ 6],\n",
       "        [ 7]],\n",
       "\n",
       "       [[ 8],\n",
       "        [ 9],\n",
       "        [10],\n",
       "        [11]]])"
      ]
     },
     "execution_count": 222,
     "metadata": {},
     "output_type": "execute_result"
    }
   ],
   "source": [
    "print(a[:,:,np.newaxis].shape) # 열에 []묶음\n",
    "a[:,:,np.newaxis]"
   ]
  },
  {
   "cell_type": "code",
   "execution_count": 2,
   "id": "9cc9636e",
   "metadata": {},
   "outputs": [
    {
     "data": {
      "text/plain": [
       "True"
      ]
     },
     "execution_count": 2,
     "metadata": {},
     "output_type": "execute_result"
    }
   ],
   "source": [
    "np.newaxis is None"
   ]
  },
  {
   "cell_type": "markdown",
   "id": "c1611a71",
   "metadata": {},
   "source": [
    "np.newaxis 대신에 None을 써도 된다.  \n",
    "None은 직관적이지 않고 헷갈려서 np.newaxis를 만들었다.  \n",
    "numpy를 만들 때 python의 모든 연산자를 다 사용해서 남는 연산자가 없었다. 그래서 None을 이용했다."
   ]
  },
  {
   "cell_type": "code",
   "execution_count": 3,
   "id": "74548c58",
   "metadata": {},
   "outputs": [],
   "source": [
    "a = np.arange(12).reshape(3,4)"
   ]
  },
  {
   "cell_type": "code",
   "execution_count": 4,
   "id": "5f927b5b",
   "metadata": {},
   "outputs": [
    {
     "data": {
      "text/plain": [
       "array([[ 0,  1,  2,  3],\n",
       "       [ 4,  5,  6,  7],\n",
       "       [ 8,  9, 10, 11]])"
      ]
     },
     "execution_count": 4,
     "metadata": {},
     "output_type": "execute_result"
    }
   ],
   "source": [
    "a"
   ]
  },
  {
   "cell_type": "code",
   "execution_count": 5,
   "id": "530c4f92",
   "metadata": {},
   "outputs": [
    {
     "data": {
      "text/plain": [
       "array([[[ 0,  1,  2,  3],\n",
       "        [ 4,  5,  6,  7],\n",
       "        [ 8,  9, 10, 11]]])"
      ]
     },
     "execution_count": 5,
     "metadata": {},
     "output_type": "execute_result"
    }
   ],
   "source": [
    "np.expand_dims(a,0) # = a[np.newaxis[s,:,:]]"
   ]
  },
  {
   "cell_type": "code",
   "execution_count": 6,
   "id": "6a2aafec",
   "metadata": {},
   "outputs": [
    {
     "data": {
      "text/plain": [
       "array([[[ 0,  1,  2,  3]],\n",
       "\n",
       "       [[ 4,  5,  6,  7]],\n",
       "\n",
       "       [[ 8,  9, 10, 11]]])"
      ]
     },
     "execution_count": 6,
     "metadata": {},
     "output_type": "execute_result"
    }
   ],
   "source": [
    "np.expand_dims(a,1) # = a[:,np.newaxis,:]"
   ]
  },
  {
   "cell_type": "code",
   "execution_count": 7,
   "id": "f8d1a07a",
   "metadata": {},
   "outputs": [
    {
     "data": {
      "text/plain": [
       "array([[[ 0],\n",
       "        [ 1],\n",
       "        [ 2],\n",
       "        [ 3]],\n",
       "\n",
       "       [[ 4],\n",
       "        [ 5],\n",
       "        [ 6],\n",
       "        [ 7]],\n",
       "\n",
       "       [[ 8],\n",
       "        [ 9],\n",
       "        [10],\n",
       "        [11]]])"
      ]
     },
     "execution_count": 7,
     "metadata": {},
     "output_type": "execute_result"
    }
   ],
   "source": [
    "np.expand_dims(a,2) # = a[:,:,np.newaxis]"
   ]
  },
  {
   "cell_type": "markdown",
   "id": "20158f7b",
   "metadata": {},
   "source": [
    "### array  한줄로 펴기 "
   ]
  },
  {
   "cell_type": "markdown",
   "id": "ceddd472",
   "metadata": {},
   "source": [
    "flatten"
   ]
  },
  {
   "cell_type": "code",
   "execution_count": 8,
   "id": "09e9f164",
   "metadata": {},
   "outputs": [],
   "source": [
    "a = np.arange(12).reshape(3,4)"
   ]
  },
  {
   "cell_type": "code",
   "execution_count": 10,
   "id": "93c11c1a",
   "metadata": {},
   "outputs": [
    {
     "data": {
      "text/plain": [
       "array([ 0,  1,  2,  3,  4,  5,  6,  7,  8,  9, 10, 11])"
      ]
     },
     "execution_count": 10,
     "metadata": {},
     "output_type": "execute_result"
    }
   ],
   "source": [
    "# flatten()은 결과를 return하고 메모리의 값은 변경되지 않는다.\n",
    "b = a.flatten()\n",
    "b"
   ]
  },
  {
   "cell_type": "markdown",
   "id": "22bf4631",
   "metadata": {},
   "source": [
    "### 서로 차원 교환"
   ]
  },
  {
   "cell_type": "markdown",
   "id": "2fcf4360",
   "metadata": {},
   "source": [
    "swapaxes"
   ]
  },
  {
   "cell_type": "code",
   "execution_count": 13,
   "id": "b4a66e81",
   "metadata": {},
   "outputs": [
    {
     "data": {
      "text/plain": [
       "array([[1],\n",
       "       [2]])"
      ]
     },
     "execution_count": 13,
     "metadata": {},
     "output_type": "execute_result"
    }
   ],
   "source": [
    "a = np.array([[1],[2]]) # 2차원 2행 1열\n",
    "a"
   ]
  },
  {
   "cell_type": "code",
   "execution_count": 14,
   "id": "09012c89",
   "metadata": {},
   "outputs": [
    {
     "data": {
      "text/plain": [
       "(2, 1)"
      ]
     },
     "execution_count": 14,
     "metadata": {},
     "output_type": "execute_result"
    }
   ],
   "source": [
    "a.shape"
   ]
  },
  {
   "cell_type": "code",
   "execution_count": 16,
   "id": "223de49c",
   "metadata": {},
   "outputs": [
    {
     "data": {
      "text/plain": [
       "array([[1, 2]])"
      ]
     },
     "execution_count": 16,
     "metadata": {},
     "output_type": "execute_result"
    }
   ],
   "source": [
    "# a의 0번 차원과 1번 차원을 서로 바꾼다. = transpose\n",
    "b = np.swapaxes(a,0,1) # 원래 array는 안바뀜\n",
    "b"
   ]
  },
  {
   "cell_type": "code",
   "execution_count": 17,
   "id": "3b919409",
   "metadata": {},
   "outputs": [
    {
     "data": {
      "text/plain": [
       "array([[1, 2]])"
      ]
     },
     "execution_count": 17,
     "metadata": {},
     "output_type": "execute_result"
    }
   ],
   "source": [
    "a.T"
   ]
  }
 ],
 "metadata": {
  "kernelspec": {
   "display_name": "Python 3",
   "language": "python",
   "name": "python3"
  },
  "language_info": {
   "codemirror_mode": {
    "name": "ipython",
    "version": 3
   },
   "file_extension": ".py",
   "mimetype": "text/x-python",
   "name": "python",
   "nbconvert_exporter": "python",
   "pygments_lexer": "ipython3",
   "version": "3.8.8"
  }
 },
 "nbformat": 4,
 "nbformat_minor": 5
}
