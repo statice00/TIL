{
 "cells": [
  {
   "cell_type": "markdown",
   "id": "6c9e876a",
   "metadata": {},
   "source": [
    "# Numpy\n",
    "- NumPy는 Numerical Python의 줄임말로, 파이썬에서 산술 계산을 위한 가장 필수 패키지중 하나이다.\n",
    "- 과학 계산을 위한 대부분의 패키지는 NumPy의 배열 객체를 데이터 교환을 위한 공통 언어처럼 사용한다.\n",
    "- 효율적인 다차원 배열인 ndarray(n dimensional array)는 빠른 배열 계산과 유연한 브로드캐스팅 기능을 제공한다.\n",
    "- 반복문을 작성할 필요 없이 전체 데이터 배열을 빠르게 계산할 수 있는 표준 수학 함수이다.\n",
    "- 배열 데이터를 디스크에 쓰거나 읽을 수 있는 도구와 메모리에 적재된 파일을 다루는 도구이다.\n",
    "- 선형대수, 난수 생성기등에 사용된다.\n",
    "- C, C++, 포트란으로 작성한 코드를 연결할 수 있는 C API가 제공된다.\n",
    "\n",
    "\n",
    "공식문서 https://numpy.org/doc/stable/  \n",
    "numpy 100 문제 https://github.com/rougier/numpy-100\n"
   ]
  },
  {
   "cell_type": "markdown",
   "id": "2b8c5821",
   "metadata": {},
   "source": [
    "## 1. 데이터 생성"
   ]
  },
  {
   "cell_type": "code",
   "execution_count": 2,
   "id": "9a55cabc",
   "metadata": {},
   "outputs": [],
   "source": [
    "import numpy as np  # 관행 상 np 라고 고정"
   ]
  },
  {
   "cell_type": "code",
   "execution_count": 4,
   "id": "3c64c996",
   "metadata": {},
   "outputs": [
    {
     "output_type": "execute_result",
     "data": {
      "text/plain": [
       "array([0., 0., 0.])"
      ]
     },
     "metadata": {},
     "execution_count": 4
    }
   ],
   "source": [
    "a = np.zeros(3) # 1차원 배열 = 벡터\n",
    "a"
   ]
  },
  {
   "cell_type": "code",
   "execution_count": 4,
   "id": "d7499113",
   "metadata": {},
   "outputs": [
    {
     "name": "stdout",
     "output_type": "stream",
     "text": [
      "[0. 0. 0.]\n"
     ]
    }
   ],
   "source": [
    "print(a) # 리스트하고 기호가 같아 구분을 신경써야함 -> type() 으로 확인"
   ]
  },
  {
   "cell_type": "markdown",
   "id": "ea9857d1",
   "metadata": {},
   "source": [
    "- type()으로 데이터 타입 확인,  dir()로 이용가능한 메소드 등 확인"
   ]
  },
  {
   "cell_type": "code",
   "execution_count": 5,
   "id": "6baf6e90",
   "metadata": {
    "scrolled": true
   },
   "outputs": [
    {
     "output_type": "execute_result",
     "data": {
      "text/plain": [
       "numpy.ndarray"
      ]
     },
     "metadata": {},
     "execution_count": 5
    }
   ],
   "source": [
    "type(a)\n",
    "# dir(a)"
   ]
  },
  {
   "cell_type": "code",
   "execution_count": 6,
   "id": "ca7a9e61",
   "metadata": {},
   "outputs": [
    {
     "output_type": "execute_result",
     "data": {
      "text/plain": [
       "list"
      ]
     },
     "metadata": {},
     "execution_count": 6
    }
   ],
   "source": [
    "b = [1,2,3] # 배열이 아닌 리스트 생성\n",
    "\n",
    "type(b) # [] 리스트"
   ]
  },
  {
   "cell_type": "markdown",
   "id": "2940dfa5",
   "metadata": {},
   "source": [
    "## numpy 값 만들기"
   ]
  },
  {
   "cell_type": "code",
   "execution_count": 7,
   "id": "abc2c482",
   "metadata": {},
   "outputs": [
    {
     "output_type": "execute_result",
     "data": {
      "text/plain": [
       "array([1, 2, 3, 4])"
      ]
     },
     "metadata": {},
     "execution_count": 7
    }
   ],
   "source": [
    "# 1차원 배열 = 벡터\n",
    "a = np.array([1,2,3,4])\n",
    "a"
   ]
  },
  {
   "cell_type": "code",
   "execution_count": 8,
   "id": "9f10c5e6",
   "metadata": {},
   "outputs": [
    {
     "output_type": "execute_result",
     "data": {
      "text/plain": [
       "array([[1, 2],\n",
       "       [3, 4]])"
      ]
     },
     "metadata": {},
     "execution_count": 8
    }
   ],
   "source": [
    "# 2차원 배열 = 행렬\n",
    "b = np.array([[1,2],[3,4]])\n",
    "b"
   ]
  },
  {
   "cell_type": "code",
   "execution_count": 16,
   "id": "af3465ec",
   "metadata": {},
   "outputs": [
    {
     "data": {
      "text/plain": [
       "numpy.ndarray"
      ]
     },
     "execution_count": 16,
     "metadata": {},
     "output_type": "execute_result"
    }
   ],
   "source": [
    "type(b)\n",
    "# dir(b)"
   ]
  },
  {
   "cell_type": "code",
   "execution_count": 9,
   "id": "efaa7876",
   "metadata": {},
   "outputs": [
    {
     "output_type": "execute_result",
     "data": {
      "text/plain": [
       "array([[[1, 2],\n",
       "        [3, 4],\n",
       "        [5, 6]]])"
      ]
     },
     "metadata": {},
     "execution_count": 9
    }
   ],
   "source": [
    "# 3차원 배열 이상 = 텐서(tensor)\n",
    "c = np.array([[[1,2],[3,4],[5,6]]]) # []개수가 차원 수\n",
    "c"
   ]
  },
  {
   "cell_type": "code",
   "execution_count": 20,
   "id": "37fd8888",
   "metadata": {},
   "outputs": [
    {
     "data": {
      "text/plain": [
       "numpy.ndarray"
      ]
     },
     "execution_count": 20,
     "metadata": {},
     "output_type": "execute_result"
    }
   ],
   "source": [
    "type(c)"
   ]
  },
  {
   "cell_type": "markdown",
   "id": "70dd78ac",
   "metadata": {},
   "source": [
    "### numpy는 **homogeneous**이다. 동종의 데이터만 취급한다."
   ]
  },
  {
   "cell_type": "code",
   "execution_count": 10,
   "id": "5e19f035",
   "metadata": {},
   "outputs": [
    {
     "output_type": "execute_result",
     "data": {
      "text/plain": [
       "array(['1', '2', '3'], dtype='<U11')"
      ]
     },
     "metadata": {},
     "execution_count": 10
    }
   ],
   "source": [
    "a = np.array([1,'2',3])\n",
    "a  # 숫자와 문자 혼용 시 전부 문자열로 변함"
   ]
  },
  {
   "cell_type": "code",
   "execution_count": 12,
   "id": "92d03f46",
   "metadata": {},
   "outputs": [
    {
     "output_type": "execute_result",
     "data": {
      "text/plain": [
       "array(['a', '1', 'True'], dtype='<U11')"
      ]
     },
     "metadata": {},
     "execution_count": 12
    }
   ],
   "source": [
    "b = np.array(['a',1,True])\n",
    "b # 숫자와, 논리값, 문자 혼용 시 전부 문자열로 변함"
   ]
  },
  {
   "cell_type": "markdown",
   "id": "59abf05b",
   "metadata": {},
   "source": [
    "### np.zeros"
   ]
  },
  {
   "cell_type": "code",
   "execution_count": 13,
   "id": "fe43d745",
   "metadata": {},
   "outputs": [
    {
     "output_type": "execute_result",
     "data": {
      "text/plain": [
       "array([[0., 0., 0.],\n",
       "       [0., 0., 0.]])"
      ]
     },
     "metadata": {},
     "execution_count": 13
    }
   ],
   "source": [
    "# tuple로 인자를 넣으면 그대로 모양을 만든다\n",
    "# zeros는 0으로 값을 모두 채운다.\n",
    "a = np.zeros((2,3)) # 2행 3열\n",
    "a"
   ]
  },
  {
   "cell_type": "code",
   "execution_count": 14,
   "id": "ad05a27b",
   "metadata": {},
   "outputs": [
    {
     "output_type": "execute_result",
     "data": {
      "text/plain": [
       "array([0., 0.])"
      ]
     },
     "metadata": {},
     "execution_count": 14
    }
   ],
   "source": [
    "# tuple 대신 int로 넣으면 벡터로 모양을 만든다.\n",
    "# dtype의 기본값은 float 이므로 0. 으로 출력된다.\n",
    "b = np.zeros(2)\n",
    "b"
   ]
  },
  {
   "cell_type": "markdown",
   "id": "2ab8cfed",
   "metadata": {},
   "source": [
    "### np.eye  \n",
    "자유로운 모양의 단위행렬 만들 때 사용"
   ]
  },
  {
   "cell_type": "code",
   "execution_count": 15,
   "id": "01296ff8",
   "metadata": {},
   "outputs": [
    {
     "output_type": "execute_result",
     "data": {
      "text/plain": [
       "array([[1., 0., 0.],\n",
       "       [0., 1., 0.],\n",
       "       [0., 0., 1.]])"
      ]
     },
     "metadata": {},
     "execution_count": 15
    }
   ],
   "source": [
    "# 숫자만 사용할 수 있다.\n",
    "a = np.eye(3)  # 3행 3열로 생성\n",
    "a"
   ]
  },
  {
   "cell_type": "code",
   "execution_count": 16,
   "id": "1c38aaa5",
   "metadata": {},
   "outputs": [
    {
     "output_type": "execute_result",
     "data": {
      "text/plain": [
       "array([[1., 0.],\n",
       "       [0., 1.],\n",
       "       [0., 0.]])"
      ]
     },
     "metadata": {},
     "execution_count": 16
    }
   ],
   "source": [
    "# 행과 열 따로 지정 가능\n",
    "b = np.eye(3, 2)\n",
    "b"
   ]
  },
  {
   "cell_type": "code",
   "execution_count": 17,
   "id": "68dfa5b2",
   "metadata": {},
   "outputs": [
    {
     "output_type": "execute_result",
     "data": {
      "text/plain": [
       "array([[0., 1., 0., 0.],\n",
       "       [0., 0., 1., 0.],\n",
       "       [0., 0., 0., 1.]])"
      ]
     },
     "metadata": {},
     "execution_count": 17
    }
   ],
   "source": [
    "# k=1 을 지정하면 1이 채워지는 자리가 0번이 아니라 1번부터 채워진다\n",
    "# 다른 숫자로 다른 자리 지정 가능\n",
    "c = np.eye(3, 4, k=1)\n",
    "c"
   ]
  },
  {
   "cell_type": "markdown",
   "id": "0c6461b3",
   "metadata": {},
   "source": [
    "### np.identity  \n",
    "np.eye와 비슷하지만 int 값 하나만 지정해 기본적인 단위행렬만 생성 가능"
   ]
  },
  {
   "cell_type": "code",
   "execution_count": 18,
   "id": "ae52525a",
   "metadata": {},
   "outputs": [
    {
     "output_type": "execute_result",
     "data": {
      "text/plain": [
       "array([[1., 0., 0.],\n",
       "       [0., 1., 0.],\n",
       "       [0., 0., 1.]])"
      ]
     },
     "metadata": {},
     "execution_count": 18
    }
   ],
   "source": [
    "# 단위행렬 : identity matrix\n",
    "a = np.identity(3)\n",
    "a"
   ]
  },
  {
   "cell_type": "markdown",
   "id": "455b08f2",
   "metadata": {},
   "source": [
    "### np.full"
   ]
  },
  {
   "cell_type": "code",
   "execution_count": 20,
   "id": "3df44b35",
   "metadata": {},
   "outputs": [
    {
     "output_type": "execute_result",
     "data": {
      "text/plain": [
       "array([[1, 1],\n",
       "       [1, 1]])"
      ]
     },
     "metadata": {},
     "execution_count": 20
    }
   ],
   "source": [
    "# 행렬 지정, 모두 채울 값 지정\n",
    "a = np.full((2,2),1)\n",
    "a"
   ]
  },
  {
   "cell_type": "code",
   "execution_count": 50,
   "id": "eecbc560",
   "metadata": {},
   "outputs": [],
   "source": [
    "b = np.full(3,4)"
   ]
  },
  {
   "cell_type": "code",
   "execution_count": 51,
   "id": "ed783952",
   "metadata": {},
   "outputs": [
    {
     "data": {
      "text/plain": [
       "array([4, 4, 4])"
      ]
     },
     "execution_count": 51,
     "metadata": {},
     "output_type": "execute_result"
    }
   ],
   "source": [
    "b"
   ]
  },
  {
   "cell_type": "code",
   "execution_count": 52,
   "id": "a66ca2a8",
   "metadata": {},
   "outputs": [],
   "source": [
    "# 채울값에 맞춰 열 개수 지정하면 맞춰서 채워준다.\n",
    "c = np.full((1,2),[1,2])"
   ]
  },
  {
   "cell_type": "code",
   "execution_count": 53,
   "id": "8a9bcba7",
   "metadata": {},
   "outputs": [
    {
     "data": {
      "text/plain": [
       "array([[1, 2]])"
      ]
     },
     "execution_count": 53,
     "metadata": {},
     "output_type": "execute_result"
    }
   ],
   "source": [
    "c"
   ]
  },
  {
   "cell_type": "code",
   "execution_count": 56,
   "id": "e4887d31",
   "metadata": {},
   "outputs": [],
   "source": [
    "d = np.full((2,2),[1,2])"
   ]
  },
  {
   "cell_type": "code",
   "execution_count": 57,
   "id": "4f767f05",
   "metadata": {},
   "outputs": [
    {
     "data": {
      "text/plain": [
       "array([[1, 2],\n",
       "       [1, 2]])"
      ]
     },
     "execution_count": 57,
     "metadata": {},
     "output_type": "execute_result"
    }
   ],
   "source": [
    "d"
   ]
  },
  {
   "cell_type": "code",
   "execution_count": 59,
   "id": "9dd923ec",
   "metadata": {},
   "outputs": [],
   "source": [
    "e = np.full((1,3),[1,2,3])"
   ]
  },
  {
   "cell_type": "code",
   "execution_count": 60,
   "id": "65444c1f",
   "metadata": {},
   "outputs": [
    {
     "data": {
      "text/plain": [
       "array([[1, 2, 3]])"
      ]
     },
     "execution_count": 60,
     "metadata": {},
     "output_type": "execute_result"
    }
   ],
   "source": [
    "e"
   ]
  },
  {
   "cell_type": "code",
   "execution_count": 61,
   "id": "08fdaa9b",
   "metadata": {},
   "outputs": [],
   "source": [
    "f = np.full((2,3),[1,2,3])"
   ]
  },
  {
   "cell_type": "code",
   "execution_count": 62,
   "id": "f4200f6a",
   "metadata": {},
   "outputs": [
    {
     "data": {
      "text/plain": [
       "array([[1, 2, 3],\n",
       "       [1, 2, 3]])"
      ]
     },
     "execution_count": 62,
     "metadata": {},
     "output_type": "execute_result"
    }
   ],
   "source": [
    "f"
   ]
  },
  {
   "cell_type": "markdown",
   "id": "28517e19",
   "metadata": {},
   "source": [
    "np.empty  \n",
    "이미 행렬을 지정했으면 뒤에 np.empty로 행렬을 지정해도 원래 지정한 행렬 불러옴  \n",
    "order에 따라 메모리 저장되는게 달라서?  \n",
    "\n",
    "머신러닝에서 사용"
   ]
  },
  {
   "cell_type": "code",
   "execution_count": 65,
   "id": "681c0e72",
   "metadata": {},
   "outputs": [],
   "source": [
    "# random 값으로 1행 3열 생성\n",
    "a = np.empty(3)"
   ]
  },
  {
   "cell_type": "code",
   "execution_count": 66,
   "id": "66012b02",
   "metadata": {},
   "outputs": [
    {
     "data": {
      "text/plain": [
       "array([8.80259131e-312, 0.00000000e+000, 6.47591605e-319])"
      ]
     },
     "execution_count": 66,
     "metadata": {},
     "output_type": "execute_result"
    }
   ],
   "source": [
    "a"
   ]
  },
  {
   "cell_type": "code",
   "execution_count": 81,
   "id": "6c21a2fb",
   "metadata": {},
   "outputs": [],
   "source": [
    "m = np.zeros((3,4))"
   ]
  },
  {
   "cell_type": "code",
   "execution_count": 82,
   "id": "7d8ccfcc",
   "metadata": {},
   "outputs": [
    {
     "data": {
      "text/plain": [
       "array([[0., 0., 0., 0.],\n",
       "       [0., 0., 0., 0.],\n",
       "       [0., 0., 0., 0.]])"
      ]
     },
     "execution_count": 82,
     "metadata": {},
     "output_type": "execute_result"
    }
   ],
   "source": [
    "m"
   ]
  },
  {
   "cell_type": "code",
   "execution_count": 83,
   "id": "f2d49de5",
   "metadata": {},
   "outputs": [],
   "source": [
    "m = np.empty((3,4))"
   ]
  },
  {
   "cell_type": "code",
   "execution_count": 84,
   "id": "c742750f",
   "metadata": {},
   "outputs": [
    {
     "data": {
      "text/plain": [
       "array([[0., 0., 0., 0.],\n",
       "       [0., 0., 0., 0.],\n",
       "       [0., 0., 0., 0.]])"
      ]
     },
     "execution_count": 84,
     "metadata": {},
     "output_type": "execute_result"
    }
   ],
   "source": [
    "m"
   ]
  },
  {
   "cell_type": "code",
   "execution_count": 89,
   "id": "b63b790f",
   "metadata": {},
   "outputs": [],
   "source": [
    "j = np.empty((3,4))"
   ]
  },
  {
   "cell_type": "code",
   "execution_count": 90,
   "id": "640b64e6",
   "metadata": {},
   "outputs": [
    {
     "data": {
      "text/plain": [
       "array([[8.80259839e-312, 3.16202013e-322, 0.00000000e+000,\n",
       "        0.00000000e+000],\n",
       "       [0.00000000e+000, 1.32656398e-075, 2.36033393e+184,\n",
       "        1.71736310e+185],\n",
       "       [2.67568901e+184, 3.12151757e-033, 1.43759367e-051,\n",
       "        6.82058008e-067]])"
      ]
     },
     "execution_count": 90,
     "metadata": {},
     "output_type": "execute_result"
    }
   ],
   "source": [
    "j"
   ]
  },
  {
   "cell_type": "markdown",
   "id": "a418abd1",
   "metadata": {},
   "source": [
    "np.ones  \n",
    "1로 다 채움"
   ]
  },
  {
   "cell_type": "code",
   "execution_count": 91,
   "id": "aad248ec",
   "metadata": {},
   "outputs": [],
   "source": [
    "a = np.ones(3)"
   ]
  },
  {
   "cell_type": "code",
   "execution_count": 92,
   "id": "3ad7a129",
   "metadata": {},
   "outputs": [
    {
     "data": {
      "text/plain": [
       "array([1., 1., 1.])"
      ]
     },
     "execution_count": 92,
     "metadata": {},
     "output_type": "execute_result"
    }
   ],
   "source": [
    "a"
   ]
  },
  {
   "cell_type": "code",
   "execution_count": 95,
   "id": "a2e891b2",
   "metadata": {},
   "outputs": [],
   "source": [
    "b = np.ones((3,4))"
   ]
  },
  {
   "cell_type": "code",
   "execution_count": 96,
   "id": "635b99df",
   "metadata": {},
   "outputs": [
    {
     "data": {
      "text/plain": [
       "array([[1., 1., 1., 1.],\n",
       "       [1., 1., 1., 1.],\n",
       "       [1., 1., 1., 1.]])"
      ]
     },
     "execution_count": 96,
     "metadata": {},
     "output_type": "execute_result"
    }
   ],
   "source": [
    "b"
   ]
  },
  {
   "cell_type": "code",
   "execution_count": 97,
   "id": "b7c68f90",
   "metadata": {},
   "outputs": [],
   "source": [
    "c = np.ones([3,4])"
   ]
  },
  {
   "cell_type": "code",
   "execution_count": 99,
   "id": "4044ee47",
   "metadata": {},
   "outputs": [
    {
     "data": {
      "text/plain": [
       "array([[1., 1., 1., 1.],\n",
       "       [1., 1., 1., 1.],\n",
       "       [1., 1., 1., 1.]])"
      ]
     },
     "execution_count": 99,
     "metadata": {},
     "output_type": "execute_result"
    }
   ],
   "source": [
    "c"
   ]
  },
  {
   "cell_type": "code",
   "execution_count": 101,
   "id": "3c4a35c5",
   "metadata": {},
   "outputs": [],
   "source": [
    "# 앞에서 생성한 값을 지정 안하는 행렬의 크기가 있으면 그대로 복사해서 사용함\n",
    "d = np.empty((3,4))"
   ]
  },
  {
   "cell_type": "code",
   "execution_count": 103,
   "id": "9615c6ef",
   "metadata": {},
   "outputs": [
    {
     "data": {
      "text/plain": [
       "array([[1., 1., 1., 1.],\n",
       "       [1., 1., 1., 1.],\n",
       "       [1., 1., 1., 1.]])"
      ]
     },
     "execution_count": 103,
     "metadata": {},
     "output_type": "execute_result"
    }
   ],
   "source": [
    "# np.full 과 같이 값을 지정하는 행렬은 안가져옴\n",
    "# np.zeros np.identity 와 같이 알아서 내용물 생성하는거만 그대로 가져옴\n",
    "d "
   ]
  },
  {
   "cell_type": "markdown",
   "id": "a1dc6003",
   "metadata": {},
   "source": [
    "_like"
   ]
  },
  {
   "cell_type": "code",
   "execution_count": 110,
   "id": "6f7e9e70",
   "metadata": {},
   "outputs": [],
   "source": [
    "a = np.array([[1,2,3],[4,5,6]])"
   ]
  },
  {
   "cell_type": "code",
   "execution_count": 111,
   "id": "b83aaeaa",
   "metadata": {},
   "outputs": [
    {
     "data": {
      "text/plain": [
       "array([[1, 2, 3],\n",
       "       [4, 5, 6]])"
      ]
     },
     "execution_count": 111,
     "metadata": {},
     "output_type": "execute_result"
    }
   ],
   "source": [
    "a"
   ]
  },
  {
   "cell_type": "code",
   "execution_count": 112,
   "id": "6f66bfba",
   "metadata": {},
   "outputs": [
    {
     "data": {
      "text/plain": [
       "(2, 3)"
      ]
     },
     "execution_count": 112,
     "metadata": {},
     "output_type": "execute_result"
    }
   ],
   "source": [
    "a.shape"
   ]
  },
  {
   "cell_type": "code",
   "execution_count": 143,
   "id": "5cfe55f6",
   "metadata": {},
   "outputs": [],
   "source": [
    "# 기존에 생성된 배열의 크기를 참조해서 새로운 배열 생성\n",
    "# empty는 원래 난수값 생성\n",
    "# 연산하기 위해서  shape를 맞춰야하는 경우가 있다.\n",
    "b = np.empty_like(a)"
   ]
  },
  {
   "cell_type": "code",
   "execution_count": 144,
   "id": "e6171565",
   "metadata": {},
   "outputs": [
    {
     "data": {
      "text/plain": [
       "array([[    98,    414,      0],\n",
       "       [     0, 131074,      0]])"
      ]
     },
     "execution_count": 144,
     "metadata": {},
     "output_type": "execute_result"
    }
   ],
   "source": [
    "b"
   ]
  },
  {
   "cell_type": "code",
   "execution_count": 145,
   "id": "6935e0ba",
   "metadata": {},
   "outputs": [
    {
     "data": {
      "text/plain": [
       "'1.20.1'"
      ]
     },
     "execution_count": 145,
     "metadata": {},
     "output_type": "execute_result"
    }
   ],
   "source": [
    "np.__version__"
   ]
  },
  {
   "cell_type": "code",
   "execution_count": 147,
   "id": "c05edc6d",
   "metadata": {},
   "outputs": [],
   "source": [
    "a = np.eye(2)"
   ]
  },
  {
   "cell_type": "code",
   "execution_count": 148,
   "id": "b957892b",
   "metadata": {},
   "outputs": [],
   "source": [
    "b = np.eye(3)"
   ]
  },
  {
   "cell_type": "code",
   "execution_count": 149,
   "id": "4793f99a",
   "metadata": {},
   "outputs": [
    {
     "data": {
      "text/plain": [
       "(2, 2)"
      ]
     },
     "execution_count": 149,
     "metadata": {},
     "output_type": "execute_result"
    }
   ],
   "source": [
    "a.shape"
   ]
  },
  {
   "cell_type": "code",
   "execution_count": 150,
   "id": "36edd652",
   "metadata": {},
   "outputs": [
    {
     "data": {
      "text/plain": [
       "(3, 3)"
      ]
     },
     "execution_count": 150,
     "metadata": {},
     "output_type": "execute_result"
    }
   ],
   "source": [
    "b.shape"
   ]
  },
  {
   "cell_type": "code",
   "execution_count": 151,
   "id": "ddd36c9d",
   "metadata": {},
   "outputs": [
    {
     "ename": "ValueError",
     "evalue": "operands could not be broadcast together with shapes (2,2) (3,3) ",
     "output_type": "error",
     "traceback": [
      "\u001b[1;31m---------------------------------------------------------------------------\u001b[0m",
      "\u001b[1;31mValueError\u001b[0m                                Traceback (most recent call last)",
      "\u001b[1;32m<ipython-input-151-ca730b97bf8a>\u001b[0m in \u001b[0;36m<module>\u001b[1;34m\u001b[0m\n\u001b[1;32m----> 1\u001b[1;33m \u001b[0ma\u001b[0m\u001b[1;33m+\u001b[0m\u001b[0mb\u001b[0m\u001b[1;33m\u001b[0m\u001b[1;33m\u001b[0m\u001b[0m\n\u001b[0m",
      "\u001b[1;31mValueError\u001b[0m: operands could not be broadcast together with shapes (2,2) (3,3) "
     ]
    }
   ],
   "source": [
    "a+b # shape이 안맞아서 연산 불가"
   ]
  },
  {
   "cell_type": "code",
   "execution_count": 153,
   "id": "f3bebe0c",
   "metadata": {},
   "outputs": [],
   "source": [
    "# 같은 간격으로 0부터 49까지 50개 생성\n",
    "# 세번째 인자가 num \n",
    "a = np.linspace(0,49) # default num = 50"
   ]
  },
  {
   "cell_type": "code",
   "execution_count": 154,
   "id": "2ff1b030",
   "metadata": {},
   "outputs": [
    {
     "data": {
      "text/plain": [
       "array([ 0.,  1.,  2.,  3.,  4.,  5.,  6.,  7.,  8.,  9., 10., 11., 12.,\n",
       "       13., 14., 15., 16., 17., 18., 19., 20., 21., 22., 23., 24., 25.,\n",
       "       26., 27., 28., 29., 30., 31., 32., 33., 34., 35., 36., 37., 38.,\n",
       "       39., 40., 41., 42., 43., 44., 45., 46., 47., 48., 49.])"
      ]
     },
     "execution_count": 154,
     "metadata": {},
     "output_type": "execute_result"
    }
   ],
   "source": [
    "a"
   ]
  },
  {
   "cell_type": "code",
   "execution_count": 155,
   "id": "fd35e574",
   "metadata": {},
   "outputs": [
    {
     "data": {
      "text/plain": [
       "50"
      ]
     },
     "execution_count": 155,
     "metadata": {},
     "output_type": "execute_result"
    }
   ],
   "source": [
    "len(a)"
   ]
  },
  {
   "cell_type": "code",
   "execution_count": 156,
   "id": "1fc5df2d",
   "metadata": {},
   "outputs": [
    {
     "data": {
      "text/plain": [
       "array([ 1. ,  5.5, 10. ])"
      ]
     },
     "execution_count": 156,
     "metadata": {},
     "output_type": "execute_result"
    }
   ],
   "source": [
    "# 1부터 10 까지 3개의 요소를 생성\n",
    "# default   endpoint = True 로 설정되어 있기 때문에 10 포함\n",
    "np.linspace(1,10,3)"
   ]
  },
  {
   "cell_type": "code",
   "execution_count": 158,
   "id": "9fdd0661",
   "metadata": {},
   "outputs": [
    {
     "data": {
      "text/plain": [
       "array([1., 4., 7.])"
      ]
     },
     "execution_count": 158,
     "metadata": {},
     "output_type": "execute_result"
    }
   ],
   "source": [
    "# 1부터 10미만 사이에서 3개의 요소를 생성\n",
    "np.linspace(1,10, 3, endpoint = False)"
   ]
  },
  {
   "cell_type": "code",
   "execution_count": 159,
   "id": "596b1e7e",
   "metadata": {},
   "outputs": [],
   "source": [
    "# linspace와 비슷하다.\n",
    "# log scale을 사용하는 차이\n",
    "# 1부터 50까지 사이의 10개의 요소를 생성한다.\n",
    "a = np.logspace(1, 50, 10)"
   ]
  },
  {
   "cell_type": "code",
   "execution_count": 160,
   "id": "2960e0a0",
   "metadata": {},
   "outputs": [
    {
     "data": {
      "text/plain": [
       "array([1.00000000e+01, 2.78255940e+06, 7.74263683e+11, 2.15443469e+17,\n",
       "       5.99484250e+22, 1.66810054e+28, 4.64158883e+33, 1.29154967e+39,\n",
       "       3.59381366e+44, 1.00000000e+50])"
      ]
     },
     "execution_count": 160,
     "metadata": {},
     "output_type": "execute_result"
    }
   ],
   "source": [
    "a"
   ]
  },
  {
   "cell_type": "markdown",
   "id": "264be2bd",
   "metadata": {},
   "source": [
    "dtype : 데이터 타입\n",
    "\n",
    "numpy는 c를 기반으로 해서 만들었기 때문에 C의 데이터 타입을 차용할 수 있다."
   ]
  },
  {
   "cell_type": "code",
   "execution_count": 164,
   "id": "4cc95c55",
   "metadata": {},
   "outputs": [],
   "source": [
    "a = np.array([1,2,3], dtype = np.int8)"
   ]
  },
  {
   "cell_type": "code",
   "execution_count": 165,
   "id": "0701a8c3",
   "metadata": {},
   "outputs": [
    {
     "data": {
      "text/plain": [
       "array([1, 2, 3], dtype=int8)"
      ]
     },
     "execution_count": 165,
     "metadata": {},
     "output_type": "execute_result"
    }
   ],
   "source": [
    "a"
   ]
  },
  {
   "cell_type": "code",
   "execution_count": 166,
   "id": "837a9e64",
   "metadata": {},
   "outputs": [
    {
     "data": {
      "text/plain": [
       "numpy.ndarray"
      ]
     },
     "execution_count": 166,
     "metadata": {},
     "output_type": "execute_result"
    }
   ],
   "source": [
    "type(a)"
   ]
  },
  {
   "cell_type": "code",
   "execution_count": 167,
   "id": "a736960c",
   "metadata": {},
   "outputs": [
    {
     "data": {
      "text/plain": [
       "numpy.int8"
      ]
     },
     "execution_count": 167,
     "metadata": {},
     "output_type": "execute_result"
    }
   ],
   "source": [
    "type(a[0])"
   ]
  },
  {
   "cell_type": "code",
   "execution_count": 179,
   "id": "9521b5ee",
   "metadata": {},
   "outputs": [],
   "source": [
    "b = np.array([129, 128, 127, 2, 3, -127, -128, -129], dtype=np.int8)"
   ]
  },
  {
   "cell_type": "code",
   "execution_count": 180,
   "id": "3052e9c4",
   "metadata": {},
   "outputs": [
    {
     "data": {
      "text/plain": [
       "array([-127, -128,  127,    2,    3, -127, -128,  127], dtype=int8)"
      ]
     },
     "execution_count": 180,
     "metadata": {},
     "output_type": "execute_result"
    }
   ],
   "source": [
    "# np.int8 은 -128 ~ 127 사이의 값을 저장할 수 있다.\n",
    "# 2^8 = 256개\n",
    "# 범위를 벗어나면 쓰레기 값 나옴\n",
    "b"
   ]
  },
  {
   "cell_type": "code",
   "execution_count": 181,
   "id": "0400275f",
   "metadata": {},
   "outputs": [
    {
     "data": {
      "text/plain": [
       "numpy.int8"
      ]
     },
     "execution_count": 181,
     "metadata": {},
     "output_type": "execute_result"
    }
   ],
   "source": [
    "type(b[0])"
   ]
  },
  {
   "cell_type": "code",
   "execution_count": 182,
   "id": "849a3d94",
   "metadata": {},
   "outputs": [],
   "source": [
    "# int는 python의 int를 사용한다.\n",
    "# 즉, python의 int는 numpy의 int32와 같다\n",
    "c = np.array([127, 2, 3, -127, -128], dtype = int)"
   ]
  },
  {
   "cell_type": "code",
   "execution_count": 183,
   "id": "6a03c46d",
   "metadata": {},
   "outputs": [
    {
     "data": {
      "text/plain": [
       "array([ 127,    2,    3, -127, -128])"
      ]
     },
     "execution_count": 183,
     "metadata": {},
     "output_type": "execute_result"
    }
   ],
   "source": [
    "c"
   ]
  },
  {
   "cell_type": "code",
   "execution_count": 184,
   "id": "662bacd5",
   "metadata": {},
   "outputs": [
    {
     "data": {
      "text/plain": [
       "numpy.int32"
      ]
     },
     "execution_count": 184,
     "metadata": {},
     "output_type": "execute_result"
    }
   ],
   "source": [
    "type(c[0])"
   ]
  },
  {
   "cell_type": "code",
   "execution_count": 195,
   "id": "3202e6d8",
   "metadata": {},
   "outputs": [],
   "source": [
    "# 데이터타입을 문자열 형태로 자유형으로 선언 가능\n",
    "d = np.array([267, 8, 4], dtype = 'i8')"
   ]
  },
  {
   "cell_type": "code",
   "execution_count": 196,
   "id": "bae36dca",
   "metadata": {},
   "outputs": [
    {
     "data": {
      "text/plain": [
       "array([267,   8,   4], dtype=int64)"
      ]
     },
     "execution_count": 196,
     "metadata": {},
     "output_type": "execute_result"
    }
   ],
   "source": [
    "d"
   ]
  },
  {
   "cell_type": "code",
   "execution_count": 197,
   "id": "ea454402",
   "metadata": {},
   "outputs": [
    {
     "data": {
      "text/plain": [
       "numpy.int64"
      ]
     },
     "execution_count": 197,
     "metadata": {},
     "output_type": "execute_result"
    }
   ],
   "source": [
    "type(d[0])"
   ]
  },
  {
   "cell_type": "markdown",
   "id": "4ee2f6c5",
   "metadata": {},
   "source": [
    "python의 도움말"
   ]
  },
  {
   "cell_type": "code",
   "execution_count": 198,
   "id": "fd42c6b0",
   "metadata": {},
   "outputs": [],
   "source": [
    "?sum"
   ]
  },
  {
   "cell_type": "code",
   "execution_count": 199,
   "id": "6102c3d6",
   "metadata": {},
   "outputs": [
    {
     "name": "stdout",
     "output_type": "stream",
     "text": [
      "Help on built-in function sum in module builtins:\n",
      "\n",
      "sum(iterable, /, start=0)\n",
      "    Return the sum of a 'start' value (default: 0) plus an iterable of numbers\n",
      "    \n",
      "    When the iterable is empty, return the start value.\n",
      "    This function is intended specifically for use with numeric values and may\n",
      "    reject non-numeric types.\n",
      "\n"
     ]
    }
   ],
   "source": [
    "help(sum)"
   ]
  },
  {
   "cell_type": "code",
   "execution_count": null,
   "id": "1733791f",
   "metadata": {},
   "outputs": [],
   "source": [
    "# jupyter 도움말  : shift + tab\n",
    "sum"
   ]
  },
  {
   "cell_type": "code",
   "execution_count": 201,
   "id": "b45de337",
   "metadata": {},
   "outputs": [
    {
     "name": "stdout",
     "output_type": "stream",
     "text": [
      "Search results for 'sum'\n",
      "------------------------\n",
      "numpy.sum\n",
      "    Sum of array elements over a given axis.\n",
      "numpy.cumsum\n",
      "    Return the cumulative sum of the elements along a given axis.\n",
      "numpy.einsum\n",
      "    einsum(subscripts, *operands, out=None, dtype=None, order='K',\n",
      "numpy.nansum\n",
      "    Return the sum of array elements over a given axis treating Not a\n",
      "numpy.nancumsum\n",
      "    Return the cumulative sum of array elements over a given axis treating Not a\n",
      "numpy.einsum_path\n",
      "    Evaluates the lowest cost contraction order for an einsum expression by\n",
      "numpy.trace\n",
      "    Return the sum along diagonals of the array.\n",
      "numpy.ma.sum\n",
      "    Return the sum of the array elements over the given axis.\n",
      "numpy.Bytes0.sum\n",
      "    Scalar method identical to the corresponding array attribute.\n",
      "numpy.polyadd\n",
      "    Find the sum of two polynomials.\n",
      "numpy.ma.cumsum\n",
      "    Return the cumulative sum of the array elements over the given axis.\n",
      "numpy.logaddexp\n",
      "    Logarithm of the sum of exponentiations of the inputs.\n",
      "numpy.Bytes0.cumsum\n",
      "    Scalar method identical to the corresponding array attribute.\n",
      "numpy.logaddexp2\n",
      "    Logarithm of the sum of exponentiations of the inputs in base-2.\n",
      "numpy.matrix.sum\n",
      "    Returns the sum of the matrix elements, along the given axis.\n",
      "numpy.chararray.sum\n",
      "    Return the sum of the array elements over the given axis.\n",
      "numpy.mask_indices\n",
      "    Return the indices to access (n, n) arrays, given a masking function.\n",
      "numpy.chararray.cumsum\n",
      "    Return the cumulative sum of the elements along the given axis.\n",
      "numpy.Str0.expandtabs\n",
      "    Return a copy where all tab characters are expanded using spaces.\n",
      "numpy.chararray.trace\n",
      "    Return the sum along diagonals of the array.\n",
      "numpy.Bytes0.expandtabs\n",
      "    Return a copy where all tab characters are expanded using spaces.\n",
      "numpy.format_float_positional\n",
      "    Format a floating-point scalar as a decimal string in positional notation.\n",
      "numpy.format_float_scientific\n",
      "    Format a floating-point scalar as a decimal string in scientific notation.\n",
      "numpy.linalg.tensorsolve\n",
      "    Solve the tensor equation ``a x = b`` for x.\n",
      "numpy.ma.MaskedArray.sum\n",
      "    Return the sum of the array elements over the given axis.\n",
      "numpy.ma.MaskedArray.cumsum\n",
      "    Return the cumulative sum of the array elements over the given axis.\n",
      "numpy.core._umath_tests.cumsum\n",
      "    Cumulative sum of the input (n)->(n)\n",
      "numpy.ma.MaskedArray.trace\n",
      "    Return the sum along diagonals of the array.\n",
      "numpy.core._multiarray_umath.c_einsum\n",
      "    c_einsum(subscripts, *operands, out=None, dtype=None, order='K',\n",
      "numpy.polynomial.Hermite._add\n",
      "    Add one Hermite series to another.\n",
      "numpy.polynomial.HermiteE._add\n",
      "    Add one Hermite series to another.\n",
      "numpy.polynomial.Laguerre._add\n",
      "    Add one Laguerre series to another.\n",
      "numpy.polynomial.Legendre._add\n",
      "    Add one Legendre series to another.\n",
      "numpy.polynomial.Chebyshev._add\n",
      "    Add one Chebyshev series to another.\n",
      "numpy.polynomial.Polynomial._add\n",
      "    Add one polynomial to another.\n",
      "numpy.AxisError.__class__.__sizeof__\n",
      "    Return memory consumption of the type object.\n",
      "numpy.add\n",
      "    Add arguments element-wise.\n",
      "numpy.cov\n",
      "    Estimate a covariance matrix, given data and weights.\n",
      "numpy.dot\n",
      "    Dot product of two arrays. Specifically,\n",
      "numpy.std\n",
      "    Compute the standard deviation along the specified axis.\n",
      "numpy.var\n",
      "    Compute the variance along the specified axis.\n",
      "numpy.diag\n",
      "    Extract a diagonal or construct a diagonal array.\n",
      "numpy.diff\n",
      "    Calculate the n-th discrete difference along the given axis.\n",
      "numpy.in1d\n",
      "    Test whether each element of a 1-D array is also present in a second array.\n",
      "numpy.isin\n",
      "    Calculates `element in test_elements`, broadcasting over `element` only.\n",
      "numpy.kron\n",
      "    Kronecker product of two arrays.\n",
      "numpy.core.setup_common.get_api_versions\n",
      "    Return current C API checksum and the recorded checksum.\n",
      "numpy.mean\n",
      "    Compute the arithmetic mean along the specified axis.\n",
      "numpy.poly\n",
      "    Find the coefficients of a polynomial with the given sequence of roots.\n",
      "numpy.cross\n",
      "    Return the cross product of two (arrays of) vectors.\n",
      "numpy.inner\n",
      "    Inner product of two arrays.\n",
      "numpy.outer\n",
      "    Compute the outer product of two vectors.\n",
      "numpy.roots\n",
      "    Return the roots of a polynomial with coefficients given in p.\n",
      "numpy.trapz\n",
      "    Integrate along the given axis using the composite trapezoidal rule.\n",
      "numpy.choose\n",
      "    Construct an array from an index array and a set of arrays to choose from.\n",
      "numpy.matmul\n",
      "    Matrix product of two arrays.\n",
      "numpy.nanstd\n",
      "    Compute the standard deviation along the specified axis, while\n",
      "numpy.nanvar\n",
      "    Compute the variance along the specified axis, while ignoring NaNs.\n",
      "numpy.nditer\n",
      "    Efficient multi-dimensional iterator object to iterate over arrays.\n",
      "numpy.poly1d\n",
      "    A one-dimensional polynomial class.\n",
      "numpy.average\n",
      "    Compute the weighted average along the specified axis.\n",
      "numpy.isclose\n",
      "    Returns a boolean array where two arrays are element-wise equal within a\n",
      "numpy.nanmean\n",
      "    Compute the arithmetic mean along the specified axis, ignoring NaNs.\n",
      "numpy.nanprod\n",
      "    Return the product of array elements over a given axis treating Not a\n",
      "numpy.polyder\n",
      "    Return the derivative of the specified order of a polynomial.\n",
      "numpy.polydiv\n",
      "    Returns the quotient and remainder of polynomial division.\n",
      "numpy.polyfit\n",
      "    Least squares polynomial fit.\n",
      "numpy.polyint\n",
      "    Return an antiderivative (indefinite integral) of a polynomial.\n",
      "numpy.polymul\n",
      "    Find the product of two polynomials.\n",
      "numpy.polysub\n",
      "    Difference (subtraction) of two polynomials.\n",
      "numpy.polyval\n",
      "    Evaluate a polynomial at specific values.\n",
      "numpy.bincount\n",
      "    Count number of occurrences of each value in array of non-negative ints.\n",
      "numpy.blackman\n",
      "    Return the Blackman window.\n",
      "numpy.convolve\n",
      "    Returns the discrete, linear convolution of two one-dimensional sequences.\n",
      "numpy.diagflat\n",
      "    Create a two-dimensional array with the flattened input as a diagonal.\n",
      "numpy.diagonal\n",
      "    Return specified diagonals.\n",
      "numpy.gradient\n",
      "    Return the gradient of an N-dimensional array.\n",
      "numpy.setxor1d\n",
      "    Find the set exclusive-or of two arrays.\n",
      "numpy.correlate\n",
      "    Cross-correlation of two 1-dimensional sequences.\n",
      "numpy.histogram\n",
      "    Compute the histogram of a set of data.\n",
      "numpy.piecewise\n",
      "    Evaluate a piecewise-defined function.\n",
      "numpy.setdiff1d\n",
      "    Find the set difference of two arrays.\n",
      "numpy.tensordot\n",
      "    Compute tensor dot product along specified axes.\n",
      "numpy.vectorize\n",
      "    vectorize(pyfunc, otypes=None, doc=None, excluded=None, cache=False,\n",
      "numpy.histogram2d\n",
      "    Compute the bi-dimensional histogram of two data samples.\n",
      "numpy.histogramdd\n",
      "    Compute the multidimensional histogram of some data.\n",
      "numpy.intersect1d\n",
      "    Find the intersection of two arrays.\n",
      "numpy.ma.add\n",
      "    Add arguments element-wise.\n",
      "numpy.array2string\n",
      "    Return a string representation of an array.\n",
      "numpy.ma.var\n",
      "    Compute the variance along the specified axis.\n",
      "numpy.lib.tests.test_utils.old_func4\n",
      "    Summary.\n",
      "numpy.lib.tests.test_utils.old_func5\n",
      "    Summary.\n",
      "numpy.searchsorted\n",
      "    Find indices where elements should be inserted to maintain order.\n",
      "numpy.fft.hfft\n",
      "    Compute the FFT of a signal that has Hermitian symmetry, i.e., a real\n",
      "numpy.fft.ifft\n",
      "    Compute the one-dimensional inverse discrete Fourier Transform.\n",
      "numpy.fft.irfft\n",
      "    Computes the inverse of `rfft`.\n",
      "numpy.ma.inner\n",
      "    Inner product of two arrays.\n",
      "numpy.ma.outer\n",
      "    Compute the outer product of two vectors.\n",
      "numpy.ma.trace\n",
      "    a.trace(offset=0, axis1=0, axis2=1, dtype=None, out=None)\n",
      "numpy.apply_over_axes\n",
      "    Apply a function repeatedly over multiple axes.\n",
      "numpy.fft.irfftn\n",
      "    Computes the inverse of `rfftn`.\n",
      "numpy.linalg.svd\n",
      "    Singular Value Decomposition.\n",
      "numpy.ma.average\n",
      "    Return the weighted average of array over the given axis.\n",
      "numpy.ma.polyfit\n",
      "    Least squares polynomial fit.\n",
      "numpy.set_printoptions\n",
      "    Set printing options.\n",
      "numpy.linalg.cond\n",
      "    Compute the condition number of a matrix.\n",
      "numpy.linalg.norm\n",
      "    Matrix or vector norm.\n",
      "numpy.linalg.pinv\n",
      "    Compute the (Moore-Penrose) pseudo-inverse of a matrix.\n",
      "numpy.ma.convolve\n",
      "    Returns the discrete, linear convolution of two one-dimensional sequences.\n",
      "numpy.ma.diagflat\n",
      "    Create a two-dimensional array with the flattened input as a diagonal.\n",
      "numpy.linalg.lstsq\n",
      "    Return the least-squares solution to a linear matrix equation.\n",
      "numpy.random.PCG64\n",
      "    BitGenerator for the PCG-64 pseudo-random number generator.\n",
      "numpy.random.SFC64\n",
      "    BitGenerator for Chris Doty-Humphrey's Small Fast Chaotic PRNG.\n",
      "numpy.ufunc.reduce\n",
      "    Reduces `array`'s dimension by one, by applying ufunc along one axis.\n",
      "numpy.histogram_bin_edges\n",
      "    Function to calculate only the edges of the bins used by the `histogram`\n",
      "numpy.random.Philox\n",
      "    Container for the Philox (4x64) pseudo-random number generator.\n",
      "numpy.random.MT19937\n",
      "    Container for the Mersenne Twister pseudo-random number generator.\n",
      "numpy.ufunc.reduceat\n",
      "    Performs a (local) reduce with specified slices over a single axis.\n",
      "numpy.linalg.multi_dot\n",
      "    Compute the dot product of two or more arrays in a single function call,\n",
      "numpy.linalg.tensorinv\n",
      "    Compute the 'inverse' of an N-dimensional array.\n",
      "numpy.ufunc.accumulate\n",
      "    Accumulate the result of applying the operator to all elements.\n",
      "numpy.linalg.matrix_rank\n",
      "    Return matrix rank of array using SVD method\n",
      "numpy.ma.apply_over_axes\n",
      "    Apply a function repeatedly over multiple axes.\n",
      "numpy.ma.MaskedArray.var\n",
      "    Compute the variance along the specified axis.\n",
      "numpy.random.Generator.f\n",
      "    Draw samples from an F distribution.\n",
      "numpy.distutils.command.sdist.sdist.write_manifest\n",
      "    Write the file list in 'self.filelist' (presumably as filled in\n",
      "numpy.random.RandomState.f\n",
      "    Draw samples from an F distribution.\n",
      "numpy.random.MT19937.jumped\n",
      "    Returns a new bit generator with the state jumped\n",
      "numpy.polynomial.Hermite.fit\n",
      "    Least squares fit to data.\n",
      "numpy.polynomial.Hermite._fit\n",
      "    Least squares fit of Hermite series to data.\n",
      "numpy.core._multiarray_umath.dot\n",
      "    Dot product of two arrays. Specifically,\n",
      "numpy.polynomial.HermiteE.fit\n",
      "    Least squares fit to data.\n",
      "numpy.polynomial.Laguerre.fit\n",
      "    Least squares fit to data.\n",
      "numpy.polynomial.Legendre.fit\n",
      "    Least squares fit to data.\n",
      "numpy.random.Generator.choice\n",
      "    Generates a random sample from a given 1-D array\n",
      "numpy.polynomial.Chebyshev.fit\n",
      "    Least squares fit to data.\n",
      "numpy.polynomial.HermiteE._fit\n",
      "    Least squares fit of Hermite series to data.\n",
      "numpy.polynomial.Laguerre._fit\n",
      "    Least squares fit of Laguerre series to data.\n",
      "numpy.polynomial.Legendre._fit\n",
      "    Least squares fit of Legendre series to data.\n",
      "numpy.polynomial.Chebyshev._fit\n",
      "    Least squares fit of Chebyshev series to data.\n",
      "numpy.polynomial.Hermite._roots\n",
      "    Compute the roots of a Hermite series.\n",
      "numpy.core._multiarray_umath.inner\n",
      "    Inner product of two arrays.\n",
      "numpy.polynomial.Polynomial.fit\n",
      "    Least squares fit to data.\n",
      "numpy.random.Generator.binomial\n",
      "    Draw samples from a binomial distribution.\n",
      "numpy.random.Generator.logistic\n",
      "    Draw samples from a logistic distribution.\n",
      "numpy.random.Generator.rayleigh\n",
      "    Draw samples from a Rayleigh distribution.\n",
      "numpy.random.RandomState.choice\n",
      "    Generates a random sample from a given 1-D array\n",
      "numpy.polynomial.HermiteE._roots\n",
      "    Compute the roots of a HermiteE series.\n",
      "numpy.polynomial.Laguerre._roots\n",
      "    Compute the roots of a Laguerre series.\n",
      "numpy.polynomial.Legendre._roots\n",
      "    Compute the roots of a Legendre series.\n",
      "numpy.polynomial.Polynomial._fit\n",
      "    Least-squares fit of a polynomial to data.\n",
      "numpy.random.Generator.chisquare\n",
      "    Draw samples from a chi-square distribution.\n",
      "numpy.random.Generator.dirichlet\n",
      "    Draw samples from the Dirichlet distribution.\n",
      "numpy.random.Generator.geometric\n",
      "    Draw samples from the geometric distribution.\n",
      "numpy.random.Generator.lognormal\n",
      "    Draw samples from a log-normal distribution.\n",
      "numpy.polynomial.Chebyshev._roots\n",
      "    Compute the roots of a Chebyshev series.\n",
      "numpy.random.Generator.standard_t\n",
      "    Draw samples from a standard Student's t distribution with `df` degrees\n",
      "numpy.random.RandomState.binomial\n",
      "    Draw samples from a binomial distribution.\n",
      "numpy.random.RandomState.logistic\n",
      "    Draw samples from a logistic distribution.\n",
      "numpy.random.RandomState.rayleigh\n",
      "    Draw samples from a Rayleigh distribution.\n",
      "numpy.core._multiarray_umath.bincount\n",
      "    Count number of occurrences of each value in array of non-negative ints.\n",
      "numpy.polynomial.Polynomial._roots\n",
      "    Compute the roots of a polynomial.\n",
      "numpy.polynomial.hermite.hermval2d\n",
      "    Evaluate a 2-D Hermite series at points (x, y).\n",
      "numpy.polynomial.hermite.hermval3d\n",
      "    Evaluate a 3-D Hermite series at points (x, y, z).\n",
      "numpy.polynomial.laguerre.lagval2d\n",
      "    Evaluate a 2-D Laguerre series at points (x, y).\n",
      "numpy.polynomial.laguerre.lagval3d\n",
      "    Evaluate a 3-D Laguerre series at points (x, y, z).\n",
      "numpy.polynomial.legendre.legval2d\n",
      "    Evaluate a 2-D Legendre series at points (x, y).\n",
      "numpy.polynomial.legendre.legval3d\n",
      "    Evaluate a 3-D Legendre series at points (x, y, z).\n",
      "numpy.random.Generator.multinomial\n",
      "    Draw samples from a multinomial distribution.\n",
      "numpy.random.RandomState.chisquare\n",
      "    Draw samples from a chi-square distribution.\n",
      "numpy.random.RandomState.dirichlet\n",
      "    Draw samples from the Dirichlet distribution.\n",
      "numpy.random.RandomState.geometric\n",
      "    Draw samples from the geometric distribution.\n",
      "numpy.random.RandomState.lognormal\n",
      "    Draw samples from a log-normal distribution.\n",
      "numpy.random.RandomState.set_state\n",
      "    set_state(state)\n",
      "numpy.polynomial.hermite.hermgrid2d\n",
      "    Evaluate a 2-D Hermite series on the Cartesian product of x and y.\n",
      "numpy.polynomial.hermite.hermgrid3d\n",
      "    Evaluate a 3-D Hermite series on the Cartesian product of x, y, and z.\n",
      "numpy.polynomial.laguerre.laggrid2d\n",
      "    Evaluate a 2-D Laguerre series on the Cartesian product of x and y.\n",
      "numpy.polynomial.laguerre.laggrid3d\n",
      "    Evaluate a 3-D Laguerre series on the Cartesian product of x, y, and z.\n",
      "numpy.polynomial.legendre.leggrid2d\n",
      "    Evaluate a 2-D Legendre series on the Cartesian product of x and y.\n",
      "numpy.polynomial.legendre.leggrid3d\n",
      "    Evaluate a 3-D Legendre series on the Cartesian product of x, y, and z.\n",
      "numpy.random.Generator.noncentral_f\n",
      "    Draw samples from the noncentral F distribution.\n",
      "numpy.random.RandomState.standard_t\n",
      "    Draw samples from a standard Student's t distribution with `df` degrees\n",
      "numpy.polynomial.chebyshev.chebval2d\n",
      "    Evaluate a 2-D Chebyshev series at points (x, y).\n",
      "numpy.polynomial.chebyshev.chebval3d\n",
      "    Evaluate a 3-D Chebyshev series at points (x, y, z).\n",
      "numpy.random.RandomState.multinomial\n",
      "    Draw samples from a multinomial distribution.\n",
      "numpy.polynomial.chebyshev.chebgrid2d\n",
      "    Evaluate a 2-D Chebyshev series on the Cartesian product of x and y.\n",
      "numpy.polynomial.chebyshev.chebgrid3d\n",
      "    Evaluate a 3-D Chebyshev series on the Cartesian product of x, y, and z.\n",
      "numpy.polynomial.hermite_e.hermeval2d\n",
      "    Evaluate a 2-D HermiteE series at points (x, y).\n",
      "numpy.polynomial.hermite_e.hermeval3d\n",
      "    Evaluate a 3-D Hermite_e series at points (x, y, z).\n",
      "numpy.polynomial.polynomial.polyval2d\n",
      "    Evaluate a 2-D polynomial at points (x, y).\n",
      "numpy.polynomial.polynomial.polyval3d\n",
      "    Evaluate a 3-D polynomial at points (x, y, z).\n",
      "numpy.random.Generator.hypergeometric\n",
      "    Draw samples from a Hypergeometric distribution.\n",
      "numpy.random.RandomState.noncentral_f\n",
      "    Draw samples from the noncentral F distribution.\n",
      "numpy.polynomial.hermite_e.hermegrid2d\n",
      "    Evaluate a 2-D HermiteE series on the Cartesian product of x and y.\n",
      "numpy.polynomial.hermite_e.hermegrid3d\n",
      "    Evaluate a 3-D HermiteE series on the Cartesian product of x, y, and z.\n",
      "numpy.polynomial.polynomial.polygrid2d\n",
      "    Evaluate a 2-D polynomial on the Cartesian product of x and y.\n",
      "numpy.polynomial.polynomial.polygrid3d\n",
      "    Evaluate a 3-D polynomial on the Cartesian product of x, y and z.\n",
      "numpy.random.Generator.standard_cauchy\n",
      "    Draw samples from a standard Cauchy distribution with mode = 0.\n",
      "numpy.distutils.command.build_clib.build_clib.check_library_list\n",
      "    Ensure that the list of libraries is valid.\n",
      "numpy.distutils.command.build_ext.build_ext.check_extensions_list\n",
      "    Ensure that the list of extensions (presumably provided as a\n",
      "numpy.random.RandomState.hypergeometric\n",
      "    Draw samples from a Hypergeometric distribution.\n",
      "numpy.lib.recfunctions.apply_along_fields\n",
      "    Apply function 'func' as a reduction across fields of a structured array.\n",
      "numpy.random.Generator.negative_binomial\n",
      "    Draw samples from a negative binomial distribution.\n",
      "numpy.distutils.command.develop.develop.create_index.__getitem__\n",
      "    Return a newest-to-oldest list of distributions for `project_name`\n",
      "numpy.testing._private.noseclasses.NumpyDocTestFinder._find_lineno\n",
      "    Return a line number of the given object's docstring.  Note:\n",
      "numpy.random.RandomState.random_integers\n",
      "    Random integers of type `np.int_` between `low` and `high`, inclusive.\n",
      "numpy.random.RandomState.standard_cauchy\n",
      "    Draw samples from a standard Cauchy distribution with mode = 0.\n",
      "numpy.random.RandomState.negative_binomial\n",
      "    Draw samples from a negative binomial distribution.\n",
      "numpy.random.Generator.noncentral_chisquare\n",
      "    Draw samples from a noncentral chi-square distribution.\n",
      "numpy.random.RandomState.noncentral_chisquare\n",
      "    Draw samples from a noncentral chi-square distribution.\n",
      "numpy.random.Generator.multivariate_hypergeometric\n",
      "    multivariate_hypergeometric(colors, nsample, size=None,\n",
      "numpy.distutils.misc_util.Configuration.set_options\n",
      "    Configure Configuration instance.\n",
      "numpy.distutils.misc_util.Configuration.add_subpackage\n",
      "    Add a sub-package to the current Configuration instance.\n",
      "numpy.distutils.misc_util.Configuration.get_subpackage\n",
      "    Return list of subpackage configurations.\n",
      "numpy.distutils.ccompiler_opt.CCompilerOpt.feature_ahead\n",
      "    Return list of features in 'names' after remove any\n",
      "numpy.distutils.ccompiler_opt.CCompilerOpt.feature_untied\n",
      "    same as 'feature_ahead()' but if both features implied each other\n",
      "numpy.distutils.misc_util.Configuration.add_npy_pkg_config\n",
      "    Generate and install a npy-pkg config file from a template.\n",
      "numpy.linalg.tests.test_deprecations.test_qr_mode_full_future_warning\n",
      "    Check mode='full' FutureWarning.\n",
      "numpy.distutils.tests.test_ccompiler_opt_conf.TestConfFeatures.subTest\n",
      "    Return a context manager that will return the enclosed block"
     ]
    }
   ],
   "source": [
    "np.lookfor('sum')"
   ]
  },
  {
   "cell_type": "code",
   "execution_count": 202,
   "id": "0ec3f05a",
   "metadata": {},
   "outputs": [],
   "source": [
    "a = np.array([[1,2,3],[4,5,6]])"
   ]
  },
  {
   "cell_type": "code",
   "execution_count": 203,
   "id": "e11af8b5",
   "metadata": {},
   "outputs": [
    {
     "data": {
      "text/plain": [
       "(2, 3)"
      ]
     },
     "execution_count": 203,
     "metadata": {},
     "output_type": "execute_result"
    }
   ],
   "source": [
    "# array의 shape을 알려준다\n",
    "a.shape"
   ]
  },
  {
   "cell_type": "code",
   "execution_count": 206,
   "id": "d633c28e",
   "metadata": {},
   "outputs": [
    {
     "data": {
      "text/plain": [
       "2"
      ]
     },
     "execution_count": 206,
     "metadata": {},
     "output_type": "execute_result"
    }
   ],
   "source": [
    "a.ndim"
   ]
  },
  {
   "cell_type": "code",
   "execution_count": 205,
   "id": "c537fe8d",
   "metadata": {},
   "outputs": [
    {
     "data": {
      "text/plain": [
       "dtype('int32')"
      ]
     },
     "execution_count": 205,
     "metadata": {},
     "output_type": "execute_result"
    }
   ],
   "source": [
    "a.dtype"
   ]
  },
  {
   "cell_type": "code",
   "execution_count": 204,
   "id": "2c9af85d",
   "metadata": {},
   "outputs": [
    {
     "data": {
      "text/plain": [
       "6"
      ]
     },
     "execution_count": 204,
     "metadata": {},
     "output_type": "execute_result"
    }
   ],
   "source": [
    "# 요소의 개수를 알려준다\n",
    "# shape만 있으면 알 수 있다.\n",
    "a.size"
   ]
  },
  {
   "cell_type": "code",
   "execution_count": 207,
   "id": "7aee6fac",
   "metadata": {},
   "outputs": [
    {
     "data": {
      "text/plain": [
       "4"
      ]
     },
     "execution_count": 207,
     "metadata": {},
     "output_type": "execute_result"
    }
   ],
   "source": [
    "# 요소당 byte수를 알려준다\n",
    "# 1byte = 8bit\n",
    "# 8bit * 4  = 32 dtype\n",
    "a.itemsize"
   ]
  },
  {
   "cell_type": "markdown",
   "id": "bed86968",
   "metadata": {},
   "source": [
    "### numpy와  python의 속도 차이"
   ]
  },
  {
   "cell_type": "code",
   "execution_count": 210,
   "id": "8eb6fd34",
   "metadata": {},
   "outputs": [
    {
     "data": {
      "text/plain": [
       "array([0, 1, 2, 3, 4, 5, 6, 7, 8, 9])"
      ]
     },
     "execution_count": 210,
     "metadata": {},
     "output_type": "execute_result"
    }
   ],
   "source": [
    "np.arange(10) # range"
   ]
  },
  {
   "cell_type": "markdown",
   "id": "c35a59f7",
   "metadata": {},
   "source": [
    "값이 작을때는 속도가 비슷하다.  \n",
    "값이 커지면 속도 차이가 난다. 값이 커지면 overflow가 발생해 값은 다를 수도 있다."
   ]
  },
  {
   "cell_type": "code",
   "execution_count": 218,
   "id": "81184681",
   "metadata": {},
   "outputs": [
    {
     "name": "stdout",
     "output_type": "stream",
     "text": [
      "Wall time: 470 ms\n"
     ]
    },
    {
     "data": {
      "text/plain": [
       "887459712"
      ]
     },
     "execution_count": 218,
     "metadata": {},
     "output_type": "execute_result"
    }
   ],
   "source": [
    "# numpy를 이용한 계산\n",
    "%time np.sum(np.arange(100000000)) # 계산이 훨씬 빠르다"
   ]
  },
  {
   "cell_type": "code",
   "execution_count": 216,
   "id": "44138558",
   "metadata": {},
   "outputs": [
    {
     "name": "stdout",
     "output_type": "stream",
     "text": [
      "Wall time: 5.66 s\n"
     ]
    },
    {
     "data": {
      "text/plain": [
       "4999999950000000"
      ]
     },
     "execution_count": 216,
     "metadata": {},
     "output_type": "execute_result"
    }
   ],
   "source": [
    "# pyhon을 이용한 계산\n",
    "%time sum(range(100000000))"
   ]
  },
  {
   "cell_type": "markdown",
   "id": "d6820537",
   "metadata": {},
   "source": [
    "같은 np.sum() 사용하더라도 값을 생성하는 방법에 따라 속도가 달라진다."
   ]
  },
  {
   "cell_type": "code",
   "execution_count": 220,
   "id": "96dfff29",
   "metadata": {},
   "outputs": [
    {
     "name": "stdout",
     "output_type": "stream",
     "text": [
      "Wall time: 388 ms\n"
     ]
    },
    {
     "data": {
      "text/plain": [
       "887459712"
      ]
     },
     "execution_count": 220,
     "metadata": {},
     "output_type": "execute_result"
    }
   ],
   "source": [
    "%time np.sum(np.arange(100000000)) # 훨씬 빠르다"
   ]
  },
  {
   "cell_type": "code",
   "execution_count": 221,
   "id": "8dc43d8a",
   "metadata": {},
   "outputs": [
    {
     "name": "stdout",
     "output_type": "stream",
     "text": [
      "Wall time: 43.5 s\n"
     ]
    },
    {
     "data": {
      "text/plain": [
       "887459712"
      ]
     },
     "execution_count": 221,
     "metadata": {},
     "output_type": "execute_result"
    }
   ],
   "source": [
    "%time np.sum(range(100000000))"
   ]
  },
  {
   "cell_type": "markdown",
   "id": "b85336ff",
   "metadata": {},
   "source": [
    "### copy"
   ]
  },
  {
   "cell_type": "code",
   "execution_count": null,
   "id": "a2bfb95c",
   "metadata": {},
   "outputs": [],
   "source": [
    "#대입문 6가지\n",
    "a = 1\n",
    "a = b = 1  # a = b = [1.2.3]  이렇게 mutable을 여러 변수에 할당할 때는 조심해야함.\n",
    "           # 만약 b를 변경하면 같은 주소를 공유하는 a도 변경되기 때문 \n",
    "a,b = 1,2\n",
    "a, *b = 1,2,3\n",
    "a += 1  # a = a + 1\n",
    "global, nonlocal"
   ]
  },
  {
   "cell_type": "markdown",
   "id": "c717818b",
   "metadata": {},
   "source": [
    "#### python에서 copy"
   ]
  },
  {
   "cell_type": "code",
   "execution_count": 222,
   "id": "34eca116",
   "metadata": {},
   "outputs": [],
   "source": [
    "a = [1,2,3] # list 는 heterogeneous  sequence  mutable"
   ]
  },
  {
   "cell_type": "code",
   "execution_count": 223,
   "id": "3d0b8534",
   "metadata": {},
   "outputs": [],
   "source": [
    "b = a"
   ]
  },
  {
   "cell_type": "code",
   "execution_count": 224,
   "id": "39dd12bf",
   "metadata": {},
   "outputs": [
    {
     "data": {
      "text/plain": [
       "[1, 2, 3]"
      ]
     },
     "execution_count": 224,
     "metadata": {},
     "output_type": "execute_result"
    }
   ],
   "source": [
    "b"
   ]
  },
  {
   "cell_type": "code",
   "execution_count": 226,
   "id": "a2160d27",
   "metadata": {},
   "outputs": [
    {
     "data": {
      "text/plain": [
       "True"
      ]
     },
     "execution_count": 226,
     "metadata": {},
     "output_type": "execute_result"
    }
   ],
   "source": [
    "a is b  # is 는 메모리 주소를 비교"
   ]
  },
  {
   "cell_type": "code",
   "execution_count": 227,
   "id": "5e59698b",
   "metadata": {},
   "outputs": [
    {
     "data": {
      "text/plain": [
       "True"
      ]
     },
     "execution_count": 227,
     "metadata": {},
     "output_type": "execute_result"
    }
   ],
   "source": [
    "a == b # 값을 비교"
   ]
  },
  {
   "cell_type": "code",
   "execution_count": 228,
   "id": "651d71b6",
   "metadata": {},
   "outputs": [],
   "source": [
    "b[0] = 7"
   ]
  },
  {
   "cell_type": "code",
   "execution_count": 229,
   "id": "3ad20289",
   "metadata": {},
   "outputs": [
    {
     "data": {
      "text/plain": [
       "[7, 2, 3]"
      ]
     },
     "execution_count": 229,
     "metadata": {},
     "output_type": "execute_result"
    }
   ],
   "source": [
    "b"
   ]
  },
  {
   "cell_type": "code",
   "execution_count": 230,
   "id": "7296c7ec",
   "metadata": {},
   "outputs": [
    {
     "data": {
      "text/plain": [
       "[7, 2, 3]"
      ]
     },
     "execution_count": 230,
     "metadata": {},
     "output_type": "execute_result"
    }
   ],
   "source": [
    "# a와 b가 메모리 주소를 공유\n",
    "# b값을 변경하면 a도 같이 변경이 된다.\n",
    "a"
   ]
  },
  {
   "cell_type": "markdown",
   "id": "5914e3e2",
   "metadata": {},
   "source": [
    "copy()"
   ]
  },
  {
   "cell_type": "code",
   "execution_count": 232,
   "id": "84253670",
   "metadata": {},
   "outputs": [],
   "source": [
    "a = [1,2,3]"
   ]
  },
  {
   "cell_type": "code",
   "execution_count": 233,
   "id": "87cdfaff",
   "metadata": {},
   "outputs": [],
   "source": [
    "# copy() 함수를 사용하면 똑값은 값만 가지고 메모리는 공유하지 않음\n",
    "b = a.copy()  # a의 값을 새로운 메모리에 저장"
   ]
  },
  {
   "cell_type": "code",
   "execution_count": 234,
   "id": "23e3dd5b",
   "metadata": {},
   "outputs": [
    {
     "data": {
      "text/plain": [
       "False"
      ]
     },
     "execution_count": 234,
     "metadata": {},
     "output_type": "execute_result"
    }
   ],
   "source": [
    "a is b"
   ]
  },
  {
   "cell_type": "code",
   "execution_count": 235,
   "id": "ef683f08",
   "metadata": {},
   "outputs": [
    {
     "data": {
      "text/plain": [
       "1781810706176"
      ]
     },
     "execution_count": 235,
     "metadata": {},
     "output_type": "execute_result"
    }
   ],
   "source": [
    "id(a)"
   ]
  },
  {
   "cell_type": "code",
   "execution_count": 236,
   "id": "0f31fed0",
   "metadata": {},
   "outputs": [
    {
     "data": {
      "text/plain": [
       "1781810707136"
      ]
     },
     "execution_count": 236,
     "metadata": {},
     "output_type": "execute_result"
    }
   ],
   "source": [
    "id(b)"
   ]
  },
  {
   "cell_type": "code",
   "execution_count": 237,
   "id": "e474a7aa",
   "metadata": {},
   "outputs": [
    {
     "data": {
      "text/plain": [
       "True"
      ]
     },
     "execution_count": 237,
     "metadata": {},
     "output_type": "execute_result"
    }
   ],
   "source": [
    "a == b"
   ]
  },
  {
   "cell_type": "code",
   "execution_count": 238,
   "id": "bd8170bb",
   "metadata": {},
   "outputs": [],
   "source": [
    "b[0] =7"
   ]
  },
  {
   "cell_type": "code",
   "execution_count": 239,
   "id": "a80e3fb5",
   "metadata": {},
   "outputs": [
    {
     "name": "stdout",
     "output_type": "stream",
     "text": [
      "[1, 2, 3]\n",
      "[7, 2, 3]\n"
     ]
    }
   ],
   "source": [
    "# 1차원 리스트인 경우 알아서 deep copy가 됨\n",
    "# a는 안바뀐다\n",
    "print(a)\n",
    "print(b)"
   ]
  },
  {
   "cell_type": "markdown",
   "id": "d7b98444",
   "metadata": {},
   "source": [
    "shallow copy  \n",
    "얇은copy"
   ]
  },
  {
   "cell_type": "code",
   "execution_count": 240,
   "id": "d242d372",
   "metadata": {},
   "outputs": [],
   "source": [
    "a = [[1,2,3]]"
   ]
  },
  {
   "cell_type": "code",
   "execution_count": 244,
   "id": "f7a1514d",
   "metadata": {},
   "outputs": [],
   "source": [
    "b = a.copy()"
   ]
  },
  {
   "cell_type": "code",
   "execution_count": 245,
   "id": "d4081dfd",
   "metadata": {},
   "outputs": [
    {
     "name": "stdout",
     "output_type": "stream",
     "text": [
      "[[1, 2, 3]]\n",
      "[[1, 2, 3]]\n"
     ]
    }
   ],
   "source": [
    "print(a)\n",
    "print(b)"
   ]
  },
  {
   "cell_type": "code",
   "execution_count": 246,
   "id": "284a881a",
   "metadata": {},
   "outputs": [],
   "source": [
    "b[0][0] = 7"
   ]
  },
  {
   "cell_type": "code",
   "execution_count": 247,
   "id": "6d1942ae",
   "metadata": {},
   "outputs": [
    {
     "name": "stdout",
     "output_type": "stream",
     "text": [
      "[[7, 2, 3]]\n",
      "[[7, 2, 3]]\n"
     ]
    }
   ],
   "source": [
    "# 2차원 이상이면 copy 함수를 호출해 쓰더라도 a 바뀐다\n",
    "print(a)\n",
    "print(b)"
   ]
  },
  {
   "cell_type": "code",
   "execution_count": 248,
   "id": "1d78d307",
   "metadata": {},
   "outputs": [
    {
     "data": {
      "text/plain": [
       "True"
      ]
     },
     "execution_count": 248,
     "metadata": {},
     "output_type": "execute_result"
    }
   ],
   "source": [
    "a[0] is b[0]"
   ]
  },
  {
   "cell_type": "markdown",
   "id": "5432f7c0",
   "metadata": {},
   "source": [
    "deepcopy  \n",
    "2차원 이상이어도 a 안바뀌게 하고 싶으면"
   ]
  },
  {
   "cell_type": "code",
   "execution_count": 249,
   "id": "ab83aa33",
   "metadata": {},
   "outputs": [],
   "source": [
    "import copy"
   ]
  },
  {
   "cell_type": "code",
   "execution_count": 250,
   "id": "98f728bb",
   "metadata": {},
   "outputs": [],
   "source": [
    "a = [[1,2,3]]"
   ]
  },
  {
   "cell_type": "code",
   "execution_count": 251,
   "id": "148914db",
   "metadata": {},
   "outputs": [],
   "source": [
    "b = copy.deepcopy(a)"
   ]
  },
  {
   "cell_type": "code",
   "execution_count": 253,
   "id": "ba953809",
   "metadata": {},
   "outputs": [
    {
     "name": "stdout",
     "output_type": "stream",
     "text": [
      "[[1, 2, 3]]\n",
      "[[1, 2, 3]]\n"
     ]
    }
   ],
   "source": [
    "print(a)\n",
    "print(b)"
   ]
  },
  {
   "cell_type": "code",
   "execution_count": 254,
   "id": "acb22ad1",
   "metadata": {},
   "outputs": [
    {
     "data": {
      "text/plain": [
       "False"
      ]
     },
     "execution_count": 254,
     "metadata": {},
     "output_type": "execute_result"
    }
   ],
   "source": [
    "a is b"
   ]
  },
  {
   "cell_type": "code",
   "execution_count": 255,
   "id": "8a7e5692",
   "metadata": {},
   "outputs": [
    {
     "data": {
      "text/plain": [
       "False"
      ]
     },
     "execution_count": 255,
     "metadata": {},
     "output_type": "execute_result"
    }
   ],
   "source": [
    "# deep copy가 됨\n",
    "a[0] is b[0]"
   ]
  },
  {
   "cell_type": "markdown",
   "id": "4d624cba",
   "metadata": {},
   "source": [
    "1차원 list 일때 slice 로 copy하면 deep copy가 이루어진다.  \n",
    "\n",
    "[:]는 전체라는 뜻이다.  \n",
    "슬라이싱 방식으로 1차 리스트일때는 재할당하면 deepcopy가 된다. 슬라이싱도 2차 리스트 이상인 경우 shallow copy가 된다  \n"
   ]
  },
  {
   "cell_type": "code",
   "execution_count": 256,
   "id": "0b084215",
   "metadata": {},
   "outputs": [],
   "source": [
    "a = [1,2,3]"
   ]
  },
  {
   "cell_type": "code",
   "execution_count": 257,
   "id": "081a6621",
   "metadata": {},
   "outputs": [],
   "source": [
    "# slice 로 복사\n",
    "b = a[:]"
   ]
  },
  {
   "cell_type": "code",
   "execution_count": 258,
   "id": "dfac8545",
   "metadata": {},
   "outputs": [
    {
     "name": "stdout",
     "output_type": "stream",
     "text": [
      "[1, 2, 3]\n",
      "[1, 2, 3]\n"
     ]
    }
   ],
   "source": [
    "print(a)\n",
    "print(b)"
   ]
  },
  {
   "cell_type": "code",
   "execution_count": 259,
   "id": "bfabcfb0",
   "metadata": {},
   "outputs": [],
   "source": [
    "b[0] = 7"
   ]
  },
  {
   "cell_type": "code",
   "execution_count": 260,
   "id": "1a6162a6",
   "metadata": {},
   "outputs": [
    {
     "name": "stdout",
     "output_type": "stream",
     "text": [
      "[1, 2, 3]\n",
      "[7, 2, 3]\n"
     ]
    }
   ],
   "source": [
    "print(a)\n",
    "print(b)"
   ]
  },
  {
   "cell_type": "markdown",
   "id": "4679abc3",
   "metadata": {},
   "source": [
    "2차원 이상 list에서 slice로 copy를 해도 shallow copy(얇은copy)가 이루어진다"
   ]
  },
  {
   "cell_type": "code",
   "execution_count": 261,
   "id": "c0fec306",
   "metadata": {},
   "outputs": [],
   "source": [
    "a = [[1,2,3]]"
   ]
  },
  {
   "cell_type": "code",
   "execution_count": 262,
   "id": "7b49fb12",
   "metadata": {},
   "outputs": [],
   "source": [
    "b = a[:]"
   ]
  },
  {
   "cell_type": "code",
   "execution_count": 263,
   "id": "62e936ea",
   "metadata": {},
   "outputs": [
    {
     "name": "stdout",
     "output_type": "stream",
     "text": [
      "[[1, 2, 3]]\n",
      "[[1, 2, 3]]\n"
     ]
    }
   ],
   "source": [
    "print(a)\n",
    "print(b)"
   ]
  },
  {
   "cell_type": "code",
   "execution_count": 264,
   "id": "6d3bafea",
   "metadata": {},
   "outputs": [
    {
     "data": {
      "text/plain": [
       "False"
      ]
     },
     "execution_count": 264,
     "metadata": {},
     "output_type": "execute_result"
    }
   ],
   "source": [
    "a is b # 주소는 다르고"
   ]
  },
  {
   "cell_type": "code",
   "execution_count": 265,
   "id": "11f91941",
   "metadata": {},
   "outputs": [
    {
     "data": {
      "text/plain": [
       "True"
      ]
     },
     "execution_count": 265,
     "metadata": {},
     "output_type": "execute_result"
    }
   ],
   "source": [
    "a[0] is b[0] # 값은 같다"
   ]
  },
  {
   "cell_type": "markdown",
   "id": "4986a0f3",
   "metadata": {},
   "source": [
    "#### python의 copy는 기본적으로 shallow이다."
   ]
  },
  {
   "cell_type": "markdown",
   "id": "794222df",
   "metadata": {},
   "source": [
    "### numpy의 copy"
   ]
  },
  {
   "cell_type": "code",
   "execution_count": 276,
   "id": "5f97065e",
   "metadata": {},
   "outputs": [],
   "source": [
    "a = b = np.array([1,2,3])"
   ]
  },
  {
   "cell_type": "code",
   "execution_count": 267,
   "id": "883a3dad",
   "metadata": {},
   "outputs": [
    {
     "data": {
      "text/plain": [
       "True"
      ]
     },
     "execution_count": 267,
     "metadata": {},
     "output_type": "execute_result"
    }
   ],
   "source": [
    "a is b"
   ]
  },
  {
   "cell_type": "markdown",
   "id": "2b0060ba",
   "metadata": {},
   "source": [
    "array는 sequecnce타입으로 인덱싱과 슬라이싱이 가능하다."
   ]
  },
  {
   "cell_type": "code",
   "execution_count": 268,
   "id": "56ab62c1",
   "metadata": {},
   "outputs": [
    {
     "data": {
      "text/plain": [
       "1"
      ]
     },
     "execution_count": 268,
     "metadata": {},
     "output_type": "execute_result"
    }
   ],
   "source": [
    "a[0] # indexing"
   ]
  },
  {
   "cell_type": "code",
   "execution_count": 269,
   "id": "5613ed3b",
   "metadata": {},
   "outputs": [
    {
     "data": {
      "text/plain": [
       "array([1, 2, 3])"
      ]
     },
     "execution_count": 269,
     "metadata": {},
     "output_type": "execute_result"
    }
   ],
   "source": [
    "a[:] # slicing"
   ]
  },
  {
   "cell_type": "markdown",
   "id": "a4432970",
   "metadata": {},
   "source": [
    "array는 mutable 이다.  \n",
    "예외가 몇가지 있지만 기본적으로 mutable에 가깝다."
   ]
  },
  {
   "cell_type": "code",
   "execution_count": 277,
   "id": "42b7d4fd",
   "metadata": {},
   "outputs": [],
   "source": [
    "a[0] = 100"
   ]
  },
  {
   "cell_type": "code",
   "execution_count": 278,
   "id": "45381120",
   "metadata": {},
   "outputs": [
    {
     "data": {
      "text/plain": [
       "array([100,   2,   3])"
      ]
     },
     "execution_count": 278,
     "metadata": {},
     "output_type": "execute_result"
    }
   ],
   "source": [
    "a"
   ]
  },
  {
   "cell_type": "code",
   "execution_count": 280,
   "id": "0d20ea56",
   "metadata": {},
   "outputs": [
    {
     "name": "stdout",
     "output_type": "stream",
     "text": [
      "[100   2   3]\n",
      "[100   2   3]\n"
     ]
    }
   ],
   "source": [
    "# a = b 같은 주소 할당해서 같이 변한다\n",
    "print(a)\n",
    "print(b)"
   ]
  },
  {
   "cell_type": "markdown",
   "id": "e8440795",
   "metadata": {},
   "source": [
    "array는 homogeneous이다."
   ]
  },
  {
   "cell_type": "code",
   "execution_count": 272,
   "id": "23edb9ba",
   "metadata": {},
   "outputs": [],
   "source": [
    "c = np.array([1, 'a', True])"
   ]
  },
  {
   "cell_type": "code",
   "execution_count": 273,
   "id": "0cf0a393",
   "metadata": {},
   "outputs": [
    {
     "data": {
      "text/plain": [
       "array(['1', 'a', 'True'], dtype='<U11')"
      ]
     },
     "execution_count": 273,
     "metadata": {},
     "output_type": "execute_result"
    }
   ],
   "source": [
    "c"
   ]
  },
  {
   "cell_type": "code",
   "execution_count": 275,
   "id": "8a4fdd45",
   "metadata": {},
   "outputs": [
    {
     "data": {
      "text/plain": [
       "numpy.str_"
      ]
     },
     "execution_count": 275,
     "metadata": {},
     "output_type": "execute_result"
    }
   ],
   "source": [
    "type(c[0])"
   ]
  },
  {
   "cell_type": "markdown",
   "id": "37af49ec",
   "metadata": {},
   "source": [
    "#### numpy는 기본적으로 deepcopy여서 copy()함수 사용하게 되면 deepcopy가 이루어진다"
   ]
  },
  {
   "cell_type": "code",
   "execution_count": 285,
   "id": "b422fd40",
   "metadata": {},
   "outputs": [],
   "source": [
    "a = np.array([[1,2,3]])"
   ]
  },
  {
   "cell_type": "code",
   "execution_count": 286,
   "id": "74359047",
   "metadata": {},
   "outputs": [],
   "source": [
    "b = a.copy()"
   ]
  },
  {
   "cell_type": "code",
   "execution_count": 287,
   "id": "0e6f29a8",
   "metadata": {},
   "outputs": [
    {
     "data": {
      "text/plain": [
       "False"
      ]
     },
     "execution_count": 287,
     "metadata": {},
     "output_type": "execute_result"
    }
   ],
   "source": [
    "a is b # 주소 다름"
   ]
  },
  {
   "cell_type": "code",
   "execution_count": 289,
   "id": "15610c0e",
   "metadata": {},
   "outputs": [],
   "source": [
    "b[0][0] = 7"
   ]
  },
  {
   "cell_type": "code",
   "execution_count": 290,
   "id": "8f387d1c",
   "metadata": {},
   "outputs": [
    {
     "name": "stdout",
     "output_type": "stream",
     "text": [
      "[[1 2 3]]\n",
      "[[7 2 3]]\n"
     ]
    }
   ],
   "source": [
    "# 주소 다르니까 같이 안변함\n",
    "print(a)\n",
    "print(b)"
   ]
  },
  {
   "cell_type": "markdown",
   "id": "fbb9583c",
   "metadata": {},
   "source": [
    "## 다른 데이터 타입에서 데이터 가져오기"
   ]
  },
  {
   "cell_type": "markdown",
   "id": "9a5fbbad",
   "metadata": {},
   "source": [
    "#### as 계열\n",
    "다른 데이터 타입을 가져와서 바꿔서 사용할 때는 as라는 이름이 보통 붕는다."
   ]
  },
  {
   "cell_type": "code",
   "execution_count": 292,
   "id": "617464a1",
   "metadata": {},
   "outputs": [
    {
     "name": "stdout",
     "output_type": "stream",
     "text": [
      "<class 'list'>\n",
      "<class 'int'>\n",
      "<class 'numpy.ndarray'>\n",
      "<class 'numpy.int32'>\n"
     ]
    }
   ],
   "source": [
    "# python의 list 데이터 타입을 int ndarry로 변환\n",
    "a = [1,2,3]\n",
    "print(type(a)) # list\n",
    "print(type(a[0]))\n",
    "b = np.array(a)\n",
    "print(type(b)) # array 배열\n",
    "print(type(b[0]))"
   ]
  },
  {
   "cell_type": "code",
   "execution_count": 293,
   "id": "3be64069",
   "metadata": {},
   "outputs": [
    {
     "name": "stdout",
     "output_type": "stream",
     "text": [
      "<class 'list'>\n",
      "<class 'int'>\n",
      "<class 'numpy.ndarray'>\n",
      "<class 'numpy.float64'>\n"
     ]
    }
   ],
   "source": [
    "# python의 list 데이터 타입을 float ndarry로 변환\n",
    "a = [1,2,3]\n",
    "print(type(a)) \n",
    "print(type(a[0]))\n",
    "b = np.asfarray(a)\n",
    "print(type(b)) \n",
    "print(type(b[0]))"
   ]
  },
  {
   "cell_type": "code",
   "execution_count": 297,
   "id": "569e84fd",
   "metadata": {
    "scrolled": true
   },
   "outputs": [
    {
     "name": "stdout",
     "output_type": "stream",
     "text": [
      "<class 'list'>\n",
      "<class 'float'>\n",
      "<class 'numpy.ndarray'>\n",
      "<class 'numpy.float64'>\n"
     ]
    }
   ],
   "source": [
    "# python의 list 데이터 타입 float이면 float ndarray로 변환\n",
    "# python의 list 데이터 타입 int이면 int ndarry로 변환\n",
    "a = [1.,2.,3.]\n",
    "print(type(a)) \n",
    "print(type(a[0]))\n",
    "b = np.asarray(a)\n",
    "print(type(b)) \n",
    "print(type(b[0]))"
   ]
  },
  {
   "cell_type": "code",
   "execution_count": 296,
   "id": "2090276f",
   "metadata": {},
   "outputs": [
    {
     "name": "stdout",
     "output_type": "stream",
     "text": [
      "<class 'list'>\n",
      "<class 'float'>\n",
      "<class 'numpy.ndarray'>\n",
      "<class 'numpy.float64'>\n"
     ]
    }
   ],
   "source": [
    "a = [1.,2.,3.]\n",
    "print(type(a)) \n",
    "print(type(a[0]))\n",
    "b = np.asfarray(a)\n",
    "print(type(b)) \n",
    "print(type(b[0]))"
   ]
  },
  {
   "cell_type": "markdown",
   "id": "ba3fc77d",
   "metadata": {},
   "source": [
    "numpy의 as계열과 from계열은 약간 비체계적인 면이 있기 때문에 tensorflow에서는 조금다르게 사용한다.  \n",
    "\n",
    "--------------------\n",
    " numpy에서 데이터 만드는 방법 정리  \n",
    " - 생성\n",
    "  - factory method계열\n",
    "    zeros, ones, arrange, eye, identity, empty\n",
    " - 기반\n",
    "  - array, as계열, from계열, _like계열\n",
    " - load\n",
    "  - 파일로부터 값을 가져오는 방법"
   ]
  },
  {
   "cell_type": "markdown",
   "id": "1b0f6a4b",
   "metadata": {},
   "source": [
    "### 값 가져오기"
   ]
  },
  {
   "cell_type": "markdown",
   "id": "4ec24413",
   "metadata": {},
   "source": [
    "2. comma로 값 가져오기"
   ]
  },
  {
   "cell_type": "code",
   "execution_count": 298,
   "id": "11733432",
   "metadata": {},
   "outputs": [],
   "source": [
    "a = [[1,2,3],[4,5,6]] # python\n",
    "b = np.array([[1,2,3],[4,5,6]])  # numpy"
   ]
  },
  {
   "cell_type": "code",
   "execution_count": 299,
   "id": "17f5e662",
   "metadata": {},
   "outputs": [
    {
     "ename": "TypeError",
     "evalue": "list indices must be integers or slices, not tuple",
     "output_type": "error",
     "traceback": [
      "\u001b[1;31m---------------------------------------------------------------------------\u001b[0m",
      "\u001b[1;31mTypeError\u001b[0m                                 Traceback (most recent call last)",
      "\u001b[1;32m<ipython-input-299-2fc0526218b3>\u001b[0m in \u001b[0;36m<module>\u001b[1;34m\u001b[0m\n\u001b[1;32m----> 1\u001b[1;33m \u001b[0ma\u001b[0m\u001b[1;33m[\u001b[0m\u001b[1;36m0\u001b[0m\u001b[1;33m,\u001b[0m\u001b[1;36m1\u001b[0m\u001b[1;33m]\u001b[0m\u001b[1;33m\u001b[0m\u001b[1;33m\u001b[0m\u001b[0m\n\u001b[0m",
      "\u001b[1;31mTypeError\u001b[0m: list indices must be integers or slices, not tuple"
     ]
    }
   ],
   "source": [
    "a[0,1] # slicing은 되는데 ,안됨"
   ]
  },
  {
   "cell_type": "code",
   "execution_count": 301,
   "id": "11c927e6",
   "metadata": {},
   "outputs": [
    {
     "data": {
      "text/plain": [
       "[1, 2, 3]"
      ]
     },
     "execution_count": 301,
     "metadata": {},
     "output_type": "execute_result"
    }
   ],
   "source": [
    "a[0] # 1차원 리스트로 가져옴"
   ]
  },
  {
   "cell_type": "code",
   "execution_count": 305,
   "id": "1ab44daf",
   "metadata": {
    "scrolled": true
   },
   "outputs": [
    {
     "data": {
      "text/plain": [
       "[[1, 2, 3], [4, 5, 6]]"
      ]
     },
     "execution_count": 305,
     "metadata": {},
     "output_type": "execute_result"
    }
   ],
   "source": [
    "# comma를 사용하려면 slice객체를 이용해야함.\n",
    "a[slice(0,2)] # 2차원 리스트로 가져옴. 0행 이상 2행 미만"
   ]
  },
  {
   "cell_type": "markdown",
   "id": "7dea98db",
   "metadata": {},
   "source": [
    "numpy는 기본적으로 인덱싱/슬라이싱할때 comma를 사용할 수 있다."
   ]
  },
  {
   "cell_type": "code",
   "execution_count": 308,
   "id": "913a38c8",
   "metadata": {},
   "outputs": [
    {
     "name": "stdout",
     "output_type": "stream",
     "text": [
      "3\n",
      "3\n"
     ]
    }
   ],
   "source": [
    "# numpy\n",
    "# 배열 b[행,열]\n",
    "print(b[0,2])\n",
    "print(b[0,-1])"
   ]
  },
  {
   "cell_type": "code",
   "execution_count": 306,
   "id": "8e4cdf21",
   "metadata": {},
   "outputs": [
    {
     "name": "stdout",
     "output_type": "stream",
     "text": [
      "[[1, 2, 3], [4, 5, 6]]\n",
      "[[1 2 3]\n",
      " [4 5 6]]\n"
     ]
    }
   ],
   "source": [
    "print(a) # list\n",
    "print(b) # array"
   ]
  },
  {
   "cell_type": "code",
   "execution_count": 307,
   "id": "4fb0c58c",
   "metadata": {},
   "outputs": [
    {
     "name": "stdout",
     "output_type": "stream",
     "text": [
      "3\n"
     ]
    }
   ],
   "source": [
    "# python일 때 \n",
    "# 리스트 a[행][열]\n",
    "print(a[0][2])"
   ]
  },
  {
   "cell_type": "markdown",
   "id": "9f5ef836",
   "metadata": {},
   "source": [
    "### 2. boolean indexing"
   ]
  },
  {
   "cell_type": "code",
   "execution_count": 312,
   "id": "5a24b373",
   "metadata": {},
   "outputs": [],
   "source": [
    "a = [[1,2,3,4]]"
   ]
  },
  {
   "cell_type": "code",
   "execution_count": 313,
   "id": "a8c9e7c7",
   "metadata": {},
   "outputs": [
    {
     "ename": "TypeError",
     "evalue": "'>' not supported between instances of 'list' and 'int'",
     "output_type": "error",
     "traceback": [
      "\u001b[1;31m---------------------------------------------------------------------------\u001b[0m",
      "\u001b[1;31mTypeError\u001b[0m                                 Traceback (most recent call last)",
      "\u001b[1;32m<ipython-input-313-9e75e0aba72c>\u001b[0m in \u001b[0;36m<module>\u001b[1;34m\u001b[0m\n\u001b[1;32m----> 1\u001b[1;33m \u001b[0ma\u001b[0m \u001b[1;33m>\u001b[0m\u001b[1;36m2\u001b[0m\u001b[1;33m\u001b[0m\u001b[1;33m\u001b[0m\u001b[0m\n\u001b[0m",
      "\u001b[1;31mTypeError\u001b[0m: '>' not supported between instances of 'list' and 'int'"
     ]
    }
   ],
   "source": [
    "a >2  # list는 안됨"
   ]
  },
  {
   "cell_type": "code",
   "execution_count": 316,
   "id": "7db59442",
   "metadata": {},
   "outputs": [],
   "source": [
    "b = np.array([[1,2,3,4]])"
   ]
  },
  {
   "cell_type": "code",
   "execution_count": 317,
   "id": "78061d08",
   "metadata": {},
   "outputs": [
    {
     "data": {
      "text/plain": [
       "array([[1, 2, 3, 4]])"
      ]
     },
     "execution_count": 317,
     "metadata": {},
     "output_type": "execute_result"
    }
   ],
   "source": [
    "b"
   ]
  },
  {
   "cell_type": "markdown",
   "id": "bafd78f8",
   "metadata": {},
   "source": [
    "arrray를 scalar와 연산하면 elementwise로 계산한다.  \n",
    "(elementwise : 원소별로 각각 계산이 된다.)"
   ]
  },
  {
   "cell_type": "code",
   "execution_count": 321,
   "id": "64b00d60",
   "metadata": {
    "scrolled": true
   },
   "outputs": [
    {
     "data": {
      "text/plain": [
       "array([[False, False,  True,  True]])"
      ]
     },
     "execution_count": 321,
     "metadata": {},
     "output_type": "execute_result"
    }
   ],
   "source": [
    "# 원소별로 각각 비교를 해서 논리값으로 리턴\n",
    "# numpy에서는 가능하고 python에서는 안된다.\n",
    "b>2"
   ]
  },
  {
   "cell_type": "markdown",
   "id": "4025cf98",
   "metadata": {},
   "source": [
    "numpy는 indexing, slicing 자리에 조건도 쓸 수 있다.    \n",
    "True에 해당되는 값만 가져온다"
   ]
  },
  {
   "cell_type": "code",
   "execution_count": 324,
   "id": "f580c02a",
   "metadata": {},
   "outputs": [
    {
     "data": {
      "text/plain": [
       "array([3, 4])"
      ]
     },
     "execution_count": 324,
     "metadata": {},
     "output_type": "execute_result"
    }
   ],
   "source": [
    "# 논리값을 줘서 인덱싱한다\n",
    "b[np.array([[False, False,  True,  True]])]  # b[[1,2,3,4]]"
   ]
  },
  {
   "cell_type": "code",
   "execution_count": 325,
   "id": "3436f1cd",
   "metadata": {},
   "outputs": [
    {
     "data": {
      "text/plain": [
       "array([3, 4])"
      ]
     },
     "execution_count": 325,
     "metadata": {},
     "output_type": "execute_result"
    }
   ],
   "source": [
    "# 결과 똑같다\n",
    "# 즉, 일일이 지정안하고 간단하게 쓸 수 있다\n",
    "b[b>2]"
   ]
  },
  {
   "cell_type": "markdown",
   "id": "d2ed2a7a",
   "metadata": {},
   "source": [
    "numpy에서 noolean indexing 조건  \n",
    "- array만 된다.\n",
    "- numpy True, False로만 구성되어야 한다.\n",
    "- shape이 맞아야 한다.(개수가 맞을때만 사용할 수 있다.)"
   ]
  },
  {
   "cell_type": "code",
   "execution_count": 328,
   "id": "06ef8c5f",
   "metadata": {},
   "outputs": [
    {
     "ename": "TypeError",
     "evalue": "list indices must be integers or slices, not list",
     "output_type": "error",
     "traceback": [
      "\u001b[1;31m---------------------------------------------------------------------------\u001b[0m",
      "\u001b[1;31mTypeError\u001b[0m                                 Traceback (most recent call last)",
      "\u001b[1;32m<ipython-input-328-b0f529ed98b3>\u001b[0m in \u001b[0;36m<module>\u001b[1;34m\u001b[0m\n\u001b[0;32m      1\u001b[0m \u001b[1;31m# python 에서는 지원안한다.\u001b[0m\u001b[1;33m\u001b[0m\u001b[1;33m\u001b[0m\u001b[1;33m\u001b[0m\u001b[0m\n\u001b[0;32m      2\u001b[0m \u001b[0ma\u001b[0m \u001b[1;33m=\u001b[0m \u001b[1;33m[\u001b[0m\u001b[1;33m[\u001b[0m\u001b[1;36m1\u001b[0m\u001b[1;33m,\u001b[0m\u001b[1;36m2\u001b[0m\u001b[1;33m,\u001b[0m\u001b[1;36m3\u001b[0m\u001b[1;33m,\u001b[0m\u001b[1;36m4\u001b[0m\u001b[1;33m]\u001b[0m\u001b[1;33m]\u001b[0m\u001b[1;33m\u001b[0m\u001b[1;33m\u001b[0m\u001b[0m\n\u001b[1;32m----> 3\u001b[1;33m \u001b[0ma\u001b[0m\u001b[1;33m[\u001b[0m\u001b[1;33m[\u001b[0m\u001b[1;33m[\u001b[0m\u001b[1;32mTrue\u001b[0m\u001b[1;33m,\u001b[0m\u001b[1;32mTrue\u001b[0m\u001b[1;33m,\u001b[0m\u001b[1;32mFalse\u001b[0m\u001b[1;33m,\u001b[0m\u001b[1;32mTrue\u001b[0m\u001b[1;33m]\u001b[0m\u001b[1;33m]\u001b[0m\u001b[1;33m]\u001b[0m\u001b[1;33m\u001b[0m\u001b[1;33m\u001b[0m\u001b[0m\n\u001b[0m",
      "\u001b[1;31mTypeError\u001b[0m: list indices must be integers or slices, not list"
     ]
    }
   ],
   "source": [
    "# python 에서는 지원안한다.\n",
    "a = [[1,2,3,4]]\n",
    "a[[[True,True,False,True]]]"
   ]
  },
  {
   "cell_type": "code",
   "execution_count": 329,
   "id": "dd1dc2a6",
   "metadata": {},
   "outputs": [
    {
     "data": {
      "text/plain": [
       "dtype('bool')"
      ]
     },
     "execution_count": 329,
     "metadata": {},
     "output_type": "execute_result"
    }
   ],
   "source": [
    "# 데이터타입 boolean\n",
    "np.array([[True, False, True, False]]).dtype"
   ]
  },
  {
   "cell_type": "code",
   "execution_count": 334,
   "id": "6d4a6a00",
   "metadata": {},
   "outputs": [],
   "source": [
    "b = np.array([[1,2,3],[4,5,6]])"
   ]
  },
  {
   "cell_type": "code",
   "execution_count": 335,
   "id": "5a3f54fb",
   "metadata": {},
   "outputs": [
    {
     "data": {
      "text/plain": [
       "numpy.ndarray"
      ]
     },
     "execution_count": 335,
     "metadata": {},
     "output_type": "execute_result"
    }
   ],
   "source": [
    "type(b)  # python에서 재공하는 내장메소드(스페셜메소드 기본메소드)\n",
    "b.__class__"
   ]
  },
  {
   "cell_type": "code",
   "execution_count": 336,
   "id": "7de9af46",
   "metadata": {},
   "outputs": [
    {
     "data": {
      "text/plain": [
       "(2, 3)"
      ]
     },
     "execution_count": 336,
     "metadata": {},
     "output_type": "execute_result"
    }
   ],
   "source": [
    "b.shape"
   ]
  },
  {
   "cell_type": "code",
   "execution_count": 337,
   "id": "f88ead2e",
   "metadata": {
    "scrolled": true
   },
   "outputs": [
    {
     "data": {
      "text/plain": [
       "array([1, 2, 3])"
      ]
     },
     "execution_count": 337,
     "metadata": {},
     "output_type": "execute_result"
    }
   ],
   "source": [
    "b.__getitem__(0) # 0행의 데이터 가져옴"
   ]
  },
  {
   "cell_type": "code",
   "execution_count": 340,
   "id": "f640171c",
   "metadata": {},
   "outputs": [
    {
     "data": {
      "text/plain": [
       "array([1, 2, 3])"
      ]
     },
     "execution_count": 340,
     "metadata": {},
     "output_type": "execute_result"
    }
   ],
   "source": [
    "b[0]"
   ]
  },
  {
   "cell_type": "code",
   "execution_count": 338,
   "id": "d53eb0a0",
   "metadata": {},
   "outputs": [
    {
     "data": {
      "text/plain": [
       "array([4, 5, 6])"
      ]
     },
     "execution_count": 338,
     "metadata": {},
     "output_type": "execute_result"
    }
   ],
   "source": [
    "b.__getitem__(1) # 1행의 데이터"
   ]
  },
  {
   "cell_type": "code",
   "execution_count": 341,
   "id": "7ac03659",
   "metadata": {},
   "outputs": [
    {
     "data": {
      "text/plain": [
       "array([4, 5, 6])"
      ]
     },
     "execution_count": 341,
     "metadata": {},
     "output_type": "execute_result"
    }
   ],
   "source": [
    "b[1]"
   ]
  },
  {
   "cell_type": "code",
   "execution_count": 339,
   "id": "2738f33c",
   "metadata": {},
   "outputs": [
    {
     "data": {
      "text/plain": [
       "2"
      ]
     },
     "execution_count": 339,
     "metadata": {},
     "output_type": "execute_result"
    }
   ],
   "source": [
    "b.__getitem__((0,1)) # 튜플로 넣어야함. 0행 1열 데이터 가져옴"
   ]
  },
  {
   "cell_type": "code",
   "execution_count": 342,
   "id": "573910e1",
   "metadata": {},
   "outputs": [
    {
     "data": {
      "text/plain": [
       "2"
      ]
     },
     "execution_count": 342,
     "metadata": {},
     "output_type": "execute_result"
    }
   ],
   "source": [
    "b[0,1]"
   ]
  },
  {
   "cell_type": "markdown",
   "id": "4a4214e0",
   "metadata": {},
   "source": [
    "### 3. fancy indexing"
   ]
  },
  {
   "cell_type": "code",
   "execution_count": 346,
   "id": "51670d66",
   "metadata": {},
   "outputs": [
    {
     "data": {
      "text/plain": [
       "array([[ 0,  1,  2,  3,  4],\n",
       "       [ 5,  6,  7,  8,  9],\n",
       "       [10, 11, 12, 13, 14],\n",
       "       [15, 16, 17, 18, 19],\n",
       "       [20, 21, 22, 23, 24],\n",
       "       [25, 26, 27, 28, 29],\n",
       "       [30, 31, 32, 33, 34],\n",
       "       [35, 36, 37, 38, 39],\n",
       "       [40, 41, 42, 43, 44],\n",
       "       [45, 46, 47, 48, 49],\n",
       "       [50, 51, 52, 53, 54],\n",
       "       [55, 56, 57, 58, 59],\n",
       "       [60, 61, 62, 63, 64],\n",
       "       [65, 66, 67, 68, 69],\n",
       "       [70, 71, 72, 73, 74],\n",
       "       [75, 76, 77, 78, 79],\n",
       "       [80, 81, 82, 83, 84],\n",
       "       [85, 86, 87, 88, 89],\n",
       "       [90, 91, 92, 93, 94],\n",
       "       [95, 96, 97, 98, 99]])"
      ]
     },
     "execution_count": 346,
     "metadata": {},
     "output_type": "execute_result"
    }
   ],
   "source": [
    "b = np.arange(100).reshape(20,5) # reshape(행,열) 배열의 구조를 변경할때 사용하는 메소드\n",
    "b"
   ]
  },
  {
   "cell_type": "markdown",
   "id": "5f56052f",
   "metadata": {},
   "source": [
    "인덱싱, 슬라이싱 자리에 괄호를 하나 더 넣으면 fancy indexing 할 수 있다.  \n",
    "여러개를 한번에 인덱싱할 수 있다."
   ]
  },
  {
   "cell_type": "code",
   "execution_count": 349,
   "id": "edfddd4f",
   "metadata": {},
   "outputs": [
    {
     "data": {
      "text/plain": [
       "array([[ 0,  1,  2,  3,  4],\n",
       "       [ 5,  6,  7,  8,  9],\n",
       "       [10, 11, 12, 13, 14],\n",
       "       [15, 16, 17, 18, 19],\n",
       "       [20, 21, 22, 23, 24],\n",
       "       [25, 26, 27, 28, 29],\n",
       "       [30, 31, 32, 33, 34],\n",
       "       [35, 36, 37, 38, 39],\n",
       "       [40, 41, 42, 43, 44],\n",
       "       [45, 46, 47, 48, 49],\n",
       "       [50, 51, 52, 53, 54],\n",
       "       [55, 56, 57, 58, 59],\n",
       "       [60, 61, 62, 63, 64],\n",
       "       [65, 66, 67, 68, 69],\n",
       "       [70, 71, 72, 73, 74],\n",
       "       [75, 76, 77, 78, 79],\n",
       "       [80, 81, 82, 83, 84],\n",
       "       [85, 86, 87, 88, 89],\n",
       "       [90, 91, 92, 93, 94],\n",
       "       [95, 96, 97, 98, 99]])"
      ]
     },
     "execution_count": 349,
     "metadata": {},
     "output_type": "execute_result"
    }
   ],
   "source": [
    "b[:] # 전체를 가져온다. = b[:,:]"
   ]
  },
  {
   "cell_type": "code",
   "execution_count": 352,
   "id": "08b97459",
   "metadata": {},
   "outputs": [
    {
     "data": {
      "text/plain": [
       "array([[ 5,  6,  7,  8,  9],\n",
       "       [10, 11, 12, 13, 14]])"
      ]
     },
     "execution_count": 352,
     "metadata": {},
     "output_type": "execute_result"
    }
   ],
   "source": [
    "b[1:3] # 1행부터 3행 미만의 데이터 가져온다"
   ]
  },
  {
   "cell_type": "code",
   "execution_count": 353,
   "id": "dd89d6d4",
   "metadata": {},
   "outputs": [
    {
     "data": {
      "text/plain": [
       "array([[ 7,  8],\n",
       "       [12, 13]])"
      ]
     },
     "execution_count": 353,
     "metadata": {},
     "output_type": "execute_result"
    }
   ],
   "source": [
    "b[1:3, 2:4] # 1행부터 3행 미만이면서 2열부터 4열 미만의 데이터"
   ]
  },
  {
   "cell_type": "code",
   "execution_count": 354,
   "id": "c69eabc1",
   "metadata": {},
   "outputs": [
    {
     "data": {
      "text/plain": [
       "array([[ 5,  6,  7,  8,  9],\n",
       "       [15, 16, 17, 18, 19],\n",
       "       [25, 26, 27, 28, 29]])"
      ]
     },
     "execution_count": 354,
     "metadata": {},
     "output_type": "execute_result"
    }
   ],
   "source": [
    "b[[1,3,5]] # 1, 3, 5 행의 데이터"
   ]
  },
  {
   "cell_type": "code",
   "execution_count": 355,
   "id": "d8efd391",
   "metadata": {},
   "outputs": [
    {
     "data": {
      "text/plain": [
       "array([ 5, 17, 29])"
      ]
     },
     "execution_count": 355,
     "metadata": {},
     "output_type": "execute_result"
    }
   ],
   "source": [
    "b[[1,3,5],[0,2,4]] # (1,0) (3,2) (5,4)의 데이터"
   ]
  },
  {
   "cell_type": "markdown",
   "id": "b8a9c03d",
   "metadata": {},
   "source": [
    "fancying indexing은 인덱싱 기법만 사용할 수 있다.  \n",
    "\":\"(콜론)은 슬라이싱 기법이므로 지원하지 않는다."
   ]
  },
  {
   "cell_type": "code",
   "execution_count": 356,
   "id": "8cce5403",
   "metadata": {},
   "outputs": [
    {
     "ename": "SyntaxError",
     "evalue": "invalid syntax (<ipython-input-356-7cf25934e432>, line 2)",
     "output_type": "error",
     "traceback": [
      "\u001b[1;36m  File \u001b[1;32m\"<ipython-input-356-7cf25934e432>\"\u001b[1;36m, line \u001b[1;32m2\u001b[0m\n\u001b[1;33m    b[[2:5]]\u001b[0m\n\u001b[1;37m        ^\u001b[0m\n\u001b[1;31mSyntaxError\u001b[0m\u001b[1;31m:\u001b[0m invalid syntax\n"
     ]
    }
   ],
   "source": [
    "# Error\n",
    "b[[2:5]]"
   ]
  },
  {
   "cell_type": "code",
   "execution_count": 358,
   "id": "a286e6dd",
   "metadata": {},
   "outputs": [
    {
     "data": {
      "text/plain": [
       "array([[ 0,  2,  4],\n",
       "       [ 5,  7,  9],\n",
       "       [10, 12, 14],\n",
       "       [15, 17, 19],\n",
       "       [20, 22, 24],\n",
       "       [25, 27, 29],\n",
       "       [30, 32, 34],\n",
       "       [35, 37, 39],\n",
       "       [40, 42, 44],\n",
       "       [45, 47, 49],\n",
       "       [50, 52, 54],\n",
       "       [55, 57, 59],\n",
       "       [60, 62, 64],\n",
       "       [65, 67, 69],\n",
       "       [70, 72, 74],\n",
       "       [75, 77, 79],\n",
       "       [80, 82, 84],\n",
       "       [85, 87, 89],\n",
       "       [90, 92, 94],\n",
       "       [95, 97, 99]])"
      ]
     },
     "execution_count": 358,
     "metadata": {},
     "output_type": "execute_result"
    }
   ],
   "source": [
    "b[:,[0,2,4]] # 모든행에서 0, 2, 4열"
   ]
  },
  {
   "cell_type": "markdown",
   "id": "cf732e95",
   "metadata": {},
   "source": [
    "fancy indexing은 내부적으로 copy해주는 방식이다."
   ]
  },
  {
   "cell_type": "code",
   "execution_count": 359,
   "id": "40d8bb21",
   "metadata": {},
   "outputs": [],
   "source": [
    "c = b[[1,3,5]] # fancy indexing으로 가져옴"
   ]
  },
  {
   "cell_type": "code",
   "execution_count": 361,
   "id": "cdb551cb",
   "metadata": {},
   "outputs": [
    {
     "data": {
      "text/plain": [
       "array([[ 5,  6,  7,  8,  9],\n",
       "       [15, 16, 17, 18, 19],\n",
       "       [25, 26, 27, 28, 29]])"
      ]
     },
     "execution_count": 361,
     "metadata": {},
     "output_type": "execute_result"
    }
   ],
   "source": [
    "c"
   ]
  },
  {
   "cell_type": "code",
   "execution_count": 362,
   "id": "7000a572",
   "metadata": {},
   "outputs": [],
   "source": [
    "c[0][0] = 120"
   ]
  },
  {
   "cell_type": "code",
   "execution_count": 363,
   "id": "9b83aaf5",
   "metadata": {},
   "outputs": [
    {
     "data": {
      "text/plain": [
       "array([[120,   6,   7,   8,   9],\n",
       "       [ 15,  16,  17,  18,  19],\n",
       "       [ 25,  26,  27,  28,  29]])"
      ]
     },
     "execution_count": 363,
     "metadata": {},
     "output_type": "execute_result"
    }
   ],
   "source": [
    "c"
   ]
  },
  {
   "cell_type": "code",
   "execution_count": 364,
   "id": "0c71ddb2",
   "metadata": {},
   "outputs": [
    {
     "data": {
      "text/plain": [
       "array([[ 0,  1,  2,  3,  4],\n",
       "       [ 5,  6,  7,  8,  9],\n",
       "       [10, 11, 12, 13, 14],\n",
       "       [15, 16, 17, 18, 19],\n",
       "       [20, 21, 22, 23, 24],\n",
       "       [25, 26, 27, 28, 29],\n",
       "       [30, 31, 32, 33, 34],\n",
       "       [35, 36, 37, 38, 39],\n",
       "       [40, 41, 42, 43, 44],\n",
       "       [45, 46, 47, 48, 49],\n",
       "       [50, 51, 52, 53, 54],\n",
       "       [55, 56, 57, 58, 59],\n",
       "       [60, 61, 62, 63, 64],\n",
       "       [65, 66, 67, 68, 69],\n",
       "       [70, 71, 72, 73, 74],\n",
       "       [75, 76, 77, 78, 79],\n",
       "       [80, 81, 82, 83, 84],\n",
       "       [85, 86, 87, 88, 89],\n",
       "       [90, 91, 92, 93, 94],\n",
       "       [95, 96, 97, 98, 99]])"
      ]
     },
     "execution_count": 364,
     "metadata": {},
     "output_type": "execute_result"
    }
   ],
   "source": [
    "# b는 안바뀜\n",
    "b"
   ]
  },
  {
   "cell_type": "code",
   "execution_count": 365,
   "id": "b9ae52ed",
   "metadata": {},
   "outputs": [
    {
     "data": {
      "text/plain": [
       "False"
      ]
     },
     "execution_count": 365,
     "metadata": {},
     "output_type": "execute_result"
    }
   ],
   "source": [
    "b is c # 주소 다름"
   ]
  },
  {
   "cell_type": "code",
   "execution_count": null,
   "id": "457d2cd5",
   "metadata": {},
   "outputs": [],
   "source": []
  },
  {
   "cell_type": "code",
   "execution_count": null,
   "id": "31ca22a1",
   "metadata": {},
   "outputs": [],
   "source": []
  },
  {
   "cell_type": "code",
   "execution_count": null,
   "id": "0ec7e955",
   "metadata": {},
   "outputs": [],
   "source": []
  },
  {
   "cell_type": "code",
   "execution_count": null,
   "id": "95f195db",
   "metadata": {},
   "outputs": [],
   "source": []
  }
 ],
 "metadata": {
  "kernelspec": {
   "display_name": "kernel01",
   "language": "python",
   "name": "newenv39"
  }
 },
 "nbformat": 4,
 "nbformat_minor": 5
}