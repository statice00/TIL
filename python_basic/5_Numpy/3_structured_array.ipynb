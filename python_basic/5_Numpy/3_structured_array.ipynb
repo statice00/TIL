{
 "cells": [
  {
   "cell_type": "markdown",
   "id": "a8167efb",
   "metadata": {},
   "source": [
    "# structured array(구조화된 배열)\n",
    "\n",
    "- 빅데이터 분석/기계학습 전처리/pandas의 기초\n",
    "- 우리만의 데이터 타입을 만들 수 있다.\n",
    "- structured array(구조화된 배열)은 데이터 유형이 명명이 된 필드의 sequence로 구성된 더 간단한 유형의 구성인 ndarray이다.\n",
    "- 공식문서 : https://numpy.org/doc/stable/user/basics.rec.html"
   ]
  },
  {
   "cell_type": "code",
   "execution_count": 1,
   "id": "d99b02eb",
   "metadata": {},
   "outputs": [],
   "source": [
    "import numpy as np"
   ]
  },
  {
   "cell_type": "code",
   "execution_count": 5,
   "id": "66fdfbc8",
   "metadata": {},
   "outputs": [
    {
     "data": {
      "text/plain": [
       "array([['Rex', '9', '81.0'],\n",
       "       ['Fibo', '3', '27.0']], dtype='<U32')"
      ]
     },
     "execution_count": 5,
     "metadata": {},
     "output_type": "execute_result"
    }
   ],
   "source": [
    "x = np.array([('Rex', 9, 81.0),('Fibo', 3, 27.0)])\n",
    "x"
   ]
  },
  {
   "cell_type": "code",
   "execution_count": 8,
   "id": "a2b64413",
   "metadata": {},
   "outputs": [
    {
     "data": {
      "text/plain": [
       "numpy.str_"
      ]
     },
     "execution_count": 8,
     "metadata": {},
     "output_type": "execute_result"
    }
   ],
   "source": [
    "type(x[0][2]) # 배열은 str이 포함되어있으면 원소 다 str 처리해버림"
   ]
  },
  {
   "cell_type": "code",
   "execution_count": 9,
   "id": "ca6f34bb",
   "metadata": {},
   "outputs": [
    {
     "data": {
      "text/plain": [
       "array([('Rex', 9, 81.), ('Fibo', 3, 27.)],\n",
       "      dtype=[('name', '<U10'), ('age', '<i4'), ('weight', '<f4')])"
      ]
     },
     "execution_count": 9,
     "metadata": {},
     "output_type": "execute_result"
    }
   ],
   "source": [
    "# 각각 다른 데이터타입과 라벨 지정 가능\n",
    "# U로 시작 : 문자열\n",
    "# i로 시작 : 정수\n",
    "# f로 시작 : 실수\n",
    "x = np.array([('Rex', 9, 81.0),('Fibo', 3, 27.0)],dtype=[('name','U10'),('age','i4'),('weight','f4')])\n",
    "x"
   ]
  },
  {
   "cell_type": "code",
   "execution_count": 12,
   "id": "21862b38",
   "metadata": {},
   "outputs": [
    {
     "name": "stdout",
     "output_type": "stream",
     "text": [
      "<class 'numpy.str_'>\n",
      "<class 'numpy.int32'>\n",
      "<class 'numpy.float32'>\n"
     ]
    }
   ],
   "source": [
    "print(type(x[0][0]),type(x[0][1]),type(x[0][2]), sep = '\\n')"
   ]
  },
  {
   "cell_type": "code",
   "execution_count": 13,
   "id": "44e892dd",
   "metadata": {},
   "outputs": [
    {
     "data": {
      "text/plain": [
       "10"
      ]
     },
     "execution_count": 13,
     "metadata": {},
     "output_type": "execute_result"
    }
   ],
   "source": [
    "# dictonary접근방법\n",
    "m = {\"a\":10,\"b\":20}\n",
    "m[\"a\"]"
   ]
  },
  {
   "cell_type": "code",
   "execution_count": 14,
   "id": "b0a20656",
   "metadata": {},
   "outputs": [
    {
     "data": {
      "text/plain": [
       "array(['Rex', 'Fibo'], dtype='<U10')"
      ]
     },
     "execution_count": 14,
     "metadata": {},
     "output_type": "execute_result"
    }
   ],
   "source": [
    "# dictionary 방식으로 접근할 수 있다.\n",
    "x[\"name\"]"
   ]
  },
  {
   "cell_type": "code",
   "execution_count": 15,
   "id": "e4ff89a2",
   "metadata": {},
   "outputs": [
    {
     "data": {
      "text/plain": [
       "('Rex', 9, 81.)"
      ]
     },
     "execution_count": 15,
     "metadata": {},
     "output_type": "execute_result"
    }
   ],
   "source": [
    "# 인덱싱으로 데이터 가져옴\n",
    "x[0]"
   ]
  },
  {
   "cell_type": "code",
   "execution_count": 16,
   "id": "2f722535",
   "metadata": {},
   "outputs": [
    {
     "data": {
      "text/plain": [
       "array([('Rex', 9, 81.)],\n",
       "      dtype=[('name', '<U10'), ('age', '<i4'), ('weight', '<f4')])"
      ]
     },
     "execution_count": 16,
     "metadata": {},
     "output_type": "execute_result"
    }
   ],
   "source": [
    "# fancy indexing으로 데이터 가져옴\n",
    "x[[0]]"
   ]
  },
  {
   "cell_type": "code",
   "execution_count": 17,
   "id": "f048111a",
   "metadata": {},
   "outputs": [
    {
     "data": {
      "text/plain": [
       "array([('Rex', 9, 81.)],\n",
       "      dtype=[('name', '<U10'), ('age', '<i4'), ('weight', '<f4')])"
      ]
     },
     "execution_count": 17,
     "metadata": {},
     "output_type": "execute_result"
    }
   ],
   "source": [
    "# slicing 으로 데이터 가져옴\n",
    "x[0:1]"
   ]
  },
  {
   "cell_type": "code",
   "execution_count": 18,
   "id": "c54df2f4",
   "metadata": {},
   "outputs": [
    {
     "data": {
      "text/plain": [
       "array([('Rex', 9, 81.)],\n",
       "      dtype=[('name', '<U10'), ('age', '<i4'), ('weight', '<f4')])"
      ]
     },
     "execution_count": 18,
     "metadata": {},
     "output_type": "execute_result"
    }
   ],
   "source": [
    "# boolean indexing\n",
    "x[[True,False]]"
   ]
  },
  {
   "cell_type": "code",
   "execution_count": 19,
   "id": "db8ee9fc",
   "metadata": {},
   "outputs": [
    {
     "data": {
      "text/plain": [
       "dtype([('name', '<U10'), ('age', '<i4'), ('weight', '<f4')])"
      ]
     },
     "execution_count": 19,
     "metadata": {},
     "output_type": "execute_result"
    }
   ],
   "source": [
    "x.dtype"
   ]
  },
  {
   "cell_type": "code",
   "execution_count": 21,
   "id": "1fde0787",
   "metadata": {},
   "outputs": [
    {
     "data": {
      "text/plain": [
       "('name', 'age', 'weight')"
      ]
     },
     "execution_count": 21,
     "metadata": {},
     "output_type": "execute_result"
    }
   ],
   "source": [
    "# 이름만 가져오기\n",
    "x.dtype.names"
   ]
  },
  {
   "cell_type": "code",
   "execution_count": 22,
   "id": "42e37590",
   "metadata": {},
   "outputs": [
    {
     "data": {
      "text/plain": [
       "[('name', '<U10'), ('age', '<i4'), ('weight', '<f4')]"
      ]
     },
     "execution_count": 22,
     "metadata": {},
     "output_type": "execute_result"
    }
   ],
   "source": [
    "# 이름, 데이터타입 가져오기\n",
    "x.dtype.descr"
   ]
  },
  {
   "cell_type": "code",
   "execution_count": null,
   "id": "3bcd2207",
   "metadata": {},
   "outputs": [],
   "source": []
  },
  {
   "cell_type": "code",
   "execution_count": null,
   "id": "2caf27cf",
   "metadata": {},
   "outputs": [],
   "source": []
  }
 ],
 "metadata": {
  "kernelspec": {
   "display_name": "Python 3",
   "language": "python",
   "name": "python3"
  },
  "language_info": {
   "codemirror_mode": {
    "name": "ipython",
    "version": 3
   },
   "file_extension": ".py",
   "mimetype": "text/x-python",
   "name": "python",
   "nbconvert_exporter": "python",
   "pygments_lexer": "ipython3",
   "version": "3.8.8"
  }
 },
 "nbformat": 4,
 "nbformat_minor": 5
}
