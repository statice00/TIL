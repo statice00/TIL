{
 "cells": [
  {
   "cell_type": "markdown",
   "metadata": {},
   "source": [
    "## about data"
   ]
  },
  {
   "cell_type": "code",
   "execution_count": 1,
   "metadata": {
    "ExecuteTime": {
     "end_time": "2018-08-03T08:26:15.690793Z",
     "start_time": "2018-08-03T08:26:15.507201Z"
    }
   },
   "outputs": [],
   "source": [
    "# Pandas를 pd라는 이름으로 임포트한다\n",
    "import pandas as pd"
   ]
  },
  {
   "cell_type": "code",
   "execution_count": 2,
   "metadata": {
    "ExecuteTime": {
     "end_time": "2018-08-03T08:26:15.708374Z",
     "start_time": "2018-08-03T08:26:15.691921Z"
    }
   },
   "outputs": [
    {
     "data": {
      "text/html": [
       "<div>\n",
       "<style scoped>\n",
       "    .dataframe tbody tr th:only-of-type {\n",
       "        vertical-align: middle;\n",
       "    }\n",
       "\n",
       "    .dataframe tbody tr th {\n",
       "        vertical-align: top;\n",
       "    }\n",
       "\n",
       "    .dataframe thead th {\n",
       "        text-align: right;\n",
       "    }\n",
       "</style>\n",
       "<table border=\"1\" class=\"dataframe\">\n",
       "  <thead>\n",
       "    <tr style=\"text-align: right;\">\n",
       "      <th></th>\n",
       "      <th>학년</th>\n",
       "      <th>악력</th>\n",
       "      <th>윗몸일으키기</th>\n",
       "      <th>점수</th>\n",
       "      <th>순위</th>\n",
       "    </tr>\n",
       "    <tr>\n",
       "      <th>학생번호</th>\n",
       "      <th></th>\n",
       "      <th></th>\n",
       "      <th></th>\n",
       "      <th></th>\n",
       "      <th></th>\n",
       "    </tr>\n",
       "  </thead>\n",
       "  <tbody>\n",
       "    <tr>\n",
       "      <td>1</td>\n",
       "      <td>1</td>\n",
       "      <td>40.2</td>\n",
       "      <td>34</td>\n",
       "      <td>15</td>\n",
       "      <td>4</td>\n",
       "    </tr>\n",
       "    <tr>\n",
       "      <td>2</td>\n",
       "      <td>1</td>\n",
       "      <td>34.2</td>\n",
       "      <td>14</td>\n",
       "      <td>7</td>\n",
       "      <td>10</td>\n",
       "    </tr>\n",
       "    <tr>\n",
       "      <td>3</td>\n",
       "      <td>1</td>\n",
       "      <td>28.8</td>\n",
       "      <td>27</td>\n",
       "      <td>11</td>\n",
       "      <td>7</td>\n",
       "    </tr>\n",
       "    <tr>\n",
       "      <td>4</td>\n",
       "      <td>2</td>\n",
       "      <td>39.0</td>\n",
       "      <td>27</td>\n",
       "      <td>14</td>\n",
       "      <td>5</td>\n",
       "    </tr>\n",
       "    <tr>\n",
       "      <td>5</td>\n",
       "      <td>2</td>\n",
       "      <td>50.9</td>\n",
       "      <td>32</td>\n",
       "      <td>17</td>\n",
       "      <td>2</td>\n",
       "    </tr>\n",
       "    <tr>\n",
       "      <td>6</td>\n",
       "      <td>2</td>\n",
       "      <td>36.5</td>\n",
       "      <td>20</td>\n",
       "      <td>9</td>\n",
       "      <td>9</td>\n",
       "    </tr>\n",
       "    <tr>\n",
       "      <td>7</td>\n",
       "      <td>3</td>\n",
       "      <td>36.6</td>\n",
       "      <td>31</td>\n",
       "      <td>13</td>\n",
       "      <td>6</td>\n",
       "    </tr>\n",
       "    <tr>\n",
       "      <td>8</td>\n",
       "      <td>3</td>\n",
       "      <td>49.2</td>\n",
       "      <td>37</td>\n",
       "      <td>18</td>\n",
       "      <td>1</td>\n",
       "    </tr>\n",
       "    <tr>\n",
       "      <td>9</td>\n",
       "      <td>3</td>\n",
       "      <td>26.0</td>\n",
       "      <td>28</td>\n",
       "      <td>10</td>\n",
       "      <td>8</td>\n",
       "    </tr>\n",
       "    <tr>\n",
       "      <td>10</td>\n",
       "      <td>3</td>\n",
       "      <td>47.4</td>\n",
       "      <td>32</td>\n",
       "      <td>16</td>\n",
       "      <td>3</td>\n",
       "    </tr>\n",
       "  </tbody>\n",
       "</table>\n",
       "</div>"
      ],
      "text/plain": [
       "      학년    악력  윗몸일으키기  점수  순위\n",
       "학생번호                          \n",
       "1      1  40.2      34  15   4\n",
       "2      1  34.2      14   7  10\n",
       "3      1  28.8      27  11   7\n",
       "4      2  39.0      27  14   5\n",
       "5      2  50.9      32  17   2\n",
       "6      2  36.5      20   9   9\n",
       "7      3  36.6      31  13   6\n",
       "8      3  49.2      37  18   1\n",
       "9      3  26.0      28  10   8\n",
       "10     3  47.4      32  16   3"
      ]
     },
     "execution_count": 2,
     "metadata": {},
     "output_type": "execute_result"
    }
   ],
   "source": [
    "# 학생번호를 인덱스로 csv 파일을 읽어들여, 변수 df에 저장\n",
    "df = pd.read_csv('../data/ch1_sport_test.csv',\n",
    "                 index_col='학생번호')\n",
    "# 변수 df를 표시\n",
    "df"
   ]
  },
  {
   "cell_type": "code",
   "execution_count": 3,
   "metadata": {
    "ExecuteTime": {
     "end_time": "2018-08-03T08:26:15.712890Z",
     "start_time": "2018-08-03T08:26:15.709417Z"
    }
   },
   "outputs": [
    {
     "data": {
      "text/plain": [
       "학생번호\n",
       "1     40.2\n",
       "2     34.2\n",
       "3     28.8\n",
       "4     39.0\n",
       "5     50.9\n",
       "6     36.5\n",
       "7     36.6\n",
       "8     49.2\n",
       "9     26.0\n",
       "10    47.4\n",
       "Name: 악력, dtype: float64"
      ]
     },
     "execution_count": 3,
     "metadata": {},
     "output_type": "execute_result"
    }
   ],
   "source": [
    "# 특정 열만 출력\n",
    "# dataframe이 아닌 series 데이터 구조로 반환\n",
    "df['악력']"
   ]
  },
  {
   "cell_type": "markdown",
   "metadata": {},
   "source": [
    "### 1.1 데이터의 크기\n",
    "\n",
    "데이터가 주어지면 제일 먼저 확인하는 것은 `데이터의 크기`  "
   ]
  },
  {
   "cell_type": "code",
   "execution_count": 5,
   "metadata": {
    "ExecuteTime": {
     "end_time": "2018-08-03T08:26:15.716635Z",
     "start_time": "2018-08-03T08:26:15.714019Z"
    }
   },
   "outputs": [
    {
     "data": {
      "text/plain": [
       "(10, 5)"
      ]
     },
     "execution_count": 5,
     "metadata": {},
     "output_type": "execute_result"
    }
   ],
   "source": [
    "# pandas DataFrame의 크기는 shape로 확인가능\n",
    "# (데이터 수, 변수 개수)\n",
    "# 변수가 5개이므로 5차원(인덱스로 설정된 열은 여기서 변수 개수에 포함은 안되지만 원래는 포함해서 생각해야 함)\n",
    "df.shape"
   ]
  },
  {
   "cell_type": "markdown",
   "metadata": {},
   "source": [
    "### 1.2 변수의 종류\n",
    "\n",
    "#### 1.2.1 질적 변수와 양적 변수\n",
    "변수는 크게 질적 변수와 양적 변수 두 가지로 분류함.  \n",
    "`질적 변수`는 설문조사 등에서 만족도 등을 묻는 질문에 대한 답변으로\n",
    "```\n",
    "1. 매우 좋음  2. 좋음  3. 보통  4. 나쁨  5. 매우 나쁨\n",
    "```\n",
    "과 같이 선택이 필요한 변수  \n",
    "또는 혈액형의 경우  \n",
    "```\n",
    "A형 B형 O형 AB형\n",
    "```\n",
    "와 같이 종류를 구별하기 위한 변수\n",
    "질적 변수 중에서 `남성과 여성`, `흡연 여부` 등 값이 2개뿐인 질적 변수를 `2진 변수`라 함  \n",
    "\n",
    "<br/>\n",
    "\n",
    "시험 점수나 키와 뭄무게와 같이 양을 표현하는 변수를 `양적 변수`라고 함  \n",
    "남성, 여성과 같은 질적 변수를 0,1로 변환하여 `가변수`처리하는 경우도 있음. \n",
    "\n"
   ]
  },
  {
   "cell_type": "markdown",
   "metadata": {},
   "source": [
    "#### 1.2.2 척도 수준\n",
    "\n",
    "질적 변수는 각종 척도 수준으로 더 세분화됨.\n",
    "\n",
    "- 명의 척도  \n",
    "단순 분류 목적.  \n",
    "학생번호, 전화번호, 성별 등    \n",
    "구별이 목적이므로 변수의 동일성 여부에만 의미를 둠  \n",
    "즉, 대소 관계와 사칙연산 등은 의미 없음  \n",
    "\n",
    "- 순서 척도  \n",
    "순서 관계나 대소 관계에 의미가 있는 변수.  \n",
    "성적 순위, 설문조사 만족도 등  \n",
    "대소 관계에는 의미가 있으나 4등과 8등의 차이가 8등과 12등의 차이와 동일하다고 비교할 수 없으며,  \n",
    "4등은 8등의 2배라고 주장할 수도 없음  \n",
    "\n",
    "- 간격 척도  \n",
    "대소 관계 및 차이에 의미가 있는 변수  \n",
    "연도, 온도 등  \n",
    "60도는 30도보다 높은 온도로 대소 관계에 의미가 있고, 그 차이에 해당하는 수치도 의미가 있음.  \n",
    "그러나, 60도가 30도보다 2배 높은 온도라고 할 수는 없음  \n",
    "\n",
    "- 비례 척도  \n",
    "대소 관계, 차이, 비율 모두에 의미가 있는 변수  \n",
    "길이, 무게 등  \n",
    "'50cm와 100cm의 차이는 50cm, 100cm는 50cm의 2배' 모두 의미 있음  \n",
    "\n",
    "\n",
    "간격 척도와 비례 척도를 구분하는 요령 : 0이 '없음'을 나타내는지 여부로 구분. 0cm는 길이가 없음, 0도는 온도가 0도로 있음"
   ]
  },
  {
   "cell_type": "markdown",
   "metadata": {},
   "source": [
    "#### 1.2.3 이산형 변수와 연속형 변수\n",
    "\n",
    "질적, 양적 변수가 아닌 이산형, 연속형 변수로 구분하는 경우  \n",
    "\n",
    "`이산형 변수`는 0, 1, 2, ... 하나하나의 정수값을 취하는 변수로 연속되지 않음  \n",
    "주사위 눈, 학교 출석 횟수, 결석한 학생 수 등\n",
    "\n",
    "`연속형 변수`는 연속적인 실수값을 취하는 변수로 어떤 두 숫자 사이에 반드시 숫자가 존재함  \n",
    "길이, 무게, 시간 등\n",
    "\n",
    "실제로 다루는 데이터는 연속형 변수라도 측정 정밀도에 한계가 있어 띄엄띄엄 떨어진 값을 취할수밖에 없음  \n",
    "키를 소수점 첫 번째 자리까지의 정밀도로 측정하면 170.3cm와 170.4cm 사이에는 숫자가 존재하지 않아 엄밀하게는 이산형 변수로 분류되는 것이 맞음  \n",
    "이와 같은 측정 정밀도의 문제로 이산형이 되는 변수는 상당수 연속형 변수로 취급함"
   ]
  }
 ],
 "metadata": {
  "interpreter": {
   "hash": "efd6ec904ff637439b8e2238a558d198a673de39e2de840c06b69ca2e4c92fa2"
  },
  "kernelspec": {
   "display_name": "Python 3.8.8 64-bit ('DataEn': conda)",
   "name": "python3"
  },
  "language_info": {
   "codemirror_mode": {
    "name": "ipython",
    "version": 3
   },
   "file_extension": ".py",
   "mimetype": "text/x-python",
   "name": "python",
   "nbconvert_exporter": "python",
   "pygments_lexer": "ipython3",
   "version": "3.8.8"
  },
  "toc": {
   "nav_menu": {},
   "number_sections": true,
   "sideBar": true,
   "skip_h1_title": false,
   "toc_cell": false,
   "toc_position": {},
   "toc_section_display": "block",
   "toc_window_display": false
  }
 },
 "nbformat": 4,
 "nbformat_minor": 2
}
